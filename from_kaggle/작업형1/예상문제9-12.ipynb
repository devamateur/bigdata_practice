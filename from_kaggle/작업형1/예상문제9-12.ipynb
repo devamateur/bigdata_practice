{
 "cells": [
  {
   "cell_type": "markdown",
   "id": "c6b9e0f1",
   "metadata": {},
   "source": [
    "## 9. 수치형 변수 변환하기\n",
    "\n",
    "\n",
    "### 주어진 데이터에서 'f5'컬럼을 표준화(Standardization (Z-score Normalization))하고 그 중앙값을 구하시오\n",
    "- 데이터셋 : basic1.csv"
   ]
  },
  {
   "cell_type": "code",
   "execution_count": 23,
   "id": "7f2da885",
   "metadata": {},
   "outputs": [
    {
     "data": {
      "text/html": [
       "<div>\n",
       "<style scoped>\n",
       "    .dataframe tbody tr th:only-of-type {\n",
       "        vertical-align: middle;\n",
       "    }\n",
       "\n",
       "    .dataframe tbody tr th {\n",
       "        vertical-align: top;\n",
       "    }\n",
       "\n",
       "    .dataframe thead th {\n",
       "        text-align: right;\n",
       "    }\n",
       "</style>\n",
       "<table border=\"1\" class=\"dataframe\">\n",
       "  <thead>\n",
       "    <tr style=\"text-align: right;\">\n",
       "      <th></th>\n",
       "      <th>id</th>\n",
       "      <th>age</th>\n",
       "      <th>city</th>\n",
       "      <th>f1</th>\n",
       "      <th>f2</th>\n",
       "      <th>f3</th>\n",
       "      <th>f4</th>\n",
       "      <th>f5</th>\n",
       "    </tr>\n",
       "  </thead>\n",
       "  <tbody>\n",
       "    <tr>\n",
       "      <th>0</th>\n",
       "      <td>id01</td>\n",
       "      <td>2.0</td>\n",
       "      <td>서울</td>\n",
       "      <td>NaN</td>\n",
       "      <td>0</td>\n",
       "      <td>NaN</td>\n",
       "      <td>ENFJ</td>\n",
       "      <td>91.297791</td>\n",
       "    </tr>\n",
       "    <tr>\n",
       "      <th>1</th>\n",
       "      <td>id02</td>\n",
       "      <td>9.0</td>\n",
       "      <td>서울</td>\n",
       "      <td>70.0</td>\n",
       "      <td>1</td>\n",
       "      <td>NaN</td>\n",
       "      <td>ENFJ</td>\n",
       "      <td>60.339826</td>\n",
       "    </tr>\n",
       "    <tr>\n",
       "      <th>2</th>\n",
       "      <td>id03</td>\n",
       "      <td>27.0</td>\n",
       "      <td>서울</td>\n",
       "      <td>61.0</td>\n",
       "      <td>1</td>\n",
       "      <td>NaN</td>\n",
       "      <td>ISTJ</td>\n",
       "      <td>17.252986</td>\n",
       "    </tr>\n",
       "    <tr>\n",
       "      <th>3</th>\n",
       "      <td>id04</td>\n",
       "      <td>75.0</td>\n",
       "      <td>서울</td>\n",
       "      <td>NaN</td>\n",
       "      <td>2</td>\n",
       "      <td>NaN</td>\n",
       "      <td>INFP</td>\n",
       "      <td>52.667078</td>\n",
       "    </tr>\n",
       "    <tr>\n",
       "      <th>4</th>\n",
       "      <td>id05</td>\n",
       "      <td>24.0</td>\n",
       "      <td>서울</td>\n",
       "      <td>85.0</td>\n",
       "      <td>2</td>\n",
       "      <td>NaN</td>\n",
       "      <td>ISFJ</td>\n",
       "      <td>29.269869</td>\n",
       "    </tr>\n",
       "  </tbody>\n",
       "</table>\n",
       "</div>"
      ],
      "text/plain": [
       "     id   age city    f1  f2   f3    f4         f5\n",
       "0  id01   2.0   서울   NaN   0  NaN  ENFJ  91.297791\n",
       "1  id02   9.0   서울  70.0   1  NaN  ENFJ  60.339826\n",
       "2  id03  27.0   서울  61.0   1  NaN  ISTJ  17.252986\n",
       "3  id04  75.0   서울   NaN   2  NaN  INFP  52.667078\n",
       "4  id05  24.0   서울  85.0   2  NaN  ISFJ  29.269869"
      ]
     },
     "execution_count": 23,
     "metadata": {},
     "output_type": "execute_result"
    }
   ],
   "source": [
    "import pandas as pd\n",
    "\n",
    "df = pd.read_csv('../data/basic1.csv')\n",
    "\n",
    "df.head()"
   ]
  },
  {
   "cell_type": "code",
   "execution_count": 31,
   "id": "530d5f68",
   "metadata": {},
   "outputs": [
    {
     "data": {
      "text/plain": [
       "0     1.214696\n",
       "1     0.126705\n",
       "2    -1.387545\n",
       "3    -0.142947\n",
       "4    -0.965222\n",
       "        ...   \n",
       "95   -0.142947\n",
       "96    0.391922\n",
       "97    1.465348\n",
       "98    1.428486\n",
       "99   -0.823270\n",
       "Name: f5, Length: 100, dtype: float64"
      ]
     },
     "execution_count": 31,
     "metadata": {},
     "output_type": "execute_result"
    }
   ],
   "source": [
    "# z score 표준화: x-x평균/x표준편차\n",
    "\n",
    "average = df['f5'].mean()\n",
    "std = df['f5'].std(ddof=1)\n",
    "\n",
    "z_score = (df['f5']-average)/std\n",
    "z_score"
   ]
  },
  {
   "cell_type": "code",
   "execution_count": 32,
   "id": "93c2e667",
   "metadata": {},
   "outputs": [
    {
     "name": "stdout",
     "output_type": "stream",
     "text": [
      "0.25931325727460064\n"
     ]
    }
   ],
   "source": [
    "print(z_score.median())"
   ]
  },
  {
   "cell_type": "code",
   "execution_count": 28,
   "id": "a106a063",
   "metadata": {},
   "outputs": [
    {
     "data": {
      "text/plain": [
       "0     1.220815\n",
       "1     0.127343\n",
       "2    -1.394535\n",
       "3    -0.143667\n",
       "4    -0.970085\n",
       "        ...   \n",
       "95   -0.143667\n",
       "96    0.393896\n",
       "97    1.472730\n",
       "98    1.435683\n",
       "99   -0.827418\n",
       "Name: f5, Length: 100, dtype: float64"
      ]
     },
     "execution_count": 28,
     "metadata": {},
     "output_type": "execute_result"
    }
   ],
   "source": [
    "# 방법2. standard scaler 사용\n",
    "from sklearn.preprocessing import StandardScaler\n",
    "\n",
    "scaler = StandardScaler()\n",
    "df['f5'] = scaler.fit_transform(df[['f5']])\n",
    "df['f5']"
   ]
  },
  {
   "cell_type": "code",
   "execution_count": 29,
   "id": "4ba10d32",
   "metadata": {},
   "outputs": [
    {
     "name": "stdout",
     "output_type": "stream",
     "text": [
      "0.26061962955901474\n"
     ]
    }
   ],
   "source": [
    "print(df['f5'].median())"
   ]
  },
  {
   "cell_type": "code",
   "execution_count": 37,
   "id": "b00dee3e",
   "metadata": {},
   "outputs": [],
   "source": [
    "## 같은 z-score 정규화인데 결과가 다르다\n",
    "## standard scaler를 사용하는게 안전할 듯..."
   ]
  },
  {
   "cell_type": "markdown",
   "id": "fdab5c4d",
   "metadata": {},
   "source": [
    "<br><br>\n",
    "## 11. min-max스케일링 기준 상하위 5% 구하기\n",
    "### 주어진 데이터에서 'f5'컬럼을 min-max 스케일 변환한 후, 상위 5%와 하위 5% 값의 합을 구하시오\n",
    "- 데이터셋: basic1.csv"
   ]
  },
  {
   "cell_type": "code",
   "execution_count": 38,
   "id": "fa2f4021",
   "metadata": {},
   "outputs": [
    {
     "data": {
      "text/html": [
       "<div>\n",
       "<style scoped>\n",
       "    .dataframe tbody tr th:only-of-type {\n",
       "        vertical-align: middle;\n",
       "    }\n",
       "\n",
       "    .dataframe tbody tr th {\n",
       "        vertical-align: top;\n",
       "    }\n",
       "\n",
       "    .dataframe thead th {\n",
       "        text-align: right;\n",
       "    }\n",
       "</style>\n",
       "<table border=\"1\" class=\"dataframe\">\n",
       "  <thead>\n",
       "    <tr style=\"text-align: right;\">\n",
       "      <th></th>\n",
       "      <th>id</th>\n",
       "      <th>age</th>\n",
       "      <th>city</th>\n",
       "      <th>f1</th>\n",
       "      <th>f2</th>\n",
       "      <th>f3</th>\n",
       "      <th>f4</th>\n",
       "      <th>f5</th>\n",
       "    </tr>\n",
       "  </thead>\n",
       "  <tbody>\n",
       "    <tr>\n",
       "      <th>0</th>\n",
       "      <td>id01</td>\n",
       "      <td>2.0</td>\n",
       "      <td>서울</td>\n",
       "      <td>NaN</td>\n",
       "      <td>0</td>\n",
       "      <td>NaN</td>\n",
       "      <td>ENFJ</td>\n",
       "      <td>91.297791</td>\n",
       "    </tr>\n",
       "    <tr>\n",
       "      <th>1</th>\n",
       "      <td>id02</td>\n",
       "      <td>9.0</td>\n",
       "      <td>서울</td>\n",
       "      <td>70.0</td>\n",
       "      <td>1</td>\n",
       "      <td>NaN</td>\n",
       "      <td>ENFJ</td>\n",
       "      <td>60.339826</td>\n",
       "    </tr>\n",
       "    <tr>\n",
       "      <th>2</th>\n",
       "      <td>id03</td>\n",
       "      <td>27.0</td>\n",
       "      <td>서울</td>\n",
       "      <td>61.0</td>\n",
       "      <td>1</td>\n",
       "      <td>NaN</td>\n",
       "      <td>ISTJ</td>\n",
       "      <td>17.252986</td>\n",
       "    </tr>\n",
       "    <tr>\n",
       "      <th>3</th>\n",
       "      <td>id04</td>\n",
       "      <td>75.0</td>\n",
       "      <td>서울</td>\n",
       "      <td>NaN</td>\n",
       "      <td>2</td>\n",
       "      <td>NaN</td>\n",
       "      <td>INFP</td>\n",
       "      <td>52.667078</td>\n",
       "    </tr>\n",
       "    <tr>\n",
       "      <th>4</th>\n",
       "      <td>id05</td>\n",
       "      <td>24.0</td>\n",
       "      <td>서울</td>\n",
       "      <td>85.0</td>\n",
       "      <td>2</td>\n",
       "      <td>NaN</td>\n",
       "      <td>ISFJ</td>\n",
       "      <td>29.269869</td>\n",
       "    </tr>\n",
       "  </tbody>\n",
       "</table>\n",
       "</div>"
      ],
      "text/plain": [
       "     id   age city    f1  f2   f3    f4         f5\n",
       "0  id01   2.0   서울   NaN   0  NaN  ENFJ  91.297791\n",
       "1  id02   9.0   서울  70.0   1  NaN  ENFJ  60.339826\n",
       "2  id03  27.0   서울  61.0   1  NaN  ISTJ  17.252986\n",
       "3  id04  75.0   서울   NaN   2  NaN  INFP  52.667078\n",
       "4  id05  24.0   서울  85.0   2  NaN  ISFJ  29.269869"
      ]
     },
     "execution_count": 38,
     "metadata": {},
     "output_type": "execute_result"
    }
   ],
   "source": [
    "import pandas as pd\n",
    "\n",
    "df = pd.read_csv('../data/basic1.csv')\n",
    "df.head()"
   ]
  },
  {
   "cell_type": "code",
   "execution_count": 40,
   "id": "e99e249e",
   "metadata": {},
   "outputs": [
    {
     "data": {
      "text/plain": [
       "100"
      ]
     },
     "execution_count": 40,
     "metadata": {},
     "output_type": "execute_result"
    }
   ],
   "source": [
    "len(df)"
   ]
  },
  {
   "cell_type": "code",
   "execution_count": 42,
   "id": "41759307",
   "metadata": {},
   "outputs": [
    {
     "data": {
      "text/plain": [
       "0     0.919533\n",
       "1     0.570252\n",
       "2     0.084129\n",
       "3     0.483685\n",
       "4     0.219708\n",
       "        ...   \n",
       "95    0.483685\n",
       "96    0.655395\n",
       "97    1.000000\n",
       "98    0.988166\n",
       "99    0.265279\n",
       "Name: f5, Length: 100, dtype: float64"
      ]
     },
     "execution_count": 42,
     "metadata": {},
     "output_type": "execute_result"
    }
   ],
   "source": [
    "# 방법1. 직접 계산\n",
    "# min-max 정규화\n",
    "\n",
    "min_max = (df['f5']-df['f5'].min()) / (df['f5'].max() - df['f5'].min())\n",
    "min_max"
   ]
  },
  {
   "cell_type": "code",
   "execution_count": 47,
   "id": "34d17225",
   "metadata": {},
   "outputs": [
    {
     "data": {
      "text/plain": [
       "10    1.000000\n",
       "9     1.000000\n",
       "76    1.000000\n",
       "97    1.000000\n",
       "98    0.988166\n",
       "91    0.988166\n",
       "86    0.988166\n",
       "71    0.988166\n",
       "11    0.919533\n",
       "19    0.919533\n",
       "Name: f5, dtype: float64"
      ]
     },
     "execution_count": 47,
     "metadata": {},
     "output_type": "execute_result"
    }
   ],
   "source": [
    "min_max = min_max.sort_values(ascending=False)\n",
    "min_max[:10]"
   ]
  },
  {
   "cell_type": "code",
   "execution_count": 50,
   "id": "10dab83b",
   "metadata": {},
   "outputs": [
    {
     "data": {
      "text/plain": [
       "0.9881662742993513"
      ]
     },
     "execution_count": 50,
     "metadata": {},
     "output_type": "execute_result"
    }
   ],
   "source": [
    "top_5 = min_max.iloc[int(100*0.05)]\n",
    "top_5"
   ]
  },
  {
   "cell_type": "code",
   "execution_count": 52,
   "id": "a4f1ba3b",
   "metadata": {},
   "outputs": [
    {
     "data": {
      "text/plain": [
       "0.03670782406038746"
      ]
     },
     "execution_count": 52,
     "metadata": {},
     "output_type": "execute_result"
    }
   ],
   "source": [
    "low_5 = min_max.iloc[-int(100*0.05)]\n",
    "low_5"
   ]
  },
  {
   "cell_type": "code",
   "execution_count": 53,
   "id": "ab17bbf2",
   "metadata": {},
   "outputs": [
    {
     "name": "stdout",
     "output_type": "stream",
     "text": [
      "1.0248740983597389\n"
     ]
    }
   ],
   "source": [
    "print(top_5 + low_5)"
   ]
  },
  {
   "cell_type": "code",
   "execution_count": 55,
   "id": "9e016f01",
   "metadata": {},
   "outputs": [
    {
     "name": "stdout",
     "output_type": "stream",
     "text": [
      "0.03670782406038746\n",
      "0.9881662742993513\n",
      "1.0248740983597389\n"
     ]
    }
   ],
   "source": [
    "# 방법2. scaler 사용\n",
    "\n",
    "# min-max scale 방법1\n",
    "from sklearn.preprocessing import MinMaxScaler\n",
    "scaler = MinMaxScaler()\n",
    "df['f5_1'] = scaler.fit_transform(df[['f5']])\n",
    "\n",
    "# 하위 5%, 상위 5% 값 구하기\n",
    "lower = df['f5_1'].quantile(0.05)\n",
    "print(lower)\n",
    "\n",
    "upper = df['f5_1'].quantile(0.95)\n",
    "print(upper)\n",
    "\n",
    "print(lower + upper)"
   ]
  },
  {
   "cell_type": "markdown",
   "id": "d082514e",
   "metadata": {},
   "source": [
    "<br><br>\n",
    "\n",
    "## 12. 주어진 데이터에서 상위 10개 국가의 접종률 평균과 하위 10개 국가의 접종률 평균을 구하고, 그 차이를 구해보세요 \n",
    "## (단, 100%가 넘는 접종률 제거, 소수 첫째자리까지 출력)\n",
    "- 데이터셋 : /covid-vaccination-vs-death_ratio/covid-vaccination-vs-death_ratio.csv"
   ]
  },
  {
   "cell_type": "code",
   "execution_count": 148,
   "id": "fd828f16",
   "metadata": {},
   "outputs": [
    {
     "data": {
      "text/html": [
       "<div>\n",
       "<style scoped>\n",
       "    .dataframe tbody tr th:only-of-type {\n",
       "        vertical-align: middle;\n",
       "    }\n",
       "\n",
       "    .dataframe tbody tr th {\n",
       "        vertical-align: top;\n",
       "    }\n",
       "\n",
       "    .dataframe thead th {\n",
       "        text-align: right;\n",
       "    }\n",
       "</style>\n",
       "<table border=\"1\" class=\"dataframe\">\n",
       "  <thead>\n",
       "    <tr style=\"text-align: right;\">\n",
       "      <th></th>\n",
       "      <th>Unnamed: 0</th>\n",
       "      <th>country</th>\n",
       "      <th>iso_code</th>\n",
       "      <th>date</th>\n",
       "      <th>total_vaccinations</th>\n",
       "      <th>people_vaccinated</th>\n",
       "      <th>people_fully_vaccinated</th>\n",
       "      <th>New_deaths</th>\n",
       "      <th>population</th>\n",
       "      <th>ratio</th>\n",
       "    </tr>\n",
       "  </thead>\n",
       "  <tbody>\n",
       "    <tr>\n",
       "      <th>0</th>\n",
       "      <td>0</td>\n",
       "      <td>Afghanistan</td>\n",
       "      <td>AFG</td>\n",
       "      <td>2021-05-11</td>\n",
       "      <td>504502.0</td>\n",
       "      <td>448878.0</td>\n",
       "      <td>55624.0</td>\n",
       "      <td>12</td>\n",
       "      <td>40374668.0</td>\n",
       "      <td>1.111781</td>\n",
       "    </tr>\n",
       "    <tr>\n",
       "      <th>1</th>\n",
       "      <td>1</td>\n",
       "      <td>Afghanistan</td>\n",
       "      <td>AFG</td>\n",
       "      <td>2021-05-20</td>\n",
       "      <td>547901.0</td>\n",
       "      <td>470341.0</td>\n",
       "      <td>77560.0</td>\n",
       "      <td>10</td>\n",
       "      <td>40374668.0</td>\n",
       "      <td>1.164941</td>\n",
       "    </tr>\n",
       "    <tr>\n",
       "      <th>2</th>\n",
       "      <td>2</td>\n",
       "      <td>Afghanistan</td>\n",
       "      <td>AFG</td>\n",
       "      <td>2021-05-24</td>\n",
       "      <td>573277.0</td>\n",
       "      <td>476367.0</td>\n",
       "      <td>96910.0</td>\n",
       "      <td>10</td>\n",
       "      <td>40374668.0</td>\n",
       "      <td>1.179866</td>\n",
       "    </tr>\n",
       "    <tr>\n",
       "      <th>3</th>\n",
       "      <td>3</td>\n",
       "      <td>Afghanistan</td>\n",
       "      <td>AFG</td>\n",
       "      <td>2021-05-26</td>\n",
       "      <td>590454.0</td>\n",
       "      <td>479372.0</td>\n",
       "      <td>111082.0</td>\n",
       "      <td>19</td>\n",
       "      <td>40374668.0</td>\n",
       "      <td>1.187309</td>\n",
       "    </tr>\n",
       "    <tr>\n",
       "      <th>4</th>\n",
       "      <td>4</td>\n",
       "      <td>Afghanistan</td>\n",
       "      <td>AFG</td>\n",
       "      <td>2021-05-27</td>\n",
       "      <td>593313.0</td>\n",
       "      <td>479574.0</td>\n",
       "      <td>113739.0</td>\n",
       "      <td>14</td>\n",
       "      <td>40374668.0</td>\n",
       "      <td>1.187809</td>\n",
       "    </tr>\n",
       "  </tbody>\n",
       "</table>\n",
       "</div>"
      ],
      "text/plain": [
       "   Unnamed: 0      country iso_code        date  total_vaccinations  \\\n",
       "0           0  Afghanistan      AFG  2021-05-11            504502.0   \n",
       "1           1  Afghanistan      AFG  2021-05-20            547901.0   \n",
       "2           2  Afghanistan      AFG  2021-05-24            573277.0   \n",
       "3           3  Afghanistan      AFG  2021-05-26            590454.0   \n",
       "4           4  Afghanistan      AFG  2021-05-27            593313.0   \n",
       "\n",
       "   people_vaccinated  people_fully_vaccinated  New_deaths  population  \\\n",
       "0           448878.0                  55624.0          12  40374668.0   \n",
       "1           470341.0                  77560.0          10  40374668.0   \n",
       "2           476367.0                  96910.0          10  40374668.0   \n",
       "3           479372.0                 111082.0          19  40374668.0   \n",
       "4           479574.0                 113739.0          14  40374668.0   \n",
       "\n",
       "      ratio  \n",
       "0  1.111781  \n",
       "1  1.164941  \n",
       "2  1.179866  \n",
       "3  1.187309  \n",
       "4  1.187809  "
      ]
     },
     "execution_count": 148,
     "metadata": {},
     "output_type": "execute_result"
    }
   ],
   "source": [
    "import pandas as pd\n",
    "\n",
    "df = pd.read_csv('../data/covid-vaccination-vs-death_ratio/covid-vaccination-vs-death_ratio.csv')\n",
    "df.head()"
   ]
  },
  {
   "cell_type": "code",
   "execution_count": 132,
   "id": "0c37081b",
   "metadata": {},
   "outputs": [
    {
     "data": {
      "text/plain": [
       "(32911, 10)"
      ]
     },
     "execution_count": 132,
     "metadata": {},
     "output_type": "execute_result"
    }
   ],
   "source": [
    "df.shape"
   ]
  },
  {
   "cell_type": "code",
   "execution_count": 133,
   "id": "182ec0eb",
   "metadata": {},
   "outputs": [
    {
     "data": {
      "text/plain": [
       "United States of America       471\n",
       "Israel                         466\n",
       "Switzerland                    463\n",
       "Germany                        458\n",
       "Estonia                        458\n",
       "                              ... \n",
       "Tuvalu                           4\n",
       "Niue                             4\n",
       "Turkmenistan                     3\n",
       "Falkland Islands (Malvinas)      2\n",
       "Tokelau                          1\n",
       "Name: country, Length: 197, dtype: int64"
      ]
     },
     "execution_count": 133,
     "metadata": {},
     "output_type": "execute_result"
    }
   ],
   "source": [
    "df['country'].value_counts()"
   ]
  },
  {
   "cell_type": "code",
   "execution_count": 134,
   "id": "98f15002",
   "metadata": {},
   "outputs": [
    {
     "data": {
      "text/html": [
       "<div>\n",
       "<style scoped>\n",
       "    .dataframe tbody tr th:only-of-type {\n",
       "        vertical-align: middle;\n",
       "    }\n",
       "\n",
       "    .dataframe tbody tr th {\n",
       "        vertical-align: top;\n",
       "    }\n",
       "\n",
       "    .dataframe thead th {\n",
       "        text-align: right;\n",
       "    }\n",
       "</style>\n",
       "<table border=\"1\" class=\"dataframe\">\n",
       "  <thead>\n",
       "    <tr style=\"text-align: right;\">\n",
       "      <th></th>\n",
       "      <th>Unnamed: 0</th>\n",
       "      <th>country</th>\n",
       "      <th>iso_code</th>\n",
       "      <th>date</th>\n",
       "      <th>total_vaccinations</th>\n",
       "      <th>people_vaccinated</th>\n",
       "      <th>people_fully_vaccinated</th>\n",
       "      <th>New_deaths</th>\n",
       "      <th>population</th>\n",
       "      <th>ratio</th>\n",
       "    </tr>\n",
       "  </thead>\n",
       "  <tbody>\n",
       "    <tr>\n",
       "      <th>11368</th>\n",
       "      <td>11368</td>\n",
       "      <td>Gibraltar</td>\n",
       "      <td>GIB</td>\n",
       "      <td>2022-03-24</td>\n",
       "      <td>116358.0</td>\n",
       "      <td>42034.0</td>\n",
       "      <td>41228.0</td>\n",
       "      <td>0</td>\n",
       "      <td>33698.0</td>\n",
       "      <td>124.737373</td>\n",
       "    </tr>\n",
       "    <tr>\n",
       "      <th>11367</th>\n",
       "      <td>11367</td>\n",
       "      <td>Gibraltar</td>\n",
       "      <td>GIB</td>\n",
       "      <td>2022-03-23</td>\n",
       "      <td>115847.0</td>\n",
       "      <td>42028.0</td>\n",
       "      <td>41205.0</td>\n",
       "      <td>0</td>\n",
       "      <td>33698.0</td>\n",
       "      <td>124.719568</td>\n",
       "    </tr>\n",
       "    <tr>\n",
       "      <th>11366</th>\n",
       "      <td>11366</td>\n",
       "      <td>Gibraltar</td>\n",
       "      <td>GIB</td>\n",
       "      <td>2022-03-22</td>\n",
       "      <td>115581.0</td>\n",
       "      <td>42026.0</td>\n",
       "      <td>41123.0</td>\n",
       "      <td>0</td>\n",
       "      <td>33698.0</td>\n",
       "      <td>124.713633</td>\n",
       "    </tr>\n",
       "    <tr>\n",
       "      <th>11365</th>\n",
       "      <td>11365</td>\n",
       "      <td>Gibraltar</td>\n",
       "      <td>GIB</td>\n",
       "      <td>2022-03-21</td>\n",
       "      <td>115273.0</td>\n",
       "      <td>42025.0</td>\n",
       "      <td>41119.0</td>\n",
       "      <td>0</td>\n",
       "      <td>33698.0</td>\n",
       "      <td>124.710665</td>\n",
       "    </tr>\n",
       "    <tr>\n",
       "      <th>11364</th>\n",
       "      <td>11364</td>\n",
       "      <td>Gibraltar</td>\n",
       "      <td>GIB</td>\n",
       "      <td>2022-03-15</td>\n",
       "      <td>114420.0</td>\n",
       "      <td>42012.0</td>\n",
       "      <td>40969.0</td>\n",
       "      <td>0</td>\n",
       "      <td>33698.0</td>\n",
       "      <td>124.672087</td>\n",
       "    </tr>\n",
       "    <tr>\n",
       "      <th>...</th>\n",
       "      <td>...</td>\n",
       "      <td>...</td>\n",
       "      <td>...</td>\n",
       "      <td>...</td>\n",
       "      <td>...</td>\n",
       "      <td>...</td>\n",
       "      <td>...</td>\n",
       "      <td>...</td>\n",
       "      <td>...</td>\n",
       "      <td>...</td>\n",
       "    </tr>\n",
       "    <tr>\n",
       "      <th>14351</th>\n",
       "      <td>14351</td>\n",
       "      <td>Israel</td>\n",
       "      <td>ISR</td>\n",
       "      <td>2020-12-19</td>\n",
       "      <td>70.0</td>\n",
       "      <td>66.0</td>\n",
       "      <td>4.0</td>\n",
       "      <td>16</td>\n",
       "      <td>8868656.0</td>\n",
       "      <td>0.000744</td>\n",
       "    </tr>\n",
       "    <tr>\n",
       "      <th>18817</th>\n",
       "      <td>18817</td>\n",
       "      <td>Malaysia</td>\n",
       "      <td>MYS</td>\n",
       "      <td>2021-02-24</td>\n",
       "      <td>66.0</td>\n",
       "      <td>63.0</td>\n",
       "      <td>3.0</td>\n",
       "      <td>14</td>\n",
       "      <td>33015425.0</td>\n",
       "      <td>0.000191</td>\n",
       "    </tr>\n",
       "    <tr>\n",
       "      <th>28860</th>\n",
       "      <td>28860</td>\n",
       "      <td>Switzerland</td>\n",
       "      <td>CHE</td>\n",
       "      <td>2020-12-22</td>\n",
       "      <td>3.0</td>\n",
       "      <td>3.0</td>\n",
       "      <td>1.0</td>\n",
       "      <td>89</td>\n",
       "      <td>8752564.0</td>\n",
       "      <td>0.000034</td>\n",
       "    </tr>\n",
       "    <tr>\n",
       "      <th>23516</th>\n",
       "      <td>23516</td>\n",
       "      <td>Peru</td>\n",
       "      <td>PER</td>\n",
       "      <td>2021-02-08</td>\n",
       "      <td>9.0</td>\n",
       "      <td>7.0</td>\n",
       "      <td>2.0</td>\n",
       "      <td>646</td>\n",
       "      <td>33587011.0</td>\n",
       "      <td>0.000021</td>\n",
       "    </tr>\n",
       "    <tr>\n",
       "      <th>28859</th>\n",
       "      <td>28859</td>\n",
       "      <td>Switzerland</td>\n",
       "      <td>CHE</td>\n",
       "      <td>2020-12-21</td>\n",
       "      <td>1.0</td>\n",
       "      <td>1.0</td>\n",
       "      <td>1.0</td>\n",
       "      <td>99</td>\n",
       "      <td>8752564.0</td>\n",
       "      <td>0.000011</td>\n",
       "    </tr>\n",
       "  </tbody>\n",
       "</table>\n",
       "<p>32911 rows × 10 columns</p>\n",
       "</div>"
      ],
      "text/plain": [
       "       Unnamed: 0      country iso_code        date  total_vaccinations  \\\n",
       "11368       11368    Gibraltar      GIB  2022-03-24            116358.0   \n",
       "11367       11367    Gibraltar      GIB  2022-03-23            115847.0   \n",
       "11366       11366    Gibraltar      GIB  2022-03-22            115581.0   \n",
       "11365       11365    Gibraltar      GIB  2022-03-21            115273.0   \n",
       "11364       11364    Gibraltar      GIB  2022-03-15            114420.0   \n",
       "...           ...          ...      ...         ...                 ...   \n",
       "14351       14351       Israel      ISR  2020-12-19                70.0   \n",
       "18817       18817     Malaysia      MYS  2021-02-24                66.0   \n",
       "28860       28860  Switzerland      CHE  2020-12-22                 3.0   \n",
       "23516       23516         Peru      PER  2021-02-08                 9.0   \n",
       "28859       28859  Switzerland      CHE  2020-12-21                 1.0   \n",
       "\n",
       "       people_vaccinated  people_fully_vaccinated  New_deaths  population  \\\n",
       "11368            42034.0                  41228.0           0     33698.0   \n",
       "11367            42028.0                  41205.0           0     33698.0   \n",
       "11366            42026.0                  41123.0           0     33698.0   \n",
       "11365            42025.0                  41119.0           0     33698.0   \n",
       "11364            42012.0                  40969.0           0     33698.0   \n",
       "...                  ...                      ...         ...         ...   \n",
       "14351               66.0                      4.0          16   8868656.0   \n",
       "18817               63.0                      3.0          14  33015425.0   \n",
       "28860                3.0                      1.0          89   8752564.0   \n",
       "23516                7.0                      2.0         646  33587011.0   \n",
       "28859                1.0                      1.0          99   8752564.0   \n",
       "\n",
       "            ratio  \n",
       "11368  124.737373  \n",
       "11367  124.719568  \n",
       "11366  124.713633  \n",
       "11365  124.710665  \n",
       "11364  124.672087  \n",
       "...           ...  \n",
       "14351    0.000744  \n",
       "18817    0.000191  \n",
       "28860    0.000034  \n",
       "23516    0.000021  \n",
       "28859    0.000011  \n",
       "\n",
       "[32911 rows x 10 columns]"
      ]
     },
     "execution_count": 134,
     "metadata": {},
     "output_type": "execute_result"
    }
   ],
   "source": [
    "df = df.sort_values('ratio', ascending=False)\n",
    "df"
   ]
  },
  {
   "cell_type": "code",
   "execution_count": 150,
   "id": "5d288094",
   "metadata": {},
   "outputs": [
    {
     "data": {
      "text/html": [
       "<div>\n",
       "<style scoped>\n",
       "    .dataframe tbody tr th:only-of-type {\n",
       "        vertical-align: middle;\n",
       "    }\n",
       "\n",
       "    .dataframe tbody tr th {\n",
       "        vertical-align: top;\n",
       "    }\n",
       "\n",
       "    .dataframe thead th {\n",
       "        text-align: right;\n",
       "    }\n",
       "</style>\n",
       "<table border=\"1\" class=\"dataframe\">\n",
       "  <thead>\n",
       "    <tr style=\"text-align: right;\">\n",
       "      <th></th>\n",
       "      <th>Unnamed: 0</th>\n",
       "      <th>country</th>\n",
       "      <th>iso_code</th>\n",
       "      <th>date</th>\n",
       "      <th>total_vaccinations</th>\n",
       "      <th>people_vaccinated</th>\n",
       "      <th>people_fully_vaccinated</th>\n",
       "      <th>New_deaths</th>\n",
       "      <th>population</th>\n",
       "      <th>ratio</th>\n",
       "    </tr>\n",
       "  </thead>\n",
       "  <tbody>\n",
       "    <tr>\n",
       "      <th>0</th>\n",
       "      <td>0</td>\n",
       "      <td>Afghanistan</td>\n",
       "      <td>AFG</td>\n",
       "      <td>2021-05-11</td>\n",
       "      <td>504502.0</td>\n",
       "      <td>448878.0</td>\n",
       "      <td>55624.0</td>\n",
       "      <td>12</td>\n",
       "      <td>40374668.0</td>\n",
       "      <td>1.111781</td>\n",
       "    </tr>\n",
       "    <tr>\n",
       "      <th>1</th>\n",
       "      <td>1</td>\n",
       "      <td>Afghanistan</td>\n",
       "      <td>AFG</td>\n",
       "      <td>2021-05-20</td>\n",
       "      <td>547901.0</td>\n",
       "      <td>470341.0</td>\n",
       "      <td>77560.0</td>\n",
       "      <td>10</td>\n",
       "      <td>40374668.0</td>\n",
       "      <td>1.164941</td>\n",
       "    </tr>\n",
       "    <tr>\n",
       "      <th>2</th>\n",
       "      <td>2</td>\n",
       "      <td>Afghanistan</td>\n",
       "      <td>AFG</td>\n",
       "      <td>2021-05-24</td>\n",
       "      <td>573277.0</td>\n",
       "      <td>476367.0</td>\n",
       "      <td>96910.0</td>\n",
       "      <td>10</td>\n",
       "      <td>40374668.0</td>\n",
       "      <td>1.179866</td>\n",
       "    </tr>\n",
       "    <tr>\n",
       "      <th>3</th>\n",
       "      <td>3</td>\n",
       "      <td>Afghanistan</td>\n",
       "      <td>AFG</td>\n",
       "      <td>2021-05-26</td>\n",
       "      <td>590454.0</td>\n",
       "      <td>479372.0</td>\n",
       "      <td>111082.0</td>\n",
       "      <td>19</td>\n",
       "      <td>40374668.0</td>\n",
       "      <td>1.187309</td>\n",
       "    </tr>\n",
       "    <tr>\n",
       "      <th>4</th>\n",
       "      <td>4</td>\n",
       "      <td>Afghanistan</td>\n",
       "      <td>AFG</td>\n",
       "      <td>2021-05-27</td>\n",
       "      <td>593313.0</td>\n",
       "      <td>479574.0</td>\n",
       "      <td>113739.0</td>\n",
       "      <td>14</td>\n",
       "      <td>40374668.0</td>\n",
       "      <td>1.187809</td>\n",
       "    </tr>\n",
       "    <tr>\n",
       "      <th>...</th>\n",
       "      <td>...</td>\n",
       "      <td>...</td>\n",
       "      <td>...</td>\n",
       "      <td>...</td>\n",
       "      <td>...</td>\n",
       "      <td>...</td>\n",
       "      <td>...</td>\n",
       "      <td>...</td>\n",
       "      <td>...</td>\n",
       "      <td>...</td>\n",
       "    </tr>\n",
       "    <tr>\n",
       "      <th>32906</th>\n",
       "      <td>32906</td>\n",
       "      <td>Zimbabwe</td>\n",
       "      <td>ZWE</td>\n",
       "      <td>2022-03-25</td>\n",
       "      <td>8691642.0</td>\n",
       "      <td>4814582.0</td>\n",
       "      <td>3473523.0</td>\n",
       "      <td>2</td>\n",
       "      <td>15229891.0</td>\n",
       "      <td>31.612715</td>\n",
       "    </tr>\n",
       "    <tr>\n",
       "      <th>32907</th>\n",
       "      <td>32907</td>\n",
       "      <td>Zimbabwe</td>\n",
       "      <td>ZWE</td>\n",
       "      <td>2022-03-26</td>\n",
       "      <td>8791728.0</td>\n",
       "      <td>4886242.0</td>\n",
       "      <td>3487962.0</td>\n",
       "      <td>2</td>\n",
       "      <td>15229891.0</td>\n",
       "      <td>32.083237</td>\n",
       "    </tr>\n",
       "    <tr>\n",
       "      <th>32908</th>\n",
       "      <td>32908</td>\n",
       "      <td>Zimbabwe</td>\n",
       "      <td>ZWE</td>\n",
       "      <td>2022-03-27</td>\n",
       "      <td>8845039.0</td>\n",
       "      <td>4918147.0</td>\n",
       "      <td>3493763.0</td>\n",
       "      <td>1</td>\n",
       "      <td>15229891.0</td>\n",
       "      <td>32.292726</td>\n",
       "    </tr>\n",
       "    <tr>\n",
       "      <th>32909</th>\n",
       "      <td>32909</td>\n",
       "      <td>Zimbabwe</td>\n",
       "      <td>ZWE</td>\n",
       "      <td>2022-03-28</td>\n",
       "      <td>8934360.0</td>\n",
       "      <td>4975433.0</td>\n",
       "      <td>3501493.0</td>\n",
       "      <td>1</td>\n",
       "      <td>15229891.0</td>\n",
       "      <td>32.668868</td>\n",
       "    </tr>\n",
       "    <tr>\n",
       "      <th>32910</th>\n",
       "      <td>32910</td>\n",
       "      <td>Zimbabwe</td>\n",
       "      <td>ZWE</td>\n",
       "      <td>2022-03-29</td>\n",
       "      <td>9039729.0</td>\n",
       "      <td>5053114.0</td>\n",
       "      <td>3510256.0</td>\n",
       "      <td>0</td>\n",
       "      <td>15229891.0</td>\n",
       "      <td>33.178924</td>\n",
       "    </tr>\n",
       "  </tbody>\n",
       "</table>\n",
       "<p>32656 rows × 10 columns</p>\n",
       "</div>"
      ],
      "text/plain": [
       "       Unnamed: 0      country iso_code        date  total_vaccinations  \\\n",
       "0               0  Afghanistan      AFG  2021-05-11            504502.0   \n",
       "1               1  Afghanistan      AFG  2021-05-20            547901.0   \n",
       "2               2  Afghanistan      AFG  2021-05-24            573277.0   \n",
       "3               3  Afghanistan      AFG  2021-05-26            590454.0   \n",
       "4               4  Afghanistan      AFG  2021-05-27            593313.0   \n",
       "...           ...          ...      ...         ...                 ...   \n",
       "32906       32906     Zimbabwe      ZWE  2022-03-25           8691642.0   \n",
       "32907       32907     Zimbabwe      ZWE  2022-03-26           8791728.0   \n",
       "32908       32908     Zimbabwe      ZWE  2022-03-27           8845039.0   \n",
       "32909       32909     Zimbabwe      ZWE  2022-03-28           8934360.0   \n",
       "32910       32910     Zimbabwe      ZWE  2022-03-29           9039729.0   \n",
       "\n",
       "       people_vaccinated  people_fully_vaccinated  New_deaths  population  \\\n",
       "0               448878.0                  55624.0          12  40374668.0   \n",
       "1               470341.0                  77560.0          10  40374668.0   \n",
       "2               476367.0                  96910.0          10  40374668.0   \n",
       "3               479372.0                 111082.0          19  40374668.0   \n",
       "4               479574.0                 113739.0          14  40374668.0   \n",
       "...                  ...                      ...         ...         ...   \n",
       "32906          4814582.0                3473523.0           2  15229891.0   \n",
       "32907          4886242.0                3487962.0           2  15229891.0   \n",
       "32908          4918147.0                3493763.0           1  15229891.0   \n",
       "32909          4975433.0                3501493.0           1  15229891.0   \n",
       "32910          5053114.0                3510256.0           0  15229891.0   \n",
       "\n",
       "           ratio  \n",
       "0       1.111781  \n",
       "1       1.164941  \n",
       "2       1.179866  \n",
       "3       1.187309  \n",
       "4       1.187809  \n",
       "...          ...  \n",
       "32906  31.612715  \n",
       "32907  32.083237  \n",
       "32908  32.292726  \n",
       "32909  32.668868  \n",
       "32910  33.178924  \n",
       "\n",
       "[32656 rows x 10 columns]"
      ]
     },
     "execution_count": 150,
     "metadata": {},
     "output_type": "execute_result"
    }
   ],
   "source": [
    "# ratio > 100인 데이터 제거\n",
    "df = df[df['ratio'] <= 100]\n",
    "df"
   ]
  },
  {
   "cell_type": "code",
   "execution_count": 151,
   "id": "d96f52a0",
   "metadata": {},
   "outputs": [
    {
     "data": {
      "text/plain": [
       "country\n",
       "Malta                   99.938239\n",
       "Gibraltar               99.284824\n",
       "United Arab Emirates    98.397065\n",
       "Portugal                95.204947\n",
       "Cuba                    93.972331\n",
       "                          ...    \n",
       "Papua New Guinea         3.439691\n",
       "Yemen                    2.083710\n",
       "Chad                     1.639191\n",
       "Haiti                    1.408404\n",
       "Burundi                  0.083178\n",
       "Name: ratio, Length: 197, dtype: float64"
      ]
     },
     "execution_count": 151,
     "metadata": {},
     "output_type": "execute_result"
    }
   ],
   "source": [
    "countries = df.groupby('country')['ratio'].max()\n",
    "ratio_ = countries.sort_values(ascending=False)\n",
    "ratio_"
   ]
  },
  {
   "cell_type": "code",
   "execution_count": 152,
   "id": "4c4637e4",
   "metadata": {},
   "outputs": [
    {
     "name": "stdout",
     "output_type": "stream",
     "text": [
      "country\n",
      "Malta                   99.938239\n",
      "Gibraltar               99.284824\n",
      "United Arab Emirates    98.397065\n",
      "Portugal                95.204947\n",
      "Cuba                    93.972331\n",
      "Chile                   92.654748\n",
      "Brunei Darussalam       91.899582\n",
      "Cayman Islands          90.777028\n",
      "Iceland                 89.880631\n",
      "Argentina               89.224604\n",
      "Name: ratio, dtype: float64\n",
      "country\n",
      "United Republic of Tanzania    6.302860\n",
      "Mali                           6.278956\n",
      "Cameroon                       4.882577\n",
      "South Sudan                    4.578634\n",
      "Madagascar                     3.806883\n",
      "Papua New Guinea               3.439691\n",
      "Yemen                          2.083710\n",
      "Chad                           1.639191\n",
      "Haiti                          1.408404\n",
      "Burundi                        0.083178\n",
      "Name: ratio, dtype: float64\n"
     ]
    }
   ],
   "source": [
    "print(ratio_[:10])\n",
    "print(ratio_[-10:])"
   ]
  },
  {
   "cell_type": "code",
   "execution_count": 154,
   "id": "5befe5b9",
   "metadata": {},
   "outputs": [
    {
     "name": "stdout",
     "output_type": "stream",
     "text": [
      "94.12339968602072\n",
      "3.4504083912453525\n"
     ]
    }
   ],
   "source": [
    "max_ratio = ratio_[:10].mean()\n",
    "min_ratio = ratio_[-10:].mean()\n",
    "print(max_ratio)\n",
    "print(min_ratio)"
   ]
  },
  {
   "cell_type": "code",
   "execution_count": 155,
   "id": "916c7cf4",
   "metadata": {},
   "outputs": [
    {
     "name": "stdout",
     "output_type": "stream",
     "text": [
      "90.7\n"
     ]
    }
   ],
   "source": [
    "print(round(max_ratio - min_ratio, 1))"
   ]
  },
  {
   "cell_type": "code",
   "execution_count": null,
   "id": "aefecc7b",
   "metadata": {},
   "outputs": [],
   "source": []
  }
 ],
 "metadata": {
  "kernelspec": {
   "display_name": "Python 3 (ipykernel)",
   "language": "python",
   "name": "python3"
  },
  "language_info": {
   "codemirror_mode": {
    "name": "ipython",
    "version": 3
   },
   "file_extension": ".py",
   "mimetype": "text/x-python",
   "name": "python",
   "nbconvert_exporter": "python",
   "pygments_lexer": "ipython3",
   "version": "3.9.7"
  }
 },
 "nbformat": 4,
 "nbformat_minor": 5
}
