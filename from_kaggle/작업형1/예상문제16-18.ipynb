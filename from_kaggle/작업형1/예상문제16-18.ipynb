{
 "cells": [
  {
   "cell_type": "markdown",
   "id": "e1d04fa7",
   "metadata": {},
   "source": [
    "## 16. 분산\n",
    "### 주어진 데이터 셋에서 f2가 0값인 데이터를 age를 기준으로 오름차순 정렬하고 앞에서 부터 20개의 데이터를 추출한 후 f1 결측치(최소값)를 채우기 전과 후의 분산 차이를 계산하시오 (소수점 둘째 자리까지)\n",
    " - 데이터셋 : basic1.csv "
   ]
  },
  {
   "cell_type": "code",
   "execution_count": 1,
   "id": "fc5447ec",
   "metadata": {},
   "outputs": [
    {
     "data": {
      "text/html": [
       "<div>\n",
       "<style scoped>\n",
       "    .dataframe tbody tr th:only-of-type {\n",
       "        vertical-align: middle;\n",
       "    }\n",
       "\n",
       "    .dataframe tbody tr th {\n",
       "        vertical-align: top;\n",
       "    }\n",
       "\n",
       "    .dataframe thead th {\n",
       "        text-align: right;\n",
       "    }\n",
       "</style>\n",
       "<table border=\"1\" class=\"dataframe\">\n",
       "  <thead>\n",
       "    <tr style=\"text-align: right;\">\n",
       "      <th></th>\n",
       "      <th>id</th>\n",
       "      <th>age</th>\n",
       "      <th>city</th>\n",
       "      <th>f1</th>\n",
       "      <th>f2</th>\n",
       "      <th>f3</th>\n",
       "      <th>f4</th>\n",
       "      <th>f5</th>\n",
       "    </tr>\n",
       "  </thead>\n",
       "  <tbody>\n",
       "    <tr>\n",
       "      <th>0</th>\n",
       "      <td>id01</td>\n",
       "      <td>2.0</td>\n",
       "      <td>서울</td>\n",
       "      <td>NaN</td>\n",
       "      <td>0</td>\n",
       "      <td>NaN</td>\n",
       "      <td>ENFJ</td>\n",
       "      <td>91.297791</td>\n",
       "    </tr>\n",
       "    <tr>\n",
       "      <th>1</th>\n",
       "      <td>id02</td>\n",
       "      <td>9.0</td>\n",
       "      <td>서울</td>\n",
       "      <td>70.0</td>\n",
       "      <td>1</td>\n",
       "      <td>NaN</td>\n",
       "      <td>ENFJ</td>\n",
       "      <td>60.339826</td>\n",
       "    </tr>\n",
       "    <tr>\n",
       "      <th>2</th>\n",
       "      <td>id03</td>\n",
       "      <td>27.0</td>\n",
       "      <td>서울</td>\n",
       "      <td>61.0</td>\n",
       "      <td>1</td>\n",
       "      <td>NaN</td>\n",
       "      <td>ISTJ</td>\n",
       "      <td>17.252986</td>\n",
       "    </tr>\n",
       "    <tr>\n",
       "      <th>3</th>\n",
       "      <td>id04</td>\n",
       "      <td>75.0</td>\n",
       "      <td>서울</td>\n",
       "      <td>NaN</td>\n",
       "      <td>2</td>\n",
       "      <td>NaN</td>\n",
       "      <td>INFP</td>\n",
       "      <td>52.667078</td>\n",
       "    </tr>\n",
       "    <tr>\n",
       "      <th>4</th>\n",
       "      <td>id05</td>\n",
       "      <td>24.0</td>\n",
       "      <td>서울</td>\n",
       "      <td>85.0</td>\n",
       "      <td>2</td>\n",
       "      <td>NaN</td>\n",
       "      <td>ISFJ</td>\n",
       "      <td>29.269869</td>\n",
       "    </tr>\n",
       "  </tbody>\n",
       "</table>\n",
       "</div>"
      ],
      "text/plain": [
       "     id   age city    f1  f2   f3    f4         f5\n",
       "0  id01   2.0   서울   NaN   0  NaN  ENFJ  91.297791\n",
       "1  id02   9.0   서울  70.0   1  NaN  ENFJ  60.339826\n",
       "2  id03  27.0   서울  61.0   1  NaN  ISTJ  17.252986\n",
       "3  id04  75.0   서울   NaN   2  NaN  INFP  52.667078\n",
       "4  id05  24.0   서울  85.0   2  NaN  ISFJ  29.269869"
      ]
     },
     "execution_count": 1,
     "metadata": {},
     "output_type": "execute_result"
    }
   ],
   "source": [
    "import pandas as pd\n",
    "\n",
    "df = pd.read_csv(\"../data/basic1.csv\")\n",
    "df.head()"
   ]
  },
  {
   "cell_type": "code",
   "execution_count": 3,
   "id": "e79e073b",
   "metadata": {},
   "outputs": [
    {
     "data": {
      "text/html": [
       "<div>\n",
       "<style scoped>\n",
       "    .dataframe tbody tr th:only-of-type {\n",
       "        vertical-align: middle;\n",
       "    }\n",
       "\n",
       "    .dataframe tbody tr th {\n",
       "        vertical-align: top;\n",
       "    }\n",
       "\n",
       "    .dataframe thead th {\n",
       "        text-align: right;\n",
       "    }\n",
       "</style>\n",
       "<table border=\"1\" class=\"dataframe\">\n",
       "  <thead>\n",
       "    <tr style=\"text-align: right;\">\n",
       "      <th></th>\n",
       "      <th>id</th>\n",
       "      <th>age</th>\n",
       "      <th>city</th>\n",
       "      <th>f1</th>\n",
       "      <th>f2</th>\n",
       "      <th>f3</th>\n",
       "      <th>f4</th>\n",
       "      <th>f5</th>\n",
       "    </tr>\n",
       "  </thead>\n",
       "  <tbody>\n",
       "    <tr>\n",
       "      <th>98</th>\n",
       "      <td>id99</td>\n",
       "      <td>1.0</td>\n",
       "      <td>경기</td>\n",
       "      <td>47.0</td>\n",
       "      <td>0</td>\n",
       "      <td>NaN</td>\n",
       "      <td>ESFJ</td>\n",
       "      <td>97.381034</td>\n",
       "    </tr>\n",
       "    <tr>\n",
       "      <th>0</th>\n",
       "      <td>id01</td>\n",
       "      <td>2.0</td>\n",
       "      <td>서울</td>\n",
       "      <td>NaN</td>\n",
       "      <td>0</td>\n",
       "      <td>NaN</td>\n",
       "      <td>ENFJ</td>\n",
       "      <td>91.297791</td>\n",
       "    </tr>\n",
       "    <tr>\n",
       "      <th>85</th>\n",
       "      <td>id86</td>\n",
       "      <td>2.0</td>\n",
       "      <td>경기</td>\n",
       "      <td>NaN</td>\n",
       "      <td>0</td>\n",
       "      <td>NaN</td>\n",
       "      <td>ESTP</td>\n",
       "      <td>29.269869</td>\n",
       "    </tr>\n",
       "    <tr>\n",
       "      <th>56</th>\n",
       "      <td>id57</td>\n",
       "      <td>3.0</td>\n",
       "      <td>대구</td>\n",
       "      <td>111.0</td>\n",
       "      <td>0</td>\n",
       "      <td>NaN</td>\n",
       "      <td>ISFJ</td>\n",
       "      <td>29.269869</td>\n",
       "    </tr>\n",
       "    <tr>\n",
       "      <th>90</th>\n",
       "      <td>id91</td>\n",
       "      <td>6.0</td>\n",
       "      <td>경기</td>\n",
       "      <td>72.0</td>\n",
       "      <td>0</td>\n",
       "      <td>NaN</td>\n",
       "      <td>INTP</td>\n",
       "      <td>9.796378</td>\n",
       "    </tr>\n",
       "  </tbody>\n",
       "</table>\n",
       "</div>"
      ],
      "text/plain": [
       "      id  age city     f1  f2   f3    f4         f5\n",
       "98  id99  1.0   경기   47.0   0  NaN  ESFJ  97.381034\n",
       "0   id01  2.0   서울    NaN   0  NaN  ENFJ  91.297791\n",
       "85  id86  2.0   경기    NaN   0  NaN  ESTP  29.269869\n",
       "56  id57  3.0   대구  111.0   0  NaN  ISFJ  29.269869\n",
       "90  id91  6.0   경기   72.0   0  NaN  INTP   9.796378"
      ]
     },
     "execution_count": 3,
     "metadata": {},
     "output_type": "execute_result"
    }
   ],
   "source": [
    "# f2가 0값인 데이터를 age를 기준으로 오름차순 정렬\n",
    "f2_age = df[df['f2']==0].sort_values('age')\n",
    "f2_age.head()"
   ]
  },
  {
   "cell_type": "code",
   "execution_count": 5,
   "id": "a9f388c4",
   "metadata": {},
   "outputs": [
    {
     "name": "stdout",
     "output_type": "stream",
     "text": [
      "351.7636363636363\n",
      "313.32631578947377\n"
     ]
    }
   ],
   "source": [
    "# 앞에서 부터 20개의 데이터를 추출한 후 \n",
    "# f1 결측치(최소값)를 채우기 전과 후의 분산 차이\n",
    "\n",
    "f2_age_20 = f2_age[:20]\n",
    "\n",
    "# 분산 차이\n",
    "var1 = f2_age_20['f1'].var()\n",
    "var2 = f2_age_20['f1'].fillna(f2_age_20['f1'].min()).var()\n",
    "\n",
    "print(var1)\n",
    "print(var2)"
   ]
  },
  {
   "cell_type": "code",
   "execution_count": 6,
   "id": "a28ae8aa",
   "metadata": {},
   "outputs": [
    {
     "name": "stdout",
     "output_type": "stream",
     "text": [
      "38.44\n"
     ]
    }
   ],
   "source": [
    "print(round(abs(var1-var2), 2))"
   ]
  },
  {
   "cell_type": "markdown",
   "id": "a4e46345",
   "metadata": {},
   "source": [
    "<br><br>\n",
    "\n",
    "## 17. 시계열 데이터1\n",
    "### 2022년 5월 sales의 중앙값을 구하시오\n",
    "\n",
    "- 데이터셋 : basic2.csv "
   ]
  },
  {
   "cell_type": "code",
   "execution_count": 32,
   "id": "89989b6e",
   "metadata": {},
   "outputs": [
    {
     "data": {
      "text/html": [
       "<div>\n",
       "<style scoped>\n",
       "    .dataframe tbody tr th:only-of-type {\n",
       "        vertical-align: middle;\n",
       "    }\n",
       "\n",
       "    .dataframe tbody tr th {\n",
       "        vertical-align: top;\n",
       "    }\n",
       "\n",
       "    .dataframe thead th {\n",
       "        text-align: right;\n",
       "    }\n",
       "</style>\n",
       "<table border=\"1\" class=\"dataframe\">\n",
       "  <thead>\n",
       "    <tr style=\"text-align: right;\">\n",
       "      <th></th>\n",
       "      <th>Date</th>\n",
       "      <th>Sales</th>\n",
       "      <th>PV</th>\n",
       "      <th>UV</th>\n",
       "      <th>Events</th>\n",
       "    </tr>\n",
       "  </thead>\n",
       "  <tbody>\n",
       "    <tr>\n",
       "      <th>0</th>\n",
       "      <td>2022-01-01</td>\n",
       "      <td>22711525</td>\n",
       "      <td>397349</td>\n",
       "      <td>4421.0</td>\n",
       "      <td>1</td>\n",
       "    </tr>\n",
       "    <tr>\n",
       "      <th>1</th>\n",
       "      <td>2022-01-02</td>\n",
       "      <td>36779</td>\n",
       "      <td>3969</td>\n",
       "      <td>2289.0</td>\n",
       "      <td>0</td>\n",
       "    </tr>\n",
       "    <tr>\n",
       "      <th>2</th>\n",
       "      <td>2022-01-03</td>\n",
       "      <td>13943875</td>\n",
       "      <td>373890</td>\n",
       "      <td>NaN</td>\n",
       "      <td>1</td>\n",
       "    </tr>\n",
       "    <tr>\n",
       "      <th>3</th>\n",
       "      <td>2022-01-04</td>\n",
       "      <td>8088593</td>\n",
       "      <td>142054</td>\n",
       "      <td>2157.0</td>\n",
       "      <td>0</td>\n",
       "    </tr>\n",
       "    <tr>\n",
       "      <th>4</th>\n",
       "      <td>2022-01-05</td>\n",
       "      <td>2395374</td>\n",
       "      <td>190684</td>\n",
       "      <td>NaN</td>\n",
       "      <td>0</td>\n",
       "    </tr>\n",
       "  </tbody>\n",
       "</table>\n",
       "</div>"
      ],
      "text/plain": [
       "         Date     Sales      PV      UV  Events\n",
       "0  2022-01-01  22711525  397349  4421.0       1\n",
       "1  2022-01-02     36779    3969  2289.0       0\n",
       "2  2022-01-03  13943875  373890     NaN       1\n",
       "3  2022-01-04   8088593  142054  2157.0       0\n",
       "4  2022-01-05   2395374  190684     NaN       0"
      ]
     },
     "execution_count": 32,
     "metadata": {},
     "output_type": "execute_result"
    }
   ],
   "source": [
    "import pandas as pd\n",
    "\n",
    "df = pd.read_csv(\"../data/basic2.csv\")\n",
    "df.head()"
   ]
  },
  {
   "cell_type": "code",
   "execution_count": 35,
   "id": "6bfed887",
   "metadata": {},
   "outputs": [
    {
     "name": "stdout",
     "output_type": "stream",
     "text": [
      "<class 'pandas.core.frame.DataFrame'>\n",
      "RangeIndex: 730 entries, 0 to 729\n",
      "Data columns (total 5 columns):\n",
      " #   Column  Non-Null Count  Dtype         \n",
      "---  ------  --------------  -----         \n",
      " 0   Date    730 non-null    datetime64[ns]\n",
      " 1   Sales   730 non-null    int64         \n",
      " 2   PV      730 non-null    int64         \n",
      " 3   UV      684 non-null    float64       \n",
      " 4   Events  730 non-null    int64         \n",
      "dtypes: datetime64[ns](1), float64(1), int64(3)\n",
      "memory usage: 28.6 KB\n"
     ]
    }
   ],
   "source": [
    "### Date 컬럼을 datetime 타입으로 변경\n",
    "\n",
    "df['Date'] = pd.to_datetime(df['Date'])\n",
    "df.info()"
   ]
  },
  {
   "cell_type": "code",
   "execution_count": 38,
   "id": "2519f588",
   "metadata": {},
   "outputs": [
    {
     "data": {
      "text/plain": [
       "0      2022\n",
       "1      2022\n",
       "2      2022\n",
       "3      2022\n",
       "4      2022\n",
       "       ... \n",
       "725    2023\n",
       "726    2023\n",
       "727    2023\n",
       "728    2023\n",
       "729    2023\n",
       "Name: Date, Length: 730, dtype: int64"
      ]
     },
     "execution_count": 38,
     "metadata": {},
     "output_type": "execute_result"
    }
   ],
   "source": [
    "# datetime의 dt.year, dt.month, dt.day로 데이터 접근가능\n",
    "df['Date'].dt.year\n",
    "df['Date'].dt.month\n",
    "df['Date'].dt.day"
   ]
  },
  {
   "cell_type": "code",
   "execution_count": 52,
   "id": "ed338db3",
   "metadata": {},
   "outputs": [
    {
     "data": {
      "text/plain": [
       "1477685.0"
      ]
     },
     "execution_count": 52,
     "metadata": {},
     "output_type": "execute_result"
    }
   ],
   "source": [
    "## datetime 값 비교는 정수와 비교함\n",
    "may_sales = df['Sales'][(df['Date'].dt.year == 2022) & (df['Date'].dt.month == 5)].median()\n",
    "may_sales"
   ]
  },
  {
   "cell_type": "markdown",
   "id": "d4a6d4e1",
   "metadata": {},
   "source": [
    "<br><br>\n",
    "\n",
    "## 18. 시계열 데이터2\n",
    "### 주어진 데이터에서 2022년 5월 주말과 평일의 sales컬럼 평균값 차이를 구하시오 (소수점 둘째자리까지 출력, 반올림)\n",
    "- 데이터셋 : basic2.csv"
   ]
  },
  {
   "cell_type": "code",
   "execution_count": 53,
   "id": "69c58229",
   "metadata": {},
   "outputs": [
    {
     "data": {
      "text/html": [
       "<div>\n",
       "<style scoped>\n",
       "    .dataframe tbody tr th:only-of-type {\n",
       "        vertical-align: middle;\n",
       "    }\n",
       "\n",
       "    .dataframe tbody tr th {\n",
       "        vertical-align: top;\n",
       "    }\n",
       "\n",
       "    .dataframe thead th {\n",
       "        text-align: right;\n",
       "    }\n",
       "</style>\n",
       "<table border=\"1\" class=\"dataframe\">\n",
       "  <thead>\n",
       "    <tr style=\"text-align: right;\">\n",
       "      <th></th>\n",
       "      <th>Date</th>\n",
       "      <th>Sales</th>\n",
       "      <th>PV</th>\n",
       "      <th>UV</th>\n",
       "      <th>Events</th>\n",
       "    </tr>\n",
       "  </thead>\n",
       "  <tbody>\n",
       "    <tr>\n",
       "      <th>0</th>\n",
       "      <td>2022-01-01</td>\n",
       "      <td>22711525</td>\n",
       "      <td>397349</td>\n",
       "      <td>4421.0</td>\n",
       "      <td>1</td>\n",
       "    </tr>\n",
       "    <tr>\n",
       "      <th>1</th>\n",
       "      <td>2022-01-02</td>\n",
       "      <td>36779</td>\n",
       "      <td>3969</td>\n",
       "      <td>2289.0</td>\n",
       "      <td>0</td>\n",
       "    </tr>\n",
       "    <tr>\n",
       "      <th>2</th>\n",
       "      <td>2022-01-03</td>\n",
       "      <td>13943875</td>\n",
       "      <td>373890</td>\n",
       "      <td>NaN</td>\n",
       "      <td>1</td>\n",
       "    </tr>\n",
       "    <tr>\n",
       "      <th>3</th>\n",
       "      <td>2022-01-04</td>\n",
       "      <td>8088593</td>\n",
       "      <td>142054</td>\n",
       "      <td>2157.0</td>\n",
       "      <td>0</td>\n",
       "    </tr>\n",
       "    <tr>\n",
       "      <th>4</th>\n",
       "      <td>2022-01-05</td>\n",
       "      <td>2395374</td>\n",
       "      <td>190684</td>\n",
       "      <td>NaN</td>\n",
       "      <td>0</td>\n",
       "    </tr>\n",
       "  </tbody>\n",
       "</table>\n",
       "</div>"
      ],
      "text/plain": [
       "         Date     Sales      PV      UV  Events\n",
       "0  2022-01-01  22711525  397349  4421.0       1\n",
       "1  2022-01-02     36779    3969  2289.0       0\n",
       "2  2022-01-03  13943875  373890     NaN       1\n",
       "3  2022-01-04   8088593  142054  2157.0       0\n",
       "4  2022-01-05   2395374  190684     NaN       0"
      ]
     },
     "execution_count": 53,
     "metadata": {},
     "output_type": "execute_result"
    }
   ],
   "source": [
    "import pandas as pd\n",
    "\n",
    "df = pd.read_csv(\"../data/basic2.csv\")\n",
    "df.head()"
   ]
  },
  {
   "cell_type": "code",
   "execution_count": 58,
   "id": "31a3d852",
   "metadata": {},
   "outputs": [
    {
     "name": "stdout",
     "output_type": "stream",
     "text": [
      "6693950.555555556\n",
      "3683611.4545454546\n"
     ]
    }
   ],
   "source": [
    "df['Date'] = pd.to_datetime(df['Date'])\n",
    "\n",
    "# dt.dayofweek 이용\n",
    "# 0: 월요일, 6: 일요일\n",
    "weekend_sales = df['Sales'][(df['Date'].dt.year == 2022) & (df['Date'].dt.month == 5) & (df['Date'].dt.dayofweek > 4)].mean()\n",
    "print(weekend_sales)\n",
    "\n",
    "week_sales = df['Sales'][(df['Date'].dt.year == 2022) & (df['Date'].dt.month == 5) & (df['Date'].dt.dayofweek <= 4)].mean()\n",
    "print(week_sales)"
   ]
  },
  {
   "cell_type": "code",
   "execution_count": 59,
   "id": "bf1bdf58",
   "metadata": {},
   "outputs": [
    {
     "name": "stdout",
     "output_type": "stream",
     "text": [
      "3010339.1\n"
     ]
    }
   ],
   "source": [
    "print(round(abs(weekend_sales-week_sales), 2))"
   ]
  },
  {
   "cell_type": "code",
   "execution_count": null,
   "id": "4fda6e0d",
   "metadata": {},
   "outputs": [],
   "source": []
  }
 ],
 "metadata": {
  "kernelspec": {
   "display_name": "Python 3 (ipykernel)",
   "language": "python",
   "name": "python3"
  },
  "language_info": {
   "codemirror_mode": {
    "name": "ipython",
    "version": 3
   },
   "file_extension": ".py",
   "mimetype": "text/x-python",
   "name": "python",
   "nbconvert_exporter": "python",
   "pygments_lexer": "ipython3",
   "version": "3.9.7"
  }
 },
 "nbformat": 4,
 "nbformat_minor": 5
}
