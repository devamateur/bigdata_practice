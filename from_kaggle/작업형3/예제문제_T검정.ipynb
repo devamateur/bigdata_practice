{
 "cells": [
  {
   "cell_type": "markdown",
   "id": "fbf903a7",
   "metadata": {},
   "source": [
    "## 1. [대응표본 T검정] 주어진 데이터는 고혈압 환자 치료 전후의 혈압이다. 해당 치료가 효과가 있는지 대응(쌍체)표본 t-검정을 진행하시오\n",
    "- 귀무가설(H0): $\\mu$ >= 0\n",
    "- 대립가설(H1): $\\mu$ < 0\n",
    "- $\\mu$ = (치료 후 혈압 - 치료 전 혈압)의 평균\n",
    "- 유의수준: 0.05\n",
    "\n",
    "1. $\\mu$의 표본평균은?(소수 둘째자리까지 반올림)\n",
    "2. 검정통계량 값은?(소수 넷째자리까지 반올림)\n",
    "3. p-값은?(소수 넷째자리까지 반올림)\n",
    "4. 가설검정의 결과는? (유의수준 5%)"
   ]
  },
  {
   "cell_type": "code",
   "execution_count": 1,
   "id": "da093fa0",
   "metadata": {},
   "outputs": [
    {
     "data": {
      "text/html": [
       "<div>\n",
       "<style scoped>\n",
       "    .dataframe tbody tr th:only-of-type {\n",
       "        vertical-align: middle;\n",
       "    }\n",
       "\n",
       "    .dataframe tbody tr th {\n",
       "        vertical-align: top;\n",
       "    }\n",
       "\n",
       "    .dataframe thead th {\n",
       "        text-align: right;\n",
       "    }\n",
       "</style>\n",
       "<table border=\"1\" class=\"dataframe\">\n",
       "  <thead>\n",
       "    <tr style=\"text-align: right;\">\n",
       "      <th></th>\n",
       "      <th>Id</th>\n",
       "      <th>sex</th>\n",
       "      <th>age</th>\n",
       "      <th>bp_pre</th>\n",
       "      <th>bp_post</th>\n",
       "    </tr>\n",
       "  </thead>\n",
       "  <tbody>\n",
       "    <tr>\n",
       "      <th>0</th>\n",
       "      <td>p001</td>\n",
       "      <td>Male</td>\n",
       "      <td>33</td>\n",
       "      <td>149</td>\n",
       "      <td>129</td>\n",
       "    </tr>\n",
       "    <tr>\n",
       "      <th>1</th>\n",
       "      <td>p002</td>\n",
       "      <td>Male</td>\n",
       "      <td>39</td>\n",
       "      <td>168</td>\n",
       "      <td>168</td>\n",
       "    </tr>\n",
       "    <tr>\n",
       "      <th>2</th>\n",
       "      <td>p003</td>\n",
       "      <td>Male</td>\n",
       "      <td>70</td>\n",
       "      <td>176</td>\n",
       "      <td>155</td>\n",
       "    </tr>\n",
       "    <tr>\n",
       "      <th>3</th>\n",
       "      <td>p004</td>\n",
       "      <td>Female</td>\n",
       "      <td>41</td>\n",
       "      <td>169</td>\n",
       "      <td>178</td>\n",
       "    </tr>\n",
       "    <tr>\n",
       "      <th>4</th>\n",
       "      <td>p005</td>\n",
       "      <td>Male</td>\n",
       "      <td>48</td>\n",
       "      <td>160</td>\n",
       "      <td>126</td>\n",
       "    </tr>\n",
       "  </tbody>\n",
       "</table>\n",
       "</div>"
      ],
      "text/plain": [
       "     Id     sex  age  bp_pre  bp_post\n",
       "0  p001    Male   33     149      129\n",
       "1  p002    Male   39     168      168\n",
       "2  p003    Male   70     176      155\n",
       "3  p004  Female   41     169      178\n",
       "4  p005    Male   48     160      126"
      ]
     },
     "execution_count": 1,
     "metadata": {},
     "output_type": "execute_result"
    }
   ],
   "source": [
    "import pandas as pd\n",
    "df = pd.read_csv(\"../data/high_blood_pressure.csv\")\n",
    "\n",
    "df.head()"
   ]
  },
  {
   "cell_type": "code",
   "execution_count": 2,
   "id": "8f2cd239",
   "metadata": {},
   "outputs": [
    {
     "name": "stdout",
     "output_type": "stream",
     "text": [
      "-6.12\n",
      "-3.0002\n",
      "0.0016\n"
     ]
    }
   ],
   "source": [
    "# 1\n",
    "cure_mean = round((df['bp_post']-df['bp_pre']).mean(), 2)\n",
    "print(cure_mean)\n",
    "\n",
    "## 2. 대응표본 t-검정: scipy의 stats.ttest_rel()\n",
    "from scipy import stats\n",
    "\n",
    "# alternative: 대립가설을 선택하는 기준\n",
    "    # greater: 첫번째 모집단 평균 > 두번째 모집단 평균\n",
    "    # less: 첫번째 모집단 평균 < 두번째 모집단 평균\n",
    "    # two-sided: 두 모집단 평균이 다르다\n",
    "st, p_val = stats.ttest_rel(df['bp_post'], df['bp_pre'], alternative=\"less\")\n",
    "print(round(st, 4))\n",
    "print(round(p_val, 4))"
   ]
  },
  {
   "cell_type": "markdown",
   "id": "7fe22f57",
   "metadata": {},
   "source": [
    "<br>\n",
    "<br>\n",
    "\n",
    "## 2. [독립표본 T검정] 어떤 특정 약물을 복용한 사람들의 평균 체온이 복용하지 않은 사람들의 평균 체온과 유의미하게 다른지 검정해보려고 합니다. \n",
    "\n",
    "가정:\n",
    "- 약물을 복용한 그룹과 복용하지 않은 그룹의 체온 데이터가 각각 주어져 있다고 가정합니다.\n",
    "- 각 그룹의 체온은 정규분포를 따른다고 가정합니다.\n",
    "\n",
    "## 검정통계량, p-value, 검정결과를 출력하시오"
   ]
  },
  {
   "cell_type": "code",
   "execution_count": 3,
   "id": "b2a9f3ef",
   "metadata": {},
   "outputs": [],
   "source": [
    "# 데이터 수집\n",
    "group1 = [36.8, 36.7, 37.1, 36.9, 37.2, 36.8, 36.9, 37.1, 36.7, 37.1]\n",
    "group2 = [36.5, 36.6, 36.3, 36.6, 36.9, 36.7, 36.7, 36.8, 36.5, 36.7]\n"
   ]
  },
  {
   "cell_type": "code",
   "execution_count": 6,
   "id": "10e1127c",
   "metadata": {},
   "outputs": [
    {
     "name": "stdout",
     "output_type": "stream",
     "text": [
      "3.7964208654863336\n",
      "0.001321891476703691\n",
      "True\n"
     ]
    }
   ],
   "source": [
    "from scipy import stats\n",
    "\n",
    "st, p_val = stats.ttest_ind(group1, group2)\n",
    "\n",
    "print(st)\n",
    "print(p_val)\n",
    "print(p_val < 0.05)     # 귀무가설 기각, 대립가설 선택"
   ]
  },
  {
   "cell_type": "markdown",
   "id": "63359cc4",
   "metadata": {},
   "source": [
    "<br><br>\n",
    "\n",
    "## 3. [단일표본 T검정] 다음은 22명의 학생들이 국어시험에서 받은 점수이다. 학생들의 평균이 75보다 크다고 할 수 있는가?\n",
    "- 귀무가설(H0): 모평균은 mu와 같다. (μ = mu), 학생들의 평균은 75이다\n",
    "- 대립가설(H1): 모평균은 mu보다 크다. (μ > mu), 학생들의 평균은 75보다 크다\n",
    "\n",
    "가정:\n",
    "- 모집단은 정규분포를 따른다.\n",
    "- 표본의 크기가 충분히 크다.\n",
    "\n",
    "**검정통계량, p-value, 검정결과를 출력하시오**"
   ]
  },
  {
   "cell_type": "code",
   "execution_count": 7,
   "id": "def58bbd",
   "metadata": {},
   "outputs": [],
   "source": [
    "# 데이터\n",
    "scores = [75, 80, 68, 72, 77, 82, 81, 79, 70, 74, 76, 78, 81, 73, 81, 78, 75, 72, 74, 79, 78, 79]"
   ]
  },
  {
   "cell_type": "code",
   "execution_count": 10,
   "id": "ff8f00e9",
   "metadata": {},
   "outputs": [
    {
     "name": "stdout",
     "output_type": "stream",
     "text": [
      "1.765879233231226\n",
      "0.04597614747709146\n",
      "귀무가설 기각, 대립가설 채택\n"
     ]
    }
   ],
   "source": [
    "from scipy import stats\n",
    "\n",
    "st, p_val = stats.ttest_1samp(scores, 75, alternative='greater')\n",
    "print(st)\n",
    "print(p_val)\n",
    "\n",
    "if p_val < 0.05:\n",
    "    print('귀무가설 기각, 대립가설 채택')\n",
    "else:\n",
    "    print('귀무가설 채택, 대립가설 기각')"
   ]
  },
  {
   "cell_type": "markdown",
   "id": "c3d66d57",
   "metadata": {},
   "source": [
    "## T검정 정리\n",
    "### 1. 독립표본 T검정\n",
    "두 데이터셋의 평균이 같은지 검정 ex) 약물을 복용한 사람들과 복용하지 않은 사람들의 평균 체온\n",
    "#### ```scipy.stats.ttest_ind(group1, group2, alternative)```\n",
    "<br>\n",
    "\n",
    "### 2. 대응표본 T검정\n",
    "단일 모집단에 두 번의 처리를 가했을 때, 두 번의 처리에 따른 평균이 동일한지 판단 ex) 고혈압 환자 치료 전-후 혈압\n",
    "#### ```scipy.stats.ttest_rel(group1, group2, alternative)```\n",
    "<br>\n",
    "\n",
    "### 3. 단일표본 T검정\n",
    "단일 모집단의 평균값을 특정 값과 비교 ex) 학생들의 시험 성적 평균이 75(특정값)보다 큰가?\n",
    "#### ```scipy.stats.ttest_1samp(group, 비교값, alternative)```\n",
    "<br>\n",
    "\n",
    "### alternative: 대립가설을 선택하는 기준\n",
    "    greater: 첫번째 모집단 평균 > 두번째 모집단 평균\n",
    "    less: 첫번째 모집단 평균 < 두번째 모집단 평균\n",
    "    two-sided: 두 모집단 평균이 다르다"
   ]
  },
  {
   "cell_type": "code",
   "execution_count": null,
   "id": "5557c137",
   "metadata": {},
   "outputs": [],
   "source": []
  }
 ],
 "metadata": {
  "kernelspec": {
   "display_name": "Python 3 (ipykernel)",
   "language": "python",
   "name": "python3"
  },
  "language_info": {
   "codemirror_mode": {
    "name": "ipython",
    "version": 3
   },
   "file_extension": ".py",
   "mimetype": "text/x-python",
   "name": "python",
   "nbconvert_exporter": "python",
   "pygments_lexer": "ipython3",
   "version": "3.9.7"
  }
 },
 "nbformat": 4,
 "nbformat_minor": 5
}
