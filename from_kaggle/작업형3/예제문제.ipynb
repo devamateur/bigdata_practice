{
 "cells": [
  {
   "cell_type": "markdown",
   "id": "fadd2e0e",
   "metadata": {},
   "source": [
    "## 1. 일원배치 분산분석(ANOVA)\n",
    "세 가지 다른 교육 방법(A, B, C)을 사용하여 수험생들의 시험 성적을 개선시키는 효과를 평가하고자 한다. 30명의 학생들을 무작위로 세 그룹으로 배정하여 교육을 실시하였고, 시험을 보고 성적을 측정하였습니다. 다음은 각 그룹의 학생들의 성적 데이터입니다.\n",
    "- 귀무가설(H0): 세 그룹(A, B, C) 간의 평균 성적 차이가 없다.\n",
    "- 대립가설(H1 또는 Ha): 세 그룹(A, B, C) 간의 평균 성적 차이가 있다.\n",
    "<br>\n",
    "\n",
    "### 다음 주어진 데이터로 일원배치법을 수행하여 그룹 간의 평균 성적 차이가 있는지 검정하세요\n",
    "- f값 (소수 둘째자리)\n",
    "- p값 (소수 여섯째자리)\n",
    "- 검정결과 출력"
   ]
  },
  {
   "cell_type": "code",
   "execution_count": 1,
   "id": "2bb678e2",
   "metadata": {},
   "outputs": [],
   "source": [
    "# 각 그룹의 데이터\n",
    "groupA = [85, 92, 78, 88, 83, 90, 76, 84, 92, 87]\n",
    "groupB = [79, 69, 84, 78, 79, 83, 79, 81, 86, 88]\n",
    "groupC = [75, 68, 74, 65, 77, 72, 70, 73, 78, 75]"
   ]
  },
  {
   "cell_type": "code",
   "execution_count": 15,
   "id": "877f58e3",
   "metadata": {},
   "outputs": [
    {
     "name": "stdout",
     "output_type": "stream",
     "text": [
      "16.88\n",
      "0.000018\n"
     ]
    }
   ],
   "source": [
    "# 일원배치법\n",
    "from scipy.stats import f_oneway\n",
    "f_val, p_val = f_oneway(groupA, groupB, groupC)\n",
    "\n",
    "print(round(f_val, 2))\n",
    "#print(round(p_val, 6))\n",
    "print(format(p_val, '.6f'))"
   ]
  },
  {
   "cell_type": "code",
   "execution_count": 19,
   "id": "03579809",
   "metadata": {},
   "outputs": [
    {
     "name": "stdout",
     "output_type": "stream",
     "text": [
      "귀무가설 기각, 세 그룹(A, B, C) 간의 평균 성적 차이가 있다.\n"
     ]
    }
   ],
   "source": [
    "if p_val < 0.05:\n",
    "    print('귀무가설 기각, 세 그룹(A, B, C) 간의 평균 성적 차이가 있다.')\n",
    "else:\n",
    "    print('귀무가설 채택, 세 그룹(A, B, C) 간의 평균 성적 차이가 없다.')"
   ]
  },
  {
   "cell_type": "markdown",
   "id": "dae3527f",
   "metadata": {},
   "source": [
    "<br><br>\n",
    "\n",
    "## 2. Shapiro-Wilk 정규성 검정\n",
    "### 12명의 수험생이 빅데이터 분석기사 시험에서 받은 점수이다. Shapiro-Wilk 검정을 사용하여 데이터가 정규 분포를 따르는지 검증하시오\n",
    "- 귀무 가설(H0): 데이터는 정규 분포를 따른다.\n",
    "- 대립 가설(H1): 데이터는 정규 분포를 따르지 않는다.\n",
    "<br>\n",
    "\n",
    "## Shapiro-Wilk 검정 통계량, p-value, 검증결과를 출력하시오"
   ]
  },
  {
   "cell_type": "code",
   "execution_count": 20,
   "id": "93b66b0b",
   "metadata": {},
   "outputs": [],
   "source": [
    "data = [75, 83, 81, 92, 68, 77, 78, 80, 85, 95, 79, 89]"
   ]
  },
  {
   "cell_type": "code",
   "execution_count": 21,
   "id": "2fd0091c",
   "metadata": {},
   "outputs": [
    {
     "name": "stdout",
     "output_type": "stream",
     "text": [
      "0.9768092036247253\n",
      "0.967650830745697\n",
      "귀무가설 채택, 데이터는 정규 분포를 따른다.\n"
     ]
    }
   ],
   "source": [
    "from scipy.stats import shapiro\n",
    "shapiro, p_val = shapiro(data)\n",
    "\n",
    "print(shapiro)\n",
    "print(p_val)\n",
    "\n",
    "if p_val < 0.05:\n",
    "    print('귀무가설 기각, 데이터는 정규 분포를 따르지 않는다.')\n",
    "else:\n",
    "    print('귀무가설 채택, 데이터는 정규 분포를 따른다.')"
   ]
  },
  {
   "cell_type": "markdown",
   "id": "c3e97d2b",
   "metadata": {},
   "source": [
    "<br><br>\n",
    "\n",
    "## 3. 회귀모형(상관계수)\n",
    "### iris에서 Sepal Length와 Sepal Width의 상관계수 계산하고 소수 둘째자리까지 출력하시오¶\n"
   ]
  },
  {
   "cell_type": "code",
   "execution_count": 23,
   "id": "6ec36aaf",
   "metadata": {},
   "outputs": [
    {
     "data": {
      "text/html": [
       "<div>\n",
       "<style scoped>\n",
       "    .dataframe tbody tr th:only-of-type {\n",
       "        vertical-align: middle;\n",
       "    }\n",
       "\n",
       "    .dataframe tbody tr th {\n",
       "        vertical-align: top;\n",
       "    }\n",
       "\n",
       "    .dataframe thead th {\n",
       "        text-align: right;\n",
       "    }\n",
       "</style>\n",
       "<table border=\"1\" class=\"dataframe\">\n",
       "  <thead>\n",
       "    <tr style=\"text-align: right;\">\n",
       "      <th></th>\n",
       "      <th>sepal length (cm)</th>\n",
       "      <th>sepal width (cm)</th>\n",
       "      <th>petal length (cm)</th>\n",
       "      <th>petal width (cm)</th>\n",
       "    </tr>\n",
       "  </thead>\n",
       "  <tbody>\n",
       "    <tr>\n",
       "      <th>0</th>\n",
       "      <td>5.1</td>\n",
       "      <td>3.5</td>\n",
       "      <td>1.4</td>\n",
       "      <td>0.2</td>\n",
       "    </tr>\n",
       "    <tr>\n",
       "      <th>1</th>\n",
       "      <td>4.9</td>\n",
       "      <td>3.0</td>\n",
       "      <td>1.4</td>\n",
       "      <td>0.2</td>\n",
       "    </tr>\n",
       "    <tr>\n",
       "      <th>2</th>\n",
       "      <td>4.7</td>\n",
       "      <td>3.2</td>\n",
       "      <td>1.3</td>\n",
       "      <td>0.2</td>\n",
       "    </tr>\n",
       "    <tr>\n",
       "      <th>3</th>\n",
       "      <td>4.6</td>\n",
       "      <td>3.1</td>\n",
       "      <td>1.5</td>\n",
       "      <td>0.2</td>\n",
       "    </tr>\n",
       "    <tr>\n",
       "      <th>4</th>\n",
       "      <td>5.0</td>\n",
       "      <td>3.6</td>\n",
       "      <td>1.4</td>\n",
       "      <td>0.2</td>\n",
       "    </tr>\n",
       "  </tbody>\n",
       "</table>\n",
       "</div>"
      ],
      "text/plain": [
       "   sepal length (cm)  sepal width (cm)  petal length (cm)  petal width (cm)\n",
       "0                5.1               3.5                1.4               0.2\n",
       "1                4.9               3.0                1.4               0.2\n",
       "2                4.7               3.2                1.3               0.2\n",
       "3                4.6               3.1                1.5               0.2\n",
       "4                5.0               3.6                1.4               0.2"
      ]
     },
     "execution_count": 23,
     "metadata": {},
     "output_type": "execute_result"
    }
   ],
   "source": [
    "from sklearn.datasets import load_iris\n",
    "\n",
    "df = pd.DataFrame(load_iris().data, columns=load_iris().feature_names)\n",
    "df.head()"
   ]
  },
  {
   "cell_type": "code",
   "execution_count": 28,
   "id": "5eff381b",
   "metadata": {},
   "outputs": [
    {
     "name": "stdout",
     "output_type": "stream",
     "text": [
      "Index(['sepal length (cm)', 'sepal width (cm)', 'petal length (cm)',\n",
      "       'petal width (cm)'],\n",
      "      dtype='object')\n"
     ]
    },
    {
     "data": {
      "text/html": [
       "<div>\n",
       "<style scoped>\n",
       "    .dataframe tbody tr th:only-of-type {\n",
       "        vertical-align: middle;\n",
       "    }\n",
       "\n",
       "    .dataframe tbody tr th {\n",
       "        vertical-align: top;\n",
       "    }\n",
       "\n",
       "    .dataframe thead th {\n",
       "        text-align: right;\n",
       "    }\n",
       "</style>\n",
       "<table border=\"1\" class=\"dataframe\">\n",
       "  <thead>\n",
       "    <tr style=\"text-align: right;\">\n",
       "      <th></th>\n",
       "      <th>sepal length (cm)</th>\n",
       "      <th>sepal width (cm)</th>\n",
       "      <th>petal length (cm)</th>\n",
       "      <th>petal width (cm)</th>\n",
       "    </tr>\n",
       "  </thead>\n",
       "  <tbody>\n",
       "    <tr>\n",
       "      <th>sepal length (cm)</th>\n",
       "      <td>1.000000</td>\n",
       "      <td>-0.117570</td>\n",
       "      <td>0.871754</td>\n",
       "      <td>0.817941</td>\n",
       "    </tr>\n",
       "    <tr>\n",
       "      <th>sepal width (cm)</th>\n",
       "      <td>-0.117570</td>\n",
       "      <td>1.000000</td>\n",
       "      <td>-0.428440</td>\n",
       "      <td>-0.366126</td>\n",
       "    </tr>\n",
       "    <tr>\n",
       "      <th>petal length (cm)</th>\n",
       "      <td>0.871754</td>\n",
       "      <td>-0.428440</td>\n",
       "      <td>1.000000</td>\n",
       "      <td>0.962865</td>\n",
       "    </tr>\n",
       "    <tr>\n",
       "      <th>petal width (cm)</th>\n",
       "      <td>0.817941</td>\n",
       "      <td>-0.366126</td>\n",
       "      <td>0.962865</td>\n",
       "      <td>1.000000</td>\n",
       "    </tr>\n",
       "  </tbody>\n",
       "</table>\n",
       "</div>"
      ],
      "text/plain": [
       "                   sepal length (cm)  sepal width (cm)  petal length (cm)  \\\n",
       "sepal length (cm)           1.000000         -0.117570           0.871754   \n",
       "sepal width (cm)           -0.117570          1.000000          -0.428440   \n",
       "petal length (cm)           0.871754         -0.428440           1.000000   \n",
       "petal width (cm)            0.817941         -0.366126           0.962865   \n",
       "\n",
       "                   petal width (cm)  \n",
       "sepal length (cm)          0.817941  \n",
       "sepal width (cm)          -0.366126  \n",
       "petal length (cm)          0.962865  \n",
       "petal width (cm)           1.000000  "
      ]
     },
     "execution_count": 28,
     "metadata": {},
     "output_type": "execute_result"
    }
   ],
   "source": [
    "# 방법 1. df.corr()\n",
    "\n",
    "print(df.columns)\n",
    "correl = df.corr()\n",
    "correl"
   ]
  },
  {
   "cell_type": "code",
   "execution_count": 29,
   "id": "d0ec0a78",
   "metadata": {},
   "outputs": [
    {
     "name": "stdout",
     "output_type": "stream",
     "text": [
      "-0.12\n"
     ]
    }
   ],
   "source": [
    "print(round(correl.iloc[1, 0], 2))"
   ]
  },
  {
   "cell_type": "code",
   "execution_count": 37,
   "id": "e67a9570",
   "metadata": {},
   "outputs": [
    {
     "name": "stdout",
     "output_type": "stream",
     "text": [
      "-0.12\n"
     ]
    }
   ],
   "source": [
    "# 방법 2. stats의 pearsonr\n",
    "from scipy.stats import pearsonr\n",
    "correl2, p_val = pearsonr(df['sepal length (cm)'], df['sepal width (cm)'])\n",
    "print(round(correl2, 2))\n",
    "#print(p_val)"
   ]
  },
  {
   "cell_type": "markdown",
   "id": "b1e90e64",
   "metadata": {},
   "source": [
    "## 정리\n",
    "### 일원배치 분산분석(ANOVA)\n",
    "- from scipy.stats import f_oneway\n",
    "- f_oneway(group1, group2, group3, ...): 그룹은 최소 2개 이상 있어야 함\n",
    "- 리턴: f-통계량, p-val\n",
    "<br>\n",
    "\n",
    "### Shapiro-Wilk 정규성 검정\n",
    "- from scipy.stats import shapiro\n",
    "- shapiro(data)\n",
    "<br>\n",
    "\n",
    "### 상관계수\n",
    "1) df.corr(method)\n",
    "- method: pearson, spearman, kendall 등 <br>\n",
    "\n",
    "2) from scipy.stats import pearsonr"
   ]
  },
  {
   "cell_type": "code",
   "execution_count": null,
   "id": "da97742d",
   "metadata": {},
   "outputs": [],
   "source": []
  }
 ],
 "metadata": {
  "kernelspec": {
   "display_name": "Python 3 (ipykernel)",
   "language": "python",
   "name": "python3"
  },
  "language_info": {
   "codemirror_mode": {
    "name": "ipython",
    "version": 3
   },
   "file_extension": ".py",
   "mimetype": "text/x-python",
   "name": "python",
   "nbconvert_exporter": "python",
   "pygments_lexer": "ipython3",
   "version": "3.9.7"
  }
 },
 "nbformat": 4,
 "nbformat_minor": 5
}
