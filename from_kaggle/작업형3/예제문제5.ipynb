{
 "cells": [
  {
   "cell_type": "markdown",
   "id": "2034f6b8",
   "metadata": {},
   "source": [
    "## 1. 베르누이 분포와 이항분포\n",
    "### [베르누이 분포] 다음 데이터는 100번의 시도에서 각각 성공(1) 또는 실패(0)를 나타냅니다. 이 데이터를 바탕으로 각 시도의 성공 확률을 계산하시오.\n",
    "### [이항분포] 1번 문제에서 계산한 성공 확률을 사용하여, 100번의 시도 중 정확히 60번 성공할 확률을 계산하시오."
   ]
  },
  {
   "cell_type": "code",
   "execution_count": 1,
   "id": "d3a50c64",
   "metadata": {},
   "outputs": [
    {
     "data": {
      "text/html": [
       "<div>\n",
       "<style scoped>\n",
       "    .dataframe tbody tr th:only-of-type {\n",
       "        vertical-align: middle;\n",
       "    }\n",
       "\n",
       "    .dataframe tbody tr th {\n",
       "        vertical-align: top;\n",
       "    }\n",
       "\n",
       "    .dataframe thead th {\n",
       "        text-align: right;\n",
       "    }\n",
       "</style>\n",
       "<table border=\"1\" class=\"dataframe\">\n",
       "  <thead>\n",
       "    <tr style=\"text-align: right;\">\n",
       "      <th></th>\n",
       "      <th>Success</th>\n",
       "    </tr>\n",
       "  </thead>\n",
       "  <tbody>\n",
       "    <tr>\n",
       "      <th>0</th>\n",
       "      <td>1</td>\n",
       "    </tr>\n",
       "    <tr>\n",
       "      <th>1</th>\n",
       "      <td>0</td>\n",
       "    </tr>\n",
       "    <tr>\n",
       "      <th>2</th>\n",
       "      <td>0</td>\n",
       "    </tr>\n",
       "    <tr>\n",
       "      <th>3</th>\n",
       "      <td>1</td>\n",
       "    </tr>\n",
       "    <tr>\n",
       "      <th>4</th>\n",
       "      <td>1</td>\n",
       "    </tr>\n",
       "  </tbody>\n",
       "</table>\n",
       "</div>"
      ],
      "text/plain": [
       "   Success\n",
       "0        1\n",
       "1        0\n",
       "2        0\n",
       "3        1\n",
       "4        1"
      ]
     },
     "execution_count": 1,
     "metadata": {},
     "output_type": "execute_result"
    }
   ],
   "source": [
    "import pandas as pd\n",
    "\n",
    "df = pd.read_csv('../data/t3_success.csv')\n",
    "df.head()"
   ]
  },
  {
   "cell_type": "code",
   "execution_count": 2,
   "id": "fbd993a7",
   "metadata": {},
   "outputs": [
    {
     "data": {
      "text/plain": [
       "Success    0\n",
       "dtype: int64"
      ]
     },
     "execution_count": 2,
     "metadata": {},
     "output_type": "execute_result"
    }
   ],
   "source": [
    "df.isnull().sum()"
   ]
  },
  {
   "cell_type": "code",
   "execution_count": 8,
   "id": "6589f31e",
   "metadata": {},
   "outputs": [
    {
     "name": "stdout",
     "output_type": "stream",
     "text": [
      "62 38\n"
     ]
    }
   ],
   "source": [
    "success = len(df[df['Success']==1])\n",
    "fail = len(df)-success\n",
    "print(success, fail)"
   ]
  },
  {
   "cell_type": "code",
   "execution_count": 6,
   "id": "a9947928",
   "metadata": {},
   "outputs": [
    {
     "name": "stdout",
     "output_type": "stream",
     "text": [
      "0.62\n"
     ]
    }
   ],
   "source": [
    "# 1. 베르누이 분포\n",
    "print(success/len(df))"
   ]
  },
  {
   "cell_type": "code",
   "execution_count": 9,
   "id": "6da5fd47",
   "metadata": {},
   "outputs": [
    {
     "name": "stdout",
     "output_type": "stream",
     "text": [
      "0.07464985555860272\n"
     ]
    }
   ],
   "source": [
    "# 2. 이항분포\n",
    "### scipy.stats의 binom\n",
    "s_rate = success/len(df)\n",
    "\n",
    "from scipy.stats import binom\n",
    "\n",
    "n = 100  # 시도 횟수\n",
    "k = 60   # 성공 횟수\n",
    "prob = binom.pmf(k, n, s_rate)\n",
    "print(prob)"
   ]
  },
  {
   "cell_type": "markdown",
   "id": "31125b8f",
   "metadata": {},
   "source": [
    "<br><br>\n",
    "## 2. 점 추정과 구간 추정\n",
    "데이터셋은 어떤 도시의 일일 평균 온도 입니다.\n",
    "\n",
    "- 점추정: 데이터셋을 기반으로 이 도시의 평균 연간 온도를 점추정하세요. (반올림하여 소수 둘째자리까지)\n",
    "- 구간추정: 95% 신뢰수준에서 이 도시의 평균 연간 온도에 대한 신뢰구간을 구하세요.  (반올림하여 소수 둘째자리까지)"
   ]
  },
  {
   "cell_type": "code",
   "execution_count": 10,
   "id": "166221e0",
   "metadata": {},
   "outputs": [
    {
     "data": {
      "text/html": [
       "<div>\n",
       "<style scoped>\n",
       "    .dataframe tbody tr th:only-of-type {\n",
       "        vertical-align: middle;\n",
       "    }\n",
       "\n",
       "    .dataframe tbody tr th {\n",
       "        vertical-align: top;\n",
       "    }\n",
       "\n",
       "    .dataframe thead th {\n",
       "        text-align: right;\n",
       "    }\n",
       "</style>\n",
       "<table border=\"1\" class=\"dataframe\">\n",
       "  <thead>\n",
       "    <tr style=\"text-align: right;\">\n",
       "      <th></th>\n",
       "      <th>Daily Average Temperature</th>\n",
       "    </tr>\n",
       "  </thead>\n",
       "  <tbody>\n",
       "    <tr>\n",
       "      <th>0</th>\n",
       "      <td>28.820262</td>\n",
       "    </tr>\n",
       "    <tr>\n",
       "      <th>1</th>\n",
       "      <td>22.000786</td>\n",
       "    </tr>\n",
       "    <tr>\n",
       "      <th>2</th>\n",
       "      <td>24.893690</td>\n",
       "    </tr>\n",
       "    <tr>\n",
       "      <th>3</th>\n",
       "      <td>31.204466</td>\n",
       "    </tr>\n",
       "    <tr>\n",
       "      <th>4</th>\n",
       "      <td>29.337790</td>\n",
       "    </tr>\n",
       "  </tbody>\n",
       "</table>\n",
       "</div>"
      ],
      "text/plain": [
       "   Daily Average Temperature\n",
       "0                  28.820262\n",
       "1                  22.000786\n",
       "2                  24.893690\n",
       "3                  31.204466\n",
       "4                  29.337790"
      ]
     },
     "execution_count": 10,
     "metadata": {},
     "output_type": "execute_result"
    }
   ],
   "source": [
    "import pandas as pd\n",
    "temperature = pd.read_csv(\"../data/daily_temperatures.csv\")\n",
    "\n",
    "temperature.head()"
   ]
  },
  {
   "cell_type": "code",
   "execution_count": 12,
   "id": "ce9baf1c",
   "metadata": {},
   "outputs": [
    {
     "name": "stdout",
     "output_type": "stream",
     "text": [
      "19.94\n"
     ]
    }
   ],
   "source": [
    "# 1. 점추정\n",
    "mean_temp = temperature.iloc[:, 0].mean()\n",
    "print(round(mean_temp, 2))"
   ]
  },
  {
   "cell_type": "code",
   "execution_count": 14,
   "id": "77bcb5c9",
   "metadata": {},
   "outputs": [
    {
     "name": "stdout",
     "output_type": "stream",
     "text": [
      "(19.427887094620395, 20.44726799333666)\n"
     ]
    }
   ],
   "source": [
    "# 2. 구간추정\n",
    "from scipy import stats\n",
    "\n",
    "conf = 0.95\n",
    "std = temperature.iloc[:, 0].std()\n",
    "n = len(temperature)\n",
    "\n",
    "sem = stats.sem(temperature.iloc[:, 0])\n",
    "\n",
    "# conf: 신뢰수준, df: 자유도, loc: 분포의 평균, scale: \n",
    "confidence_interval = stats.t.interval(conf, df=n-1, loc=mean_temp, scale=sem)\n",
    "print(confidence_interval)"
   ]
  },
  {
   "cell_type": "code",
   "execution_count": null,
   "id": "a8f7b4c4",
   "metadata": {},
   "outputs": [],
   "source": []
  }
 ],
 "metadata": {
  "kernelspec": {
   "display_name": "Python 3 (ipykernel)",
   "language": "python",
   "name": "python3"
  },
  "language_info": {
   "codemirror_mode": {
    "name": "ipython",
    "version": 3
   },
   "file_extension": ".py",
   "mimetype": "text/x-python",
   "name": "python",
   "nbconvert_exporter": "python",
   "pygments_lexer": "ipython3",
   "version": "3.9.7"
  }
 },
 "nbformat": 4,
 "nbformat_minor": 5
}
