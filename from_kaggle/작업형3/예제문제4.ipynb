{
 "cells": [
  {
   "cell_type": "markdown",
   "id": "29734e1d",
   "metadata": {},
   "source": [
    "## 1. 지지도, 신뢰도, 향상도\n",
    "- 1. '빼빼로'와 '딴짓초코'가 함께 팔린 거래의 지지도를 계산하세요.\n",
    "- 2. '빼빼로'가 팔린 거래 중에서 '빼빼로'와 '오징어칩'이 함께 팔린 거래의 신뢰도를 계산하세요.\n",
    "- 3. '빼빼로'와 '양조위빵'의 향상도를 계산하세요.\n",
    "\n",
    "<br>\n",
    "\n",
    "- 지지도(A,B): A와 B가 함께 팔린 거래 횟수 / 전체 거래 횟수\n",
    "- 신뢰도(A->B): A와 B가 함께 팔린 거래 횟수 / A가 팔린 거래 횟수\n",
    "- 향상도(A,B): 신뢰도(A->B) / 지지도(B)"
   ]
  },
  {
   "cell_type": "code",
   "execution_count": 1,
   "id": "ed8e496e",
   "metadata": {},
   "outputs": [
    {
     "data": {
      "text/html": [
       "<div>\n",
       "<style scoped>\n",
       "    .dataframe tbody tr th:only-of-type {\n",
       "        vertical-align: middle;\n",
       "    }\n",
       "\n",
       "    .dataframe tbody tr th {\n",
       "        vertical-align: top;\n",
       "    }\n",
       "\n",
       "    .dataframe thead th {\n",
       "        text-align: right;\n",
       "    }\n",
       "</style>\n",
       "<table border=\"1\" class=\"dataframe\">\n",
       "  <thead>\n",
       "    <tr style=\"text-align: right;\">\n",
       "      <th></th>\n",
       "      <th>transaction</th>\n",
       "      <th>빼빼로</th>\n",
       "      <th>딴짓초코</th>\n",
       "      <th>양조위빵</th>\n",
       "      <th>오징어칩</th>\n",
       "      <th>초코파이</th>\n",
       "    </tr>\n",
       "  </thead>\n",
       "  <tbody>\n",
       "    <tr>\n",
       "      <th>0</th>\n",
       "      <td>1</td>\n",
       "      <td>1</td>\n",
       "      <td>0</td>\n",
       "      <td>1</td>\n",
       "      <td>0</td>\n",
       "      <td>1</td>\n",
       "    </tr>\n",
       "    <tr>\n",
       "      <th>1</th>\n",
       "      <td>2</td>\n",
       "      <td>0</td>\n",
       "      <td>1</td>\n",
       "      <td>0</td>\n",
       "      <td>1</td>\n",
       "      <td>1</td>\n",
       "    </tr>\n",
       "    <tr>\n",
       "      <th>2</th>\n",
       "      <td>3</td>\n",
       "      <td>1</td>\n",
       "      <td>1</td>\n",
       "      <td>0</td>\n",
       "      <td>1</td>\n",
       "      <td>0</td>\n",
       "    </tr>\n",
       "    <tr>\n",
       "      <th>3</th>\n",
       "      <td>4</td>\n",
       "      <td>1</td>\n",
       "      <td>0</td>\n",
       "      <td>1</td>\n",
       "      <td>0</td>\n",
       "      <td>0</td>\n",
       "    </tr>\n",
       "    <tr>\n",
       "      <th>4</th>\n",
       "      <td>5</td>\n",
       "      <td>0</td>\n",
       "      <td>1</td>\n",
       "      <td>1</td>\n",
       "      <td>0</td>\n",
       "      <td>1</td>\n",
       "    </tr>\n",
       "    <tr>\n",
       "      <th>5</th>\n",
       "      <td>6</td>\n",
       "      <td>1</td>\n",
       "      <td>0</td>\n",
       "      <td>1</td>\n",
       "      <td>1</td>\n",
       "      <td>0</td>\n",
       "    </tr>\n",
       "    <tr>\n",
       "      <th>6</th>\n",
       "      <td>7</td>\n",
       "      <td>1</td>\n",
       "      <td>1</td>\n",
       "      <td>0</td>\n",
       "      <td>0</td>\n",
       "      <td>1</td>\n",
       "    </tr>\n",
       "    <tr>\n",
       "      <th>7</th>\n",
       "      <td>8</td>\n",
       "      <td>0</td>\n",
       "      <td>1</td>\n",
       "      <td>0</td>\n",
       "      <td>1</td>\n",
       "      <td>1</td>\n",
       "    </tr>\n",
       "    <tr>\n",
       "      <th>8</th>\n",
       "      <td>9</td>\n",
       "      <td>1</td>\n",
       "      <td>0</td>\n",
       "      <td>1</td>\n",
       "      <td>1</td>\n",
       "      <td>0</td>\n",
       "    </tr>\n",
       "    <tr>\n",
       "      <th>9</th>\n",
       "      <td>10</td>\n",
       "      <td>1</td>\n",
       "      <td>0</td>\n",
       "      <td>0</td>\n",
       "      <td>1</td>\n",
       "      <td>0</td>\n",
       "    </tr>\n",
       "  </tbody>\n",
       "</table>\n",
       "</div>"
      ],
      "text/plain": [
       "   transaction  빼빼로  딴짓초코  양조위빵  오징어칩  초코파이\n",
       "0            1    1     0     1     0     1\n",
       "1            2    0     1     0     1     1\n",
       "2            3    1     1     0     1     0\n",
       "3            4    1     0     1     0     0\n",
       "4            5    0     1     1     0     1\n",
       "5            6    1     0     1     1     0\n",
       "6            7    1     1     0     0     1\n",
       "7            8    0     1     0     1     1\n",
       "8            9    1     0     1     1     0\n",
       "9           10    1     0     0     1     0"
      ]
     },
     "execution_count": 1,
     "metadata": {},
     "output_type": "execute_result"
    }
   ],
   "source": [
    "import pandas as pd\n",
    "# 데이터\n",
    "df = pd.DataFrame({\n",
    "    'transaction': [1, 2, 3, 4, 5, 6, 7, 8, 9, 10],\n",
    "    '빼빼로': [1, 0, 1, 1, 0, 1, 1, 0, 1, 1],\n",
    "    '딴짓초코': [0, 1, 1, 0, 1, 0, 1, 1, 0, 0],\n",
    "    '양조위빵': [1, 0, 0, 1, 1, 1, 0, 0, 1, 0],\n",
    "    '오징어칩': [0, 1, 1, 0, 0, 1, 0, 1, 1, 1],\n",
    "    '초코파이': [1, 1, 0, 0, 1, 0, 1, 1, 0, 0]\n",
    "})\n",
    "\n",
    "df"
   ]
  },
  {
   "cell_type": "code",
   "execution_count": 47,
   "id": "699157e8",
   "metadata": {},
   "outputs": [
    {
     "name": "stdout",
     "output_type": "stream",
     "text": [
      "10\n",
      "2\n",
      "0.2\n"
     ]
    }
   ],
   "source": [
    "# 1. '빼빼로'와 '딴짓초코'가 함께 팔린 거래의 지지도\n",
    "\n",
    "# 전체 거래수\n",
    "total = len(df)\n",
    "print(total)\n",
    "\n",
    "# 빼빼로와 딴짓초고가 함께 팔린 거래수\n",
    "intersaction = len(df[(df['빼빼로']==1)&(df['딴짓초코']==1)])\n",
    "print(intersaction)\n",
    "\n",
    "print(intersaction/total)"
   ]
  },
  {
   "cell_type": "code",
   "execution_count": 49,
   "id": "6cc443fe",
   "metadata": {},
   "outputs": [
    {
     "name": "stdout",
     "output_type": "stream",
     "text": [
      "7\n",
      "0.5714285714285714\n"
     ]
    }
   ],
   "source": [
    "# 2. '빼빼로'가 팔린 거래 중에서 '빼빼로'와 '오징어칩'이 함께 팔린 거래의 신뢰도를 계산하세요.\n",
    "\n",
    "# 신뢰도 = p(A n B) / P(A)\n",
    "\n",
    "# 빼빼로 거래\n",
    "pepero = sum(df['빼빼로'])\n",
    "print(pepero)\n",
    "\n",
    "# 빼빼로 오징어칩 거래\n",
    "intersaction = len(df[(df['빼빼로']==1) & (df['오징어칩']==1)])\n",
    "\n",
    "print(intersaction/pepero)"
   ]
  },
  {
   "cell_type": "code",
   "execution_count": 56,
   "id": "1bcdc799",
   "metadata": {},
   "outputs": [
    {
     "name": "stdout",
     "output_type": "stream",
     "text": [
      "7\n",
      "5\n",
      "4\n",
      "1.1428571428571428\n"
     ]
    }
   ],
   "source": [
    "# 3. '빼빼로'와 '양조위빵'의 향상도를 계산하세요.\n",
    "\n",
    "# 향상도 =  신뢰도(A, B)/지지도(B)\n",
    "\n",
    "# 빼빼로 거래\n",
    "pepero = sum(df['빼빼로'])\n",
    "print(pepero)\n",
    "\n",
    "# 양조위빵\n",
    "bread = sum(df['양조위빵'])\n",
    "print(bread)\n",
    "\n",
    "# 빼빼로 양조위빵 거래\n",
    "intersaction = len(df[(df['빼빼로']==1) & (df['양조위빵']==1)])\n",
    "print(intersaction)\n",
    "\n",
    "print((intersaction*total)/(pepero*bread))"
   ]
  },
  {
   "cell_type": "code",
   "execution_count": 55,
   "id": "00ca43b2",
   "metadata": {},
   "outputs": [
    {
     "name": "stdout",
     "output_type": "stream",
     "text": [
      "1.1428571428571428\n"
     ]
    }
   ],
   "source": [
    "print((intersaction/pepero)/(bread/total))"
   ]
  },
  {
   "cell_type": "markdown",
   "id": "0047c2bb",
   "metadata": {},
   "source": [
    "<br><br>\n",
    "\n",
    "## 2. 포아송분포\n",
    "### 문제: 한 서점에서는 평균적으로 하루에 3명의 고객이 특정 잡지를 구매합니다. 이 데이터는 포아송 분포를 따른다고 가정할 때, 다음 질문에 대한 답을 구하세요.\n",
    "\n",
    "#### - 하루에 정확히 5명의 고객이 잡지를 구매할 확률은 얼마입니까? (%로 값을 정수로 입력하시오)\n",
    "#### - 하루에 적어도 2명의 고객이 잡지를 구매할 확률은 얼마입니까? (%로 값을 정수로 입력하시오)"
   ]
  },
  {
   "attachments": {
    "image.png": {
     "image/png": "[encoded data removed]"
    }
   },
   "cell_type": "markdown",
   "id": "eacd1161",
   "metadata": {},
   "source": [
    "- 포아송 분포의 확률 질량 함수(PMF)\n",
    "![image.png](attachment:image.png)\n",
    "\n",
    "- λ는 단위 시간(또는 단위 공간)당 평균 발생 횟수이고, k는 특정 시간(또는 공간) 동안의 이벤트 발생 횟수입니다."
   ]
  },
  {
   "cell_type": "code",
   "execution_count": 57,
   "id": "31a3c41f",
   "metadata": {},
   "outputs": [
    {
     "name": "stdout",
     "output_type": "stream",
     "text": [
      "Help on poisson_gen in module scipy.stats._discrete_distns:\n",
      "\n",
      "<scipy.stats._discrete_distns.poisson_gen object>\n",
      "    A Poisson discrete random variable.\n",
      "    \n",
      "    As an instance of the `rv_discrete` class, `poisson` object inherits from it\n",
      "    a collection of generic methods (see below for the full list),\n",
      "    and completes them with details specific for this particular distribution.\n",
      "    \n",
      "    Methods\n",
      "    -------\n",
      "    rvs(mu, loc=0, size=1, random_state=None)\n",
      "        Random variates.\n",
      "    pmf(k, mu, loc=0)\n",
      "        Probability mass function.\n",
      "    logpmf(k, mu, loc=0)\n",
      "        Log of the probability mass function.\n",
      "    cdf(k, mu, loc=0)\n",
      "        Cumulative distribution function.\n",
      "    logcdf(k, mu, loc=0)\n",
      "        Log of the cumulative distribution function.\n",
      "    sf(k, mu, loc=0)\n",
      "        Survival function  (also defined as ``1 - cdf``, but `sf` is sometimes more accurate).\n",
      "    logsf(k, mu, loc=0)\n",
      "        Log of the survival function.\n",
      "    ppf(q, mu, loc=0)\n",
      "        Percent point function (inverse of ``cdf`` --- percentiles).\n",
      "    isf(q, mu, loc=0)\n",
      "        Inverse survival function (inverse of ``sf``).\n",
      "    stats(mu, loc=0, moments='mv')\n",
      "        Mean('m'), variance('v'), skew('s'), and/or kurtosis('k').\n",
      "    entropy(mu, loc=0)\n",
      "        (Differential) entropy of the RV.\n",
      "    expect(func, args=(mu,), loc=0, lb=None, ub=None, conditional=False)\n",
      "        Expected value of a function (of one argument) with respect to the distribution.\n",
      "    median(mu, loc=0)\n",
      "        Median of the distribution.\n",
      "    mean(mu, loc=0)\n",
      "        Mean of the distribution.\n",
      "    var(mu, loc=0)\n",
      "        Variance of the distribution.\n",
      "    std(mu, loc=0)\n",
      "        Standard deviation of the distribution.\n",
      "    interval(alpha, mu, loc=0)\n",
      "        Endpoints of the range that contains fraction alpha [0, 1] of the\n",
      "        distribution\n",
      "    \n",
      "    Notes\n",
      "    -----\n",
      "    The probability mass function for `poisson` is:\n",
      "    \n",
      "    .. math::\n",
      "    \n",
      "        f(k) = \\exp(-\\mu) \\frac{\\mu^k}{k!}\n",
      "    \n",
      "    for :math:`k \\ge 0`.\n",
      "    \n",
      "    `poisson` takes :math:`\\mu \\geq 0` as shape parameter.\n",
      "    When :math:`\\mu = 0`, the ``pmf`` method\n",
      "    returns ``1.0`` at quantile :math:`k = 0`.\n",
      "    \n",
      "    The probability mass function above is defined in the \"standardized\" form.\n",
      "    To shift distribution use the ``loc`` parameter.\n",
      "    Specifically, ``poisson.pmf(k, mu, loc)`` is identically\n",
      "    equivalent to ``poisson.pmf(k - loc, mu)``.\n",
      "    \n",
      "    Examples\n",
      "    --------\n",
      "    >>> from scipy.stats import poisson\n",
      "    >>> import matplotlib.pyplot as plt\n",
      "    >>> fig, ax = plt.subplots(1, 1)\n",
      "    \n",
      "    Calculate the first four moments:\n",
      "    \n",
      "    >>> mu = 0.6\n",
      "    >>> mean, var, skew, kurt = poisson.stats(mu, moments='mvsk')\n",
      "    \n",
      "    Display the probability mass function (``pmf``):\n",
      "    \n",
      "    >>> x = np.arange(poisson.ppf(0.01, mu),\n",
      "    ...               poisson.ppf(0.99, mu))\n",
      "    >>> ax.plot(x, poisson.pmf(x, mu), 'bo', ms=8, label='poisson pmf')\n",
      "    >>> ax.vlines(x, 0, poisson.pmf(x, mu), colors='b', lw=5, alpha=0.5)\n",
      "    \n",
      "    Alternatively, the distribution object can be called (as a function)\n",
      "    to fix the shape and location. This returns a \"frozen\" RV object holding\n",
      "    the given parameters fixed.\n",
      "    \n",
      "    Freeze the distribution and display the frozen ``pmf``:\n",
      "    \n",
      "    >>> rv = poisson(mu)\n",
      "    >>> ax.vlines(x, 0, rv.pmf(x), colors='k', linestyles='-', lw=1,\n",
      "    ...         label='frozen pmf')\n",
      "    >>> ax.legend(loc='best', frameon=False)\n",
      "    >>> plt.show()\n",
      "    \n",
      "    Check accuracy of ``cdf`` and ``ppf``:\n",
      "    \n",
      "    >>> prob = poisson.cdf(x, mu)\n",
      "    >>> np.allclose(x, poisson.ppf(prob, mu))\n",
      "    True\n",
      "    \n",
      "    Generate random numbers:\n",
      "    \n",
      "    >>> r = poisson.rvs(mu, size=1000)\n",
      "\n"
     ]
    }
   ],
   "source": [
    "from scipy.stats import poisson\n",
    "help(poisson)"
   ]
  },
  {
   "cell_type": "code",
   "execution_count": 67,
   "id": "ba5e7829",
   "metadata": {},
   "outputs": [
    {
     "name": "stdout",
     "output_type": "stream",
     "text": [
      "10.0\n",
      "85.0\n"
     ]
    }
   ],
   "source": [
    "# 하루에 정확히 5명의 고객이 잡지를 구매할 확률\n",
    "lambda_ = 3\n",
    "\n",
    "print(round(poisson.pmf(5, lambda_), 2)*100)\n",
    "\n",
    "# 하루에 적어도 2명의 고객이 잡지를 구매할 확률\n",
    "print(round(1-poisson.pmf(1, lambda_), 2)*100)"
   ]
  },
  {
   "attachments": {
    "image.png": {
     "image/png": "[encoded data removed]"
    }
   },
   "cell_type": "markdown",
   "id": "85bd9997",
   "metadata": {},
   "source": [
    "<br><br>\n",
    "\n",
    "## 3. 독립성 검정(카이제곱 검정)\n",
    "### 성별과 시험합격은 독립적인가를 검정하시오!\n",
    "- 1 검정 통계량?\n",
    "- 2 p-value?\n",
    "- 3 귀무가설 기준 (기각/채택)?\n",
    "- 4 남자의 합격 기대 빈도?\n",
    "<br>\n",
    "\n",
    "![image.png](attachment:image.png)"
   ]
  },
  {
   "cell_type": "code",
   "execution_count": 69,
   "id": "7ddf777d",
   "metadata": {},
   "outputs": [
    {
     "data": {
      "text/html": [
       "<div>\n",
       "<style scoped>\n",
       "    .dataframe tbody tr th:only-of-type {\n",
       "        vertical-align: middle;\n",
       "    }\n",
       "\n",
       "    .dataframe tbody tr th {\n",
       "        vertical-align: top;\n",
       "    }\n",
       "\n",
       "    .dataframe thead th {\n",
       "        text-align: right;\n",
       "    }\n",
       "</style>\n",
       "<table border=\"1\" class=\"dataframe\">\n",
       "  <thead>\n",
       "    <tr style=\"text-align: right;\">\n",
       "      <th></th>\n",
       "      <th>합격</th>\n",
       "      <th>불합격</th>\n",
       "    </tr>\n",
       "  </thead>\n",
       "  <tbody>\n",
       "    <tr>\n",
       "      <th>남자</th>\n",
       "      <td>100</td>\n",
       "      <td>200</td>\n",
       "    </tr>\n",
       "    <tr>\n",
       "      <th>여자</th>\n",
       "      <td>130</td>\n",
       "      <td>170</td>\n",
       "    </tr>\n",
       "  </tbody>\n",
       "</table>\n",
       "</div>"
      ],
      "text/plain": [
       "     합격  불합격\n",
       "남자  100  200\n",
       "여자  130  170"
      ]
     },
     "execution_count": 69,
     "metadata": {},
     "output_type": "execute_result"
    }
   ],
   "source": [
    "import pandas as pd\n",
    "\n",
    "gender = ['남자', '여자']\n",
    "df = pd.DataFrame({'합격':[100, 130], '불합격':[200, 170]}, index=gender)\n",
    "df"
   ]
  },
  {
   "cell_type": "code",
   "execution_count": 74,
   "id": "16a1e787",
   "metadata": {},
   "outputs": [
    {
     "name": "stdout",
     "output_type": "stream",
     "text": [
      "5.929494712103407\n",
      "0.01488951060599475\n",
      "귀무가설 기각\n",
      "115.0\n"
     ]
    }
   ],
   "source": [
    "from scipy.stats import chi2_contingency\n",
    "\n",
    "st, p_val, dof, exp = chi2_contingency(df)\n",
    "print(st)\n",
    "print(p_val)\n",
    "\n",
    "if p_val < 0.05:\n",
    "    print('귀무가설 기각')\n",
    "else:\n",
    "    print('귀무가설 채택')\n",
    "print(exp[0][0])"
   ]
  },
  {
   "cell_type": "code",
   "execution_count": null,
   "id": "066f4f27",
   "metadata": {},
   "outputs": [],
   "source": []
  }
 ],
 "metadata": {
  "kernelspec": {
   "display_name": "Python 3 (ipykernel)",
   "language": "python",
   "name": "python3"
  },
  "language_info": {
   "codemirror_mode": {
    "name": "ipython",
    "version": 3
   },
   "file_extension": ".py",
   "mimetype": "text/x-python",
   "name": "python",
   "nbconvert_exporter": "python",
   "pygments_lexer": "ipython3",
   "version": "3.9.7"
  }
 },
 "nbformat": 4,
 "nbformat_minor": 5
}
