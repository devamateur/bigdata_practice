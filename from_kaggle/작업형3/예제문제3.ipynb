{
 "cells": [
  {
   "cell_type": "markdown",
   "id": "82433d5c",
   "metadata": {},
   "source": [
    "## 1. 로지스틱 회귀\n",
    "## Pclass, Gender, sibsp, parch를 독립변수로 사용하여 로지스틱 회귀모형을 실시하였을 때, parch변수의 계수값은? 단, Pclass는 범주형 변수이다\n",
    "(반올림하여 소수 셋째 자리까지 계산)"
   ]
  },
  {
   "cell_type": "code",
   "execution_count": 1,
   "id": "9a3e888f",
   "metadata": {},
   "outputs": [
    {
     "data": {
      "text/html": [
       "<div>\n",
       "<style scoped>\n",
       "    .dataframe tbody tr th:only-of-type {\n",
       "        vertical-align: middle;\n",
       "    }\n",
       "\n",
       "    .dataframe tbody tr th {\n",
       "        vertical-align: top;\n",
       "    }\n",
       "\n",
       "    .dataframe thead th {\n",
       "        text-align: right;\n",
       "    }\n",
       "</style>\n",
       "<table border=\"1\" class=\"dataframe\">\n",
       "  <thead>\n",
       "    <tr style=\"text-align: right;\">\n",
       "      <th></th>\n",
       "      <th>PassengerId</th>\n",
       "      <th>Survived</th>\n",
       "      <th>Pclass</th>\n",
       "      <th>Name</th>\n",
       "      <th>Gender</th>\n",
       "      <th>Age</th>\n",
       "      <th>SibSp</th>\n",
       "      <th>Parch</th>\n",
       "      <th>Ticket</th>\n",
       "      <th>Fare</th>\n",
       "      <th>Cabin</th>\n",
       "      <th>Embarked</th>\n",
       "    </tr>\n",
       "  </thead>\n",
       "  <tbody>\n",
       "    <tr>\n",
       "      <th>0</th>\n",
       "      <td>1</td>\n",
       "      <td>0</td>\n",
       "      <td>3</td>\n",
       "      <td>Braund, Mr. Owen Harris</td>\n",
       "      <td>male</td>\n",
       "      <td>22.0</td>\n",
       "      <td>1</td>\n",
       "      <td>0</td>\n",
       "      <td>A/5 21171</td>\n",
       "      <td>7.2500</td>\n",
       "      <td>NaN</td>\n",
       "      <td>S</td>\n",
       "    </tr>\n",
       "    <tr>\n",
       "      <th>1</th>\n",
       "      <td>2</td>\n",
       "      <td>1</td>\n",
       "      <td>1</td>\n",
       "      <td>Cumings, Mrs. John Bradley (Florence Briggs Th...</td>\n",
       "      <td>female</td>\n",
       "      <td>38.0</td>\n",
       "      <td>1</td>\n",
       "      <td>0</td>\n",
       "      <td>PC 17599</td>\n",
       "      <td>71.2833</td>\n",
       "      <td>C85</td>\n",
       "      <td>C</td>\n",
       "    </tr>\n",
       "    <tr>\n",
       "      <th>2</th>\n",
       "      <td>3</td>\n",
       "      <td>1</td>\n",
       "      <td>3</td>\n",
       "      <td>Heikkinen, Miss. Laina</td>\n",
       "      <td>female</td>\n",
       "      <td>26.0</td>\n",
       "      <td>0</td>\n",
       "      <td>0</td>\n",
       "      <td>STON/O2. 3101282</td>\n",
       "      <td>7.9250</td>\n",
       "      <td>NaN</td>\n",
       "      <td>S</td>\n",
       "    </tr>\n",
       "    <tr>\n",
       "      <th>3</th>\n",
       "      <td>4</td>\n",
       "      <td>1</td>\n",
       "      <td>1</td>\n",
       "      <td>Futrelle, Mrs. Jacques Heath (Lily May Peel)</td>\n",
       "      <td>female</td>\n",
       "      <td>35.0</td>\n",
       "      <td>1</td>\n",
       "      <td>0</td>\n",
       "      <td>113803</td>\n",
       "      <td>53.1000</td>\n",
       "      <td>C123</td>\n",
       "      <td>S</td>\n",
       "    </tr>\n",
       "    <tr>\n",
       "      <th>4</th>\n",
       "      <td>5</td>\n",
       "      <td>0</td>\n",
       "      <td>3</td>\n",
       "      <td>Allen, Mr. William Henry</td>\n",
       "      <td>male</td>\n",
       "      <td>35.0</td>\n",
       "      <td>0</td>\n",
       "      <td>0</td>\n",
       "      <td>373450</td>\n",
       "      <td>8.0500</td>\n",
       "      <td>NaN</td>\n",
       "      <td>S</td>\n",
       "    </tr>\n",
       "  </tbody>\n",
       "</table>\n",
       "</div>"
      ],
      "text/plain": [
       "   PassengerId  Survived  Pclass  \\\n",
       "0            1         0       3   \n",
       "1            2         1       1   \n",
       "2            3         1       3   \n",
       "3            4         1       1   \n",
       "4            5         0       3   \n",
       "\n",
       "                                                Name  Gender   Age  SibSp  \\\n",
       "0                            Braund, Mr. Owen Harris    male  22.0      1   \n",
       "1  Cumings, Mrs. John Bradley (Florence Briggs Th...  female  38.0      1   \n",
       "2                             Heikkinen, Miss. Laina  female  26.0      0   \n",
       "3       Futrelle, Mrs. Jacques Heath (Lily May Peel)  female  35.0      1   \n",
       "4                           Allen, Mr. William Henry    male  35.0      0   \n",
       "\n",
       "   Parch            Ticket     Fare Cabin Embarked  \n",
       "0      0         A/5 21171   7.2500   NaN        S  \n",
       "1      0          PC 17599  71.2833   C85        C  \n",
       "2      0  STON/O2. 3101282   7.9250   NaN        S  \n",
       "3      0            113803  53.1000  C123        S  \n",
       "4      0            373450   8.0500   NaN        S  "
      ]
     },
     "execution_count": 1,
     "metadata": {},
     "output_type": "execute_result"
    }
   ],
   "source": [
    "import pandas as pd\n",
    "df = pd.read_csv(\"../data/Titanic.csv\")\n",
    "df.head()"
   ]
  },
  {
   "cell_type": "code",
   "execution_count": 2,
   "id": "bdc8225b",
   "metadata": {},
   "outputs": [
    {
     "name": "stdout",
     "output_type": "stream",
     "text": [
      "Optimization terminated successfully.\n",
      "         Current function value: 0.459658\n",
      "         Iterations 6\n",
      "Intercept         3.459608\n",
      "Gender[T.male]   -2.762364\n",
      "Pclass           -0.939161\n",
      "SibSp            -0.234018\n",
      "Parch            -0.050260\n",
      "dtype: float64\n"
     ]
    }
   ],
   "source": [
    "from statsmodels.formula.api import logit\n",
    "\n",
    "result = logit('Survived~Pclass+Gender+SibSp+Parch', data=df).fit().params\n",
    "print(result)"
   ]
  },
  {
   "cell_type": "code",
   "execution_count": 3,
   "id": "0bf06630",
   "metadata": {},
   "outputs": [
    {
     "name": "stdout",
     "output_type": "stream",
     "text": [
      "-0.05\n"
     ]
    }
   ],
   "source": [
    "print(round(result['Parch'], 3))"
   ]
  },
  {
   "cell_type": "markdown",
   "id": "40009a29",
   "metadata": {},
   "source": [
    "<br><br>\n",
    "\n",
    "## 2. 두 그룹 평균비교 (t통계량, f통계량)\n",
    "## 문제: 두 교육 방법의 효과 비교\n",
    "연구자는 두 가지 다른 교육 방법이 학생들의 성적에 미치는 영향을 비교하고자 합니다. 연구자는 무작위로 선발된 20명의 학생들을 두 그룹으로 나누어 한 그룹에는 교육 방법 A를, 다른 그룹에는 교육 방법 B를 적용합니다. 교육이 끝난 후, 두 그룹의 성적을 비교하기 위해 독립 표본 t-검정과 ANOVA F-검정을 실시하려고 합니다.\n",
    "\n",
    "다음은 두 그룹의 성적입니다:\n",
    "다음의 두 가지 검정을 사용하여 두 교육 방법 간의 성적 차이가 통계적으로 유의한지를 검증하세요\n",
    "\n",
    "1. 독립 표본 t-검정을 실시하여 t 통계량을 구하세요.\n",
    "2. 독립 표본 t-검정을 실시하여 p-값을 구하세요.\n",
    "3. ANOVA F-검정을 실시하여 F 통계량을 구하세요.\n",
    "4. ANOVA F-검정을 실시하여 p-값을 구하세요.\n"
   ]
  },
  {
   "cell_type": "code",
   "execution_count": 4,
   "id": "4ad79205",
   "metadata": {},
   "outputs": [],
   "source": [
    "import pandas as pd\n",
    "df = pd.DataFrame({\n",
    "    'A':[77, 75, 82, 80, 81, 83, 84, 76, 75, 87],\n",
    "    'B':[80, 74, 77, 79, 71, 74, 78, 69, 70, 72],\n",
    "})"
   ]
  },
  {
   "cell_type": "code",
   "execution_count": 9,
   "id": "28955e93",
   "metadata": {},
   "outputs": [
    {
     "name": "stdout",
     "output_type": "stream",
     "text": [
      "3.1068522301122954\n",
      "0.006087373605949963\n",
      "p_val < 0.05 이므로 귀무가설 기각, 두 교육 방법의 차이가 있다.\n"
     ]
    }
   ],
   "source": [
    "# 1. 독립표본 t검정\n",
    "from scipy.stats import ttest_ind\n",
    "t_val, p_val = ttest_ind(df['A'], df['B'])\n",
    "\n",
    "print(t_val)\n",
    "print(p_val)\n",
    "if p_val<0.05:\n",
    "    print('p_val < 0.05 이므로 귀무가설 기각, 두 교육 방법의 차이가 있다.')\n",
    "else:\n",
    "    print('대립가설 기각, 두 교육 방법의 차이가 없다.')"
   ]
  },
  {
   "cell_type": "code",
   "execution_count": 10,
   "id": "94cb7b62",
   "metadata": {},
   "outputs": [
    {
     "name": "stdout",
     "output_type": "stream",
     "text": [
      "9.652530779753763\n",
      "0.006087373605949924\n",
      "p_val < 0.05 이므로 귀무가설 기각, 두 교육 방법의 차이가 있다.\n"
     ]
    }
   ],
   "source": [
    "# 2. ANOVA f검정\n",
    "from scipy.stats import f_oneway\n",
    "f_val, p_val = f_oneway(df['A'], df['B'])\n",
    "\n",
    "print(f_val)\n",
    "print(p_val)\n",
    "if p_val<0.05:\n",
    "    print('p_val < 0.05 이므로 귀무가설 기각, 두 교육 방법의 차이가 있다.')\n",
    "else:\n",
    "    print('대립가설 기각, 두 교육 방법의 차이가 없다.')"
   ]
  },
  {
   "cell_type": "markdown",
   "id": "e42a6719",
   "metadata": {},
   "source": [
    "<br><br>\n",
    "## 3. 적합도 검정(카이제곱 검정)\n",
    "### 카이제곱 적합도 검정\n",
    "고등학교에서는 졸업생들이 선택하는 대학 전공 분야의 선호도가 시간이 지남에 따라 변하지 않는다고 가정합니다. 학교 측은 최근 졸업생들의 전공 선택이 과거와 같은 패턴을 따르는지 알아보기 위해 적합도 검정을 실시하기로 결정했습니다.\n",
    "\n",
    "과거 자료에 따르면 졸업생들이 선택하는 전공의 분포는 다음과 같습니다:\n",
    "\n",
    "인문학: 20% 사회과학: 30% 자연과학: 25% 공학: 15% 기타: 10% 올해 졸업한 학생 200명의 전공 선택 분포는 다음과 같았습니다:\n",
    "\n",
    "인문학: 30명 사회과학: 60명 자연과학: 50명 공학: 40명 기타: 20명 이 데이터를 바탕으로, 졸업생들의 전공 선택 패턴이 과거와 유사한지를 알아보기 위해 카이제곱 적합도 검정을 실시해야 합니다. 유의 수준은 0.05로 설정합니다.\n",
    "\n",
    "1. 검정 통계량?\n",
    "2. p-value?\n",
    "3. 유의수준 하 귀무가설 기각 또는 채택?"
   ]
  },
  {
   "cell_type": "code",
   "execution_count": 1,
   "id": "f54e1f86",
   "metadata": {},
   "outputs": [
    {
     "name": "stdout",
     "output_type": "stream",
     "text": [
      "[40.0, 60.0, 50.0, 30.0, 20.0]\n"
     ]
    }
   ],
   "source": [
    "# 관찰된 빈도\n",
    "observed = [30, 60, 50, 40, 20]\n",
    "\n",
    "# 과거 자료 빈도\n",
    "prev = [200*0.2, 200*0.3, 200*0.25, 200*0.15, 200*0.1]\n",
    "\n",
    "print(prev)"
   ]
  },
  {
   "cell_type": "code",
   "execution_count": 4,
   "id": "11fb6982",
   "metadata": {},
   "outputs": [
    {
     "name": "stdout",
     "output_type": "stream",
     "text": [
      "5.833333333333334\n",
      "0.21194558437271782\n",
      "귀무가설 채택, 올해 졸업생들의 전공 선택 패턴이 과거와 유사하다.\n"
     ]
    }
   ],
   "source": [
    "from scipy.stats import chisquare\n",
    "chi, p_val = chisquare(observed, prev)\n",
    "\n",
    "print(chi)\n",
    "print(p_val)\n",
    "\n",
    "if p_val < 0.05:\n",
    "    print('귀무가설 기각, 올해 졸업생들의 전공 선택 패턴이 과거와 유사하지 않다.')\n",
    "else:\n",
    "    print('귀무가설 채택, 올해 졸업생들의 전공 선택 패턴이 과거와 유사하다.')"
   ]
  },
  {
   "cell_type": "markdown",
   "id": "849df058",
   "metadata": {},
   "source": [
    "## 정리\n",
    "### 로지스틱 회귀에서 계수 값\n",
    "- 라이브러리 import: from statsmodels.formula.api import logit\n",
    "- 계수 값 확인: logit('종속변수~독립변수1+독립변수2+..', data).fit().params\n",
    "\n",
    "### 독립표본 t검정\n",
    "- from scipy.stats import ttest_ind\n",
    "\n",
    "### 일원배치 분산분석(ANOVA)\n",
    "- from scipy.stats import f_oneway\n",
    "- f_oneway(group1, group2, ...)\n",
    "\n",
    "### 적합도 검정(카이제곱 검정)\n",
    "- from scipy.stats import chisquare\n",
    "- chisquare(f_obs, f_exp): f_obs는 관측값, f_exp는 예상값"
   ]
  },
  {
   "cell_type": "code",
   "execution_count": null,
   "id": "a7d58a34",
   "metadata": {},
   "outputs": [],
   "source": []
  }
 ],
 "metadata": {
  "kernelspec": {
   "display_name": "Python 3 (ipykernel)",
   "language": "python",
   "name": "python3"
  },
  "language_info": {
   "codemirror_mode": {
    "name": "ipython",
    "version": 3
   },
   "file_extension": ".py",
   "mimetype": "text/x-python",
   "name": "python",
   "nbconvert_exporter": "python",
   "pygments_lexer": "ipython3",
   "version": "3.9.7"
  }
 },
 "nbformat": 4,
 "nbformat_minor": 5
}
