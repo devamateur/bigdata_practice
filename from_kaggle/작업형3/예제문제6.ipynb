{
 "cells": [
  {
   "cell_type": "markdown",
   "id": "28de7e8f",
   "metadata": {},
   "source": [
    "## 1. 로지스틱 회귀2\n",
    "### 고객 정보를 나타낸 데이터이다. 주어진 데이터에서 500개 중 앞에서부터 350개는 train으로, 150개는 test 데이터로 나눈다. 모델을 학습(적합)할 때는 train 데이터를 사용하고, 예측할 때는 test 데이터를 사용한다. 모델은 로지스틱 회귀를 써서 고객이 특정 제품을 구매할지 여부를 예측하되, 페널티는 부과하지 않는다.\n",
    "\n",
    "종속변수: purchase (0: 구매 안 함, 1: 구매 함)\n",
    "\n",
    "- 문제 1-1. income 변수를 독립변수로 purchase를 종속변수로 사용하여 로지스틱 회귀 모형을 만들고, income 변수가 한 단위 증가할 때 구매할 오즈비 값을 계산하시오. (반올림하여 소수 넷째자리까지 계산)\n",
    "\n",
    "- 문제 1-2. 독립변수 income만 사용해 학습한 모델에서 test 데이터의 purchase를 예측하고, accuracy (정확도)를 구하시오. (반올림하여 소수 셋째자리까지 계산)\n",
    "\n",
    "- 문제 1-3. 독립변수 income만 사용해 학습한 모델의 로짓 우도를 계산하시오.\n",
    "\n",
    "- 문제 1-4. 독립변수 income만 사용해 학습한 모델의 유의확률(p-value)를 구하시오."
   ]
  },
  {
   "cell_type": "code",
   "execution_count": 1,
   "id": "f2cb993a",
   "metadata": {},
   "outputs": [
    {
     "data": {
      "text/html": [
       "<div>\n",
       "<style scoped>\n",
       "    .dataframe tbody tr th:only-of-type {\n",
       "        vertical-align: middle;\n",
       "    }\n",
       "\n",
       "    .dataframe tbody tr th {\n",
       "        vertical-align: top;\n",
       "    }\n",
       "\n",
       "    .dataframe thead th {\n",
       "        text-align: right;\n",
       "    }\n",
       "</style>\n",
       "<table border=\"1\" class=\"dataframe\">\n",
       "  <thead>\n",
       "    <tr style=\"text-align: right;\">\n",
       "      <th></th>\n",
       "      <th>age</th>\n",
       "      <th>income</th>\n",
       "      <th>marital_status</th>\n",
       "      <th>children</th>\n",
       "      <th>gender</th>\n",
       "      <th>purchase</th>\n",
       "    </tr>\n",
       "  </thead>\n",
       "  <tbody>\n",
       "    <tr>\n",
       "      <th>0</th>\n",
       "      <td>62</td>\n",
       "      <td>111980</td>\n",
       "      <td>1</td>\n",
       "      <td>2</td>\n",
       "      <td>1</td>\n",
       "      <td>0</td>\n",
       "    </tr>\n",
       "    <tr>\n",
       "      <th>1</th>\n",
       "      <td>65</td>\n",
       "      <td>107314</td>\n",
       "      <td>0</td>\n",
       "      <td>3</td>\n",
       "      <td>1</td>\n",
       "      <td>0</td>\n",
       "    </tr>\n",
       "    <tr>\n",
       "      <th>2</th>\n",
       "      <td>18</td>\n",
       "      <td>56209</td>\n",
       "      <td>1</td>\n",
       "      <td>1</td>\n",
       "      <td>1</td>\n",
       "      <td>1</td>\n",
       "    </tr>\n",
       "    <tr>\n",
       "      <th>3</th>\n",
       "      <td>21</td>\n",
       "      <td>28010</td>\n",
       "      <td>1</td>\n",
       "      <td>3</td>\n",
       "      <td>0</td>\n",
       "      <td>1</td>\n",
       "    </tr>\n",
       "    <tr>\n",
       "      <th>4</th>\n",
       "      <td>21</td>\n",
       "      <td>79618</td>\n",
       "      <td>0</td>\n",
       "      <td>2</td>\n",
       "      <td>0</td>\n",
       "      <td>1</td>\n",
       "    </tr>\n",
       "  </tbody>\n",
       "</table>\n",
       "</div>"
      ],
      "text/plain": [
       "   age  income  marital_status  children  gender  purchase\n",
       "0   62  111980               1         2       1         0\n",
       "1   65  107314               0         3       1         0\n",
       "2   18   56209               1         1       1         1\n",
       "3   21   28010               1         3       0         1\n",
       "4   21   79618               0         2       0         1"
      ]
     },
     "execution_count": 1,
     "metadata": {},
     "output_type": "execute_result"
    }
   ],
   "source": [
    "import pandas as pd\n",
    "df = pd.read_csv(\"../data/Customer_Data.csv\")\n",
    "df.head()"
   ]
  },
  {
   "cell_type": "code",
   "execution_count": 2,
   "id": "a427441d",
   "metadata": {},
   "outputs": [
    {
     "data": {
      "text/plain": [
       "((350, 6), (150, 6))"
      ]
     },
     "execution_count": 2,
     "metadata": {},
     "output_type": "execute_result"
    }
   ],
   "source": [
    "train, test = df[:350], df[350:]\n",
    "train.shape, test.shape"
   ]
  },
  {
   "cell_type": "code",
   "execution_count": 3,
   "id": "fa40d5d7",
   "metadata": {},
   "outputs": [
    {
     "name": "stdout",
     "output_type": "stream",
     "text": [
      "Optimization terminated successfully.\n",
      "         Current function value: 0.692599\n",
      "         Iterations 3\n",
      "1.960178655329331e-06\n",
      "1.0\n"
     ]
    }
   ],
   "source": [
    "# 1-1. income 변수를 독립변수로 purchase를 종속변수로 사용하여 로지스틱 회귀 모형\n",
    "from statsmodels.formula.api import logit\n",
    "import numpy as np\n",
    "\n",
    "logit = logit('purchase~income', train).fit()\n",
    "print(logit.params['income'])\n",
    "\n",
    "# 오즈비 계산\n",
    "odds = np.exp(logit.params['income'])\n",
    "print(round(odds, 4))"
   ]
  },
  {
   "cell_type": "code",
   "execution_count": 4,
   "id": "b509fcf6",
   "metadata": {},
   "outputs": [
    {
     "name": "stdout",
     "output_type": "stream",
     "text": [
      "350    0.527160\n",
      "351    0.511911\n",
      "352    0.500900\n",
      "353    0.515729\n",
      "354    0.531142\n",
      "         ...   \n",
      "495    0.505633\n",
      "496    0.510003\n",
      "497    0.531486\n",
      "498    0.487162\n",
      "499    0.511403\n",
      "Length: 150, dtype: float64\n",
      "0.507\n"
     ]
    }
   ],
   "source": [
    "# 1-2. income만 사용해 학습한 모델에서 test 데이터의 purchase를 예측하고, accuracy (정확도)를 구하시오.\n",
    "pred = logit.predict(test)\n",
    "print(pred)\n",
    "\n",
    "## 로지스틱 회귀는 0.5를 기준으로 1, 0 분류\n",
    "pred = (pred > 0.5).astype('int')\n",
    "acc = (pred == test['purchase']).mean()\n",
    "print(round(acc, 3))"
   ]
  },
  {
   "cell_type": "code",
   "execution_count": 5,
   "id": "3a592a5c",
   "metadata": {},
   "outputs": [
    {
     "name": "stdout",
     "output_type": "stream",
     "text": [
      "-242.40981957168498\n"
     ]
    }
   ],
   "source": [
    "# 1-3. 독립변수 income만 사용해 학습한 모델의 로짓 우도\n",
    "print(logit.llf)"
   ]
  },
  {
   "cell_type": "code",
   "execution_count": 6,
   "id": "88543007",
   "metadata": {},
   "outputs": [
    {
     "name": "stdout",
     "output_type": "stream",
     "text": [
      "0.5964910811075125\n"
     ]
    }
   ],
   "source": [
    "# 1-4. p-value\n",
    "print(logit.pvalues['income'])"
   ]
  },
  {
   "cell_type": "markdown",
   "id": "1c50fe71",
   "metadata": {},
   "source": [
    "<br><br>\n",
    "## 2.비모수검정(wilcoxon)\n",
    "### 베스킨라빈스는 쿼트(Quart) 아이스크림의 중앙값이 620g이라고 주장하고 있습니다. 저는 실제로 이 아이스크림의 중앙값이 620g보다 무겁다고 주장합니다. 다음은 20개의 쿼트 아이스크림 샘플의 무게 측정 결과입니다. 이 측정 결과를 바탕으로 나의 주장이 사실인지 비모수 검정(Wilcoxon Signed-Rank Test)을 통해 검정해보십시오. p-value값을 반올림하여 소수점 둘째 자리까지 계산\n",
    "\n",
    "- 귀무가설: \"베스킨라빈스 쿼트 아이스크림의 중앙값은 620g이다.\"\n",
    "- 대립가설: \"베스킨라빈스 쿼트 아이스크림의 중앙값은 620g보다 무겁다.\""
   ]
  },
  {
   "cell_type": "code",
   "execution_count": 7,
   "id": "5813d591",
   "metadata": {},
   "outputs": [],
   "source": [
    "import pandas as pd\n",
    "data = {\n",
    "    \"weight\": [630, 610, 625, 615, 622, 618, 623, 619, 620, 624, 616, 621, 617, 629, 626, 620, 618, 622, 625, 615, \n",
    "               628, 617, 624, 619, 621, 623, 620, 622, 618, 625, 616, 629, 620, 624, 617, 621, 623, 619, 625, 618,\n",
    "               622, 620, 624, 617, 621, 623, 619, 625, 618, 622]\n",
    "}\n",
    "df = pd.DataFrame(data)"
   ]
  },
  {
   "cell_type": "code",
   "execution_count": 21,
   "id": "80cf16ef",
   "metadata": {},
   "outputs": [
    {
     "name": "stdout",
     "output_type": "stream",
     "text": [
      "0.029661945180945556\n",
      "0.03\n"
     ]
    }
   ],
   "source": [
    "from scipy.stats import wilcoxon\n",
    "\n",
    "st, p_val = wilcoxon(df['weight'] - 620, alternative = \"greater\")\n",
    "print(p_val)\n",
    "print(round(result.pvalue, 2))"
   ]
  },
  {
   "cell_type": "markdown",
   "id": "41d66fb3",
   "metadata": {},
   "source": [
    "<br><br>\n",
    "## 3. 잔차이탈도\n",
    "### 고객 정보를 나타낸 데이터이다. 주어진 데이터에서 500개 중 앞에서부터 300개는 train으로, 200개는 test 데이터로 나눈다. 모델을 학습(적합)할 때는 train 데이터를 사용하고, 예측할 때는 test 데이터를 사용한다. 모델은 로지스틱 회귀를 써서 고객이 특정 제품을 구매할지 여부를 예측하되, 페널티는 부과하지 않는다.\n",
    "\n",
    "종속변수: purchase (0: 구매 안 함, 1: 구매 함)\n",
    "\n",
    "Q. age, income, marital_status 변수를 독립변수로 purchase를 종속변수로 사용하여 로지스틱 회귀 모형을 만들고, 잔차이탈도를 구하시오. (반올림하여 소수 넷째자리까지 계산)"
   ]
  },
  {
   "cell_type": "code",
   "execution_count": 22,
   "id": "d039c28e",
   "metadata": {},
   "outputs": [
    {
     "data": {
      "text/html": [
       "<div>\n",
       "<style scoped>\n",
       "    .dataframe tbody tr th:only-of-type {\n",
       "        vertical-align: middle;\n",
       "    }\n",
       "\n",
       "    .dataframe tbody tr th {\n",
       "        vertical-align: top;\n",
       "    }\n",
       "\n",
       "    .dataframe thead th {\n",
       "        text-align: right;\n",
       "    }\n",
       "</style>\n",
       "<table border=\"1\" class=\"dataframe\">\n",
       "  <thead>\n",
       "    <tr style=\"text-align: right;\">\n",
       "      <th></th>\n",
       "      <th>age</th>\n",
       "      <th>income</th>\n",
       "      <th>marital_status</th>\n",
       "      <th>children</th>\n",
       "      <th>gender</th>\n",
       "      <th>purchase</th>\n",
       "    </tr>\n",
       "  </thead>\n",
       "  <tbody>\n",
       "    <tr>\n",
       "      <th>0</th>\n",
       "      <td>62</td>\n",
       "      <td>111980</td>\n",
       "      <td>1</td>\n",
       "      <td>2</td>\n",
       "      <td>1</td>\n",
       "      <td>0</td>\n",
       "    </tr>\n",
       "    <tr>\n",
       "      <th>1</th>\n",
       "      <td>65</td>\n",
       "      <td>107314</td>\n",
       "      <td>0</td>\n",
       "      <td>3</td>\n",
       "      <td>1</td>\n",
       "      <td>0</td>\n",
       "    </tr>\n",
       "    <tr>\n",
       "      <th>2</th>\n",
       "      <td>18</td>\n",
       "      <td>56209</td>\n",
       "      <td>1</td>\n",
       "      <td>1</td>\n",
       "      <td>1</td>\n",
       "      <td>1</td>\n",
       "    </tr>\n",
       "    <tr>\n",
       "      <th>3</th>\n",
       "      <td>21</td>\n",
       "      <td>28010</td>\n",
       "      <td>1</td>\n",
       "      <td>3</td>\n",
       "      <td>0</td>\n",
       "      <td>1</td>\n",
       "    </tr>\n",
       "    <tr>\n",
       "      <th>4</th>\n",
       "      <td>21</td>\n",
       "      <td>79618</td>\n",
       "      <td>0</td>\n",
       "      <td>2</td>\n",
       "      <td>0</td>\n",
       "      <td>1</td>\n",
       "    </tr>\n",
       "  </tbody>\n",
       "</table>\n",
       "</div>"
      ],
      "text/plain": [
       "   age  income  marital_status  children  gender  purchase\n",
       "0   62  111980               1         2       1         0\n",
       "1   65  107314               0         3       1         0\n",
       "2   18   56209               1         1       1         1\n",
       "3   21   28010               1         3       0         1\n",
       "4   21   79618               0         2       0         1"
      ]
     },
     "execution_count": 22,
     "metadata": {},
     "output_type": "execute_result"
    }
   ],
   "source": [
    "import pandas as pd\n",
    "df = pd.read_csv(\"../data/Customer_Data.csv\")\n",
    "df.head()"
   ]
  },
  {
   "cell_type": "code",
   "execution_count": 23,
   "id": "235d519b",
   "metadata": {},
   "outputs": [
    {
     "data": {
      "text/plain": [
       "((300, 6), (200, 6))"
      ]
     },
     "execution_count": 23,
     "metadata": {},
     "output_type": "execute_result"
    }
   ],
   "source": [
    "train, test = df[:300], df[300:]\n",
    "train.shape, test.shape"
   ]
  },
  {
   "cell_type": "code",
   "execution_count": 24,
   "id": "58b53aa4",
   "metadata": {},
   "outputs": [
    {
     "name": "stdout",
     "output_type": "stream",
     "text": [
      "Optimization terminated successfully.\n",
      "         Current function value: 0.687415\n",
      "         Iterations 4\n"
     ]
    },
    {
     "data": {
      "text/plain": [
       "Intercept         0.340700\n",
       "age              -0.009367\n",
       "income            0.000004\n",
       "marital_status   -0.219173\n",
       "dtype: float64"
      ]
     },
     "execution_count": 24,
     "metadata": {},
     "output_type": "execute_result"
    }
   ],
   "source": [
    "from statsmodels.formula.api import logit\n",
    "logit = logit('purchase~age+income+marital_status', train).fit()\n",
    "logit.params"
   ]
  },
  {
   "cell_type": "code",
   "execution_count": 27,
   "id": "bdf8df28",
   "metadata": {},
   "outputs": [
    {
     "name": "stdout",
     "output_type": "stream",
     "text": [
      "412.45\n"
     ]
    }
   ],
   "source": [
    "# 잔차이탈도 = -2*loglikelihood(로짓우도)\n",
    "print(round(-2*logit.llf, 2))"
   ]
  },
  {
   "cell_type": "code",
   "execution_count": null,
   "id": "8fa28443",
   "metadata": {},
   "outputs": [],
   "source": []
  }
 ],
 "metadata": {
  "kernelspec": {
   "display_name": "Python 3 (ipykernel)",
   "language": "python",
   "name": "python3"
  },
  "language_info": {
   "codemirror_mode": {
    "name": "ipython",
    "version": 3
   },
   "file_extension": ".py",
   "mimetype": "text/x-python",
   "name": "python",
   "nbconvert_exporter": "python",
   "pygments_lexer": "ipython3",
   "version": "3.9.7"
  }
 },
 "nbformat": 4,
 "nbformat_minor": 5
}
