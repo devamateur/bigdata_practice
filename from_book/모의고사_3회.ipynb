{
 "cells": [
  {
   "cell_type": "markdown",
   "id": "3943c018",
   "metadata": {},
   "source": [
    "## 작업형 1유형\n",
    "- 3문제, 총 30점\n",
    "\n",
    "#### 1. Rabbit 데이터셋을 불러와 Dose 컬럼의 제3사분위수와 제2사분위수를 구하고 두 값의 차이의 절댓값을 구한 후 소수점을 버린 값을 출력"
   ]
  },
  {
   "cell_type": "code",
   "execution_count": 1,
   "id": "4780ace3",
   "metadata": {},
   "outputs": [],
   "source": [
    "import pandas as pd"
   ]
  },
  {
   "cell_type": "code",
   "execution_count": 3,
   "id": "bd76151f",
   "metadata": {},
   "outputs": [
    {
     "data": {
      "text/html": [
       "<div>\n",
       "<style scoped>\n",
       "    .dataframe tbody tr th:only-of-type {\n",
       "        vertical-align: middle;\n",
       "    }\n",
       "\n",
       "    .dataframe tbody tr th {\n",
       "        vertical-align: top;\n",
       "    }\n",
       "\n",
       "    .dataframe thead th {\n",
       "        text-align: right;\n",
       "    }\n",
       "</style>\n",
       "<table border=\"1\" class=\"dataframe\">\n",
       "  <thead>\n",
       "    <tr style=\"text-align: right;\">\n",
       "      <th></th>\n",
       "      <th>BPchange</th>\n",
       "      <th>Dose</th>\n",
       "      <th>Run</th>\n",
       "      <th>Treatment</th>\n",
       "      <th>Animal</th>\n",
       "    </tr>\n",
       "  </thead>\n",
       "  <tbody>\n",
       "    <tr>\n",
       "      <th>0</th>\n",
       "      <td>0.5</td>\n",
       "      <td>6.25</td>\n",
       "      <td>C1</td>\n",
       "      <td>Control</td>\n",
       "      <td>R1</td>\n",
       "    </tr>\n",
       "    <tr>\n",
       "      <th>1</th>\n",
       "      <td>4.5</td>\n",
       "      <td>12.50</td>\n",
       "      <td>C1</td>\n",
       "      <td>Control</td>\n",
       "      <td>R1</td>\n",
       "    </tr>\n",
       "    <tr>\n",
       "      <th>2</th>\n",
       "      <td>10.0</td>\n",
       "      <td>25.00</td>\n",
       "      <td>C1</td>\n",
       "      <td>Control</td>\n",
       "      <td>R1</td>\n",
       "    </tr>\n",
       "    <tr>\n",
       "      <th>3</th>\n",
       "      <td>26.0</td>\n",
       "      <td>50.00</td>\n",
       "      <td>C1</td>\n",
       "      <td>Control</td>\n",
       "      <td>R1</td>\n",
       "    </tr>\n",
       "    <tr>\n",
       "      <th>4</th>\n",
       "      <td>37.0</td>\n",
       "      <td>100.00</td>\n",
       "      <td>C1</td>\n",
       "      <td>Control</td>\n",
       "      <td>R1</td>\n",
       "    </tr>\n",
       "  </tbody>\n",
       "</table>\n",
       "</div>"
      ],
      "text/plain": [
       "   BPchange    Dose Run Treatment Animal\n",
       "0       0.5    6.25  C1   Control     R1\n",
       "1       4.5   12.50  C1   Control     R1\n",
       "2      10.0   25.00  C1   Control     R1\n",
       "3      26.0   50.00  C1   Control     R1\n",
       "4      37.0  100.00  C1   Control     R1"
      ]
     },
     "execution_count": 3,
     "metadata": {},
     "output_type": "execute_result"
    }
   ],
   "source": [
    "df = pd.read_csv('../data/모의고사/03회/Rabbit.csv')\n",
    "df.head()"
   ]
  },
  {
   "cell_type": "code",
   "execution_count": 4,
   "id": "3e1ec89d",
   "metadata": {},
   "outputs": [
    {
     "data": {
      "text/plain": [
       "(100.0, 37.5)"
      ]
     },
     "execution_count": 4,
     "metadata": {},
     "output_type": "execute_result"
    }
   ],
   "source": [
    "dose_q3 = df['Dose'].quantile(0.75)\n",
    "dose_q2 = df['Dose'].median()             # 2사분위수 = 중앙값\n",
    "dose_q3, dose_q2"
   ]
  },
  {
   "cell_type": "code",
   "execution_count": 8,
   "id": "70434648",
   "metadata": {},
   "outputs": [
    {
     "data": {
      "text/plain": [
       "62.5"
      ]
     },
     "execution_count": 8,
     "metadata": {},
     "output_type": "execute_result"
    }
   ],
   "source": [
    "abs(dose_q3-dose_q2)"
   ]
  },
  {
   "cell_type": "code",
   "execution_count": 9,
   "id": "2963ded1",
   "metadata": {},
   "outputs": [],
   "source": [
    "result = round(abs(dose_q3-dose_q2))"
   ]
  },
  {
   "cell_type": "code",
   "execution_count": 10,
   "id": "d8202e86",
   "metadata": {},
   "outputs": [
    {
     "data": {
      "text/plain": [
       "62"
      ]
     },
     "execution_count": 10,
     "metadata": {},
     "output_type": "execute_result"
    }
   ],
   "source": [
    "result"
   ]
  },
  {
   "cell_type": "markdown",
   "id": "ed28be54",
   "metadata": {},
   "source": [
    "#### 2. Boston 데이터셋을 불러와 medv 컬럼에 대해 동일한 폭으로 binning한 후 가장 많은 빈도를 가지는 구간을 산출하고 해당 구간 내 dis 컬럼의 중앙값을 구하여라. (폭은 10을 기준으로 하고 소수점은 둘째 자리까지)"
   ]
  },
  {
   "cell_type": "code",
   "execution_count": 21,
   "id": "7b7911c4",
   "metadata": {},
   "outputs": [
    {
     "data": {
      "text/html": [
       "<div>\n",
       "<style scoped>\n",
       "    .dataframe tbody tr th:only-of-type {\n",
       "        vertical-align: middle;\n",
       "    }\n",
       "\n",
       "    .dataframe tbody tr th {\n",
       "        vertical-align: top;\n",
       "    }\n",
       "\n",
       "    .dataframe thead th {\n",
       "        text-align: right;\n",
       "    }\n",
       "</style>\n",
       "<table border=\"1\" class=\"dataframe\">\n",
       "  <thead>\n",
       "    <tr style=\"text-align: right;\">\n",
       "      <th></th>\n",
       "      <th>crim</th>\n",
       "      <th>zn</th>\n",
       "      <th>indus</th>\n",
       "      <th>chas</th>\n",
       "      <th>nox</th>\n",
       "      <th>rm</th>\n",
       "      <th>age</th>\n",
       "      <th>dis</th>\n",
       "      <th>rad</th>\n",
       "      <th>tax</th>\n",
       "      <th>ptratio</th>\n",
       "      <th>black</th>\n",
       "      <th>lstat</th>\n",
       "      <th>medv</th>\n",
       "    </tr>\n",
       "  </thead>\n",
       "  <tbody>\n",
       "    <tr>\n",
       "      <th>0</th>\n",
       "      <td>0.00632</td>\n",
       "      <td>18.0</td>\n",
       "      <td>2.31</td>\n",
       "      <td>0</td>\n",
       "      <td>0.538</td>\n",
       "      <td>6.575</td>\n",
       "      <td>65.2</td>\n",
       "      <td>4.0900</td>\n",
       "      <td>1</td>\n",
       "      <td>296</td>\n",
       "      <td>15.3</td>\n",
       "      <td>396.90</td>\n",
       "      <td>4.98</td>\n",
       "      <td>24.0</td>\n",
       "    </tr>\n",
       "    <tr>\n",
       "      <th>1</th>\n",
       "      <td>0.02731</td>\n",
       "      <td>0.0</td>\n",
       "      <td>7.07</td>\n",
       "      <td>0</td>\n",
       "      <td>0.469</td>\n",
       "      <td>6.421</td>\n",
       "      <td>78.9</td>\n",
       "      <td>4.9671</td>\n",
       "      <td>2</td>\n",
       "      <td>242</td>\n",
       "      <td>17.8</td>\n",
       "      <td>396.90</td>\n",
       "      <td>9.14</td>\n",
       "      <td>21.6</td>\n",
       "    </tr>\n",
       "    <tr>\n",
       "      <th>2</th>\n",
       "      <td>0.02729</td>\n",
       "      <td>0.0</td>\n",
       "      <td>7.07</td>\n",
       "      <td>0</td>\n",
       "      <td>0.469</td>\n",
       "      <td>7.185</td>\n",
       "      <td>61.1</td>\n",
       "      <td>4.9671</td>\n",
       "      <td>2</td>\n",
       "      <td>242</td>\n",
       "      <td>17.8</td>\n",
       "      <td>392.83</td>\n",
       "      <td>4.03</td>\n",
       "      <td>34.7</td>\n",
       "    </tr>\n",
       "    <tr>\n",
       "      <th>3</th>\n",
       "      <td>0.03237</td>\n",
       "      <td>0.0</td>\n",
       "      <td>2.18</td>\n",
       "      <td>0</td>\n",
       "      <td>0.458</td>\n",
       "      <td>6.998</td>\n",
       "      <td>45.8</td>\n",
       "      <td>6.0622</td>\n",
       "      <td>3</td>\n",
       "      <td>222</td>\n",
       "      <td>18.7</td>\n",
       "      <td>394.63</td>\n",
       "      <td>2.94</td>\n",
       "      <td>33.4</td>\n",
       "    </tr>\n",
       "    <tr>\n",
       "      <th>4</th>\n",
       "      <td>0.06905</td>\n",
       "      <td>0.0</td>\n",
       "      <td>2.18</td>\n",
       "      <td>0</td>\n",
       "      <td>0.458</td>\n",
       "      <td>7.147</td>\n",
       "      <td>54.2</td>\n",
       "      <td>6.0622</td>\n",
       "      <td>3</td>\n",
       "      <td>222</td>\n",
       "      <td>18.7</td>\n",
       "      <td>396.90</td>\n",
       "      <td>5.33</td>\n",
       "      <td>36.2</td>\n",
       "    </tr>\n",
       "  </tbody>\n",
       "</table>\n",
       "</div>"
      ],
      "text/plain": [
       "      crim    zn  indus  chas    nox     rm   age     dis  rad  tax  ptratio  \\\n",
       "0  0.00632  18.0   2.31     0  0.538  6.575  65.2  4.0900    1  296     15.3   \n",
       "1  0.02731   0.0   7.07     0  0.469  6.421  78.9  4.9671    2  242     17.8   \n",
       "2  0.02729   0.0   7.07     0  0.469  7.185  61.1  4.9671    2  242     17.8   \n",
       "3  0.03237   0.0   2.18     0  0.458  6.998  45.8  6.0622    3  222     18.7   \n",
       "4  0.06905   0.0   2.18     0  0.458  7.147  54.2  6.0622    3  222     18.7   \n",
       "\n",
       "    black  lstat  medv  \n",
       "0  396.90   4.98  24.0  \n",
       "1  396.90   9.14  21.6  \n",
       "2  392.83   4.03  34.7  \n",
       "3  394.63   2.94  33.4  \n",
       "4  396.90   5.33  36.2  "
      ]
     },
     "execution_count": 21,
     "metadata": {},
     "output_type": "execute_result"
    }
   ],
   "source": [
    "boston = pd.read_csv('../data/모의고사/03회/Boston.csv')\n",
    "boston.head()"
   ]
  },
  {
   "cell_type": "code",
   "execution_count": 22,
   "id": "17faa2a5",
   "metadata": {},
   "outputs": [
    {
     "data": {
      "text/plain": [
       "0      (23.0, 27.5]\n",
       "1      (18.5, 23.0]\n",
       "2      (32.0, 36.5]\n",
       "3      (32.0, 36.5]\n",
       "4      (32.0, 36.5]\n",
       "           ...     \n",
       "501    (18.5, 23.0]\n",
       "502    (18.5, 23.0]\n",
       "503    (23.0, 27.5]\n",
       "504    (18.5, 23.0]\n",
       "505     (9.5, 14.0]\n",
       "Name: medv, Length: 506, dtype: category\n",
       "Categories (10, interval[float64, right]): [(4.955, 9.5] < (9.5, 14.0] < (14.0, 18.5] < (18.5, 23.0] ... (32.0, 36.5] < (36.5, 41.0] < (41.0, 45.5] < (45.5, 50.0]]"
      ]
     },
     "execution_count": 22,
     "metadata": {},
     "output_type": "execute_result"
    }
   ],
   "source": [
    "## cut(): 동일한 폭으로 binning\n",
    "\n",
    "new_medv = pd.cut(boston['medv'], bins=10)\n",
    "new_medv"
   ]
  },
  {
   "cell_type": "code",
   "execution_count": 24,
   "id": "b9f4e7bd",
   "metadata": {},
   "outputs": [
    {
     "data": {
      "text/plain": [
       "(18.5, 23.0]    154\n",
       "(14.0, 18.5]     85\n",
       "(23.0, 27.5]     84\n",
       "(9.5, 14.0]      55\n",
       "(27.5, 32.0]     39\n",
       "(32.0, 36.5]     29\n",
       "(4.955, 9.5]     22\n",
       "(45.5, 50.0]     21\n",
       "(41.0, 45.5]     10\n",
       "(36.5, 41.0]      7\n",
       "Name: medv, dtype: int64"
      ]
     },
     "execution_count": 24,
     "metadata": {},
     "output_type": "execute_result"
    }
   ],
   "source": [
    "new_medv.value_counts()"
   ]
  },
  {
   "cell_type": "code",
   "execution_count": 25,
   "id": "ac4ff768",
   "metadata": {},
   "outputs": [
    {
     "data": {
      "text/plain": [
       "3.6588000000000003"
      ]
     },
     "execution_count": 25,
     "metadata": {},
     "output_type": "execute_result"
    }
   ],
   "source": [
    "dis_median = boston['dis'][(boston['medv'] > 18.5) & (boston['medv'] <= 23.0)].median()\n",
    "dis_median"
   ]
  },
  {
   "cell_type": "code",
   "execution_count": 26,
   "id": "9dc7f271",
   "metadata": {},
   "outputs": [
    {
     "data": {
      "text/plain": [
       "3.66"
      ]
     },
     "execution_count": 26,
     "metadata": {},
     "output_type": "execute_result"
    }
   ],
   "source": [
    "round(dis_median, 2)"
   ]
  },
  {
   "cell_type": "markdown",
   "id": "78ddbfd9",
   "metadata": {},
   "source": [
    "#### 3. Melanoma 데이터셋을 불러와 1번째-122번째 레코드와 123번째 이후 레코드로 데이터셋을 분리하고 데이터셋별로 thickness 컬럼을 z-score 정규화로 변환한 후 -1과 1사이 값들의 중앙값을 산출한 후 합계를 구하기. (단, z-score 정규화 변환 계산에 사용되는 평균과 표준편차는 분리된 것과 관계 없이 1번째~123번째 레코드로 이루어진 데이터셋을 기준으로 하고 출력시 소수점 넷째 자리까지 반올림)"
   ]
  },
  {
   "cell_type": "code",
   "execution_count": 65,
   "id": "e814d3f8",
   "metadata": {},
   "outputs": [
    {
     "data": {
      "text/html": [
       "<div>\n",
       "<style scoped>\n",
       "    .dataframe tbody tr th:only-of-type {\n",
       "        vertical-align: middle;\n",
       "    }\n",
       "\n",
       "    .dataframe tbody tr th {\n",
       "        vertical-align: top;\n",
       "    }\n",
       "\n",
       "    .dataframe thead th {\n",
       "        text-align: right;\n",
       "    }\n",
       "</style>\n",
       "<table border=\"1\" class=\"dataframe\">\n",
       "  <thead>\n",
       "    <tr style=\"text-align: right;\">\n",
       "      <th></th>\n",
       "      <th>time</th>\n",
       "      <th>status</th>\n",
       "      <th>sex</th>\n",
       "      <th>age</th>\n",
       "      <th>year</th>\n",
       "      <th>thickness</th>\n",
       "      <th>ulcer</th>\n",
       "    </tr>\n",
       "  </thead>\n",
       "  <tbody>\n",
       "    <tr>\n",
       "      <th>0</th>\n",
       "      <td>10</td>\n",
       "      <td>3</td>\n",
       "      <td>1</td>\n",
       "      <td>76</td>\n",
       "      <td>1972</td>\n",
       "      <td>6.76</td>\n",
       "      <td>1</td>\n",
       "    </tr>\n",
       "    <tr>\n",
       "      <th>1</th>\n",
       "      <td>30</td>\n",
       "      <td>3</td>\n",
       "      <td>1</td>\n",
       "      <td>56</td>\n",
       "      <td>1968</td>\n",
       "      <td>0.65</td>\n",
       "      <td>0</td>\n",
       "    </tr>\n",
       "    <tr>\n",
       "      <th>2</th>\n",
       "      <td>35</td>\n",
       "      <td>2</td>\n",
       "      <td>1</td>\n",
       "      <td>41</td>\n",
       "      <td>1977</td>\n",
       "      <td>1.34</td>\n",
       "      <td>0</td>\n",
       "    </tr>\n",
       "    <tr>\n",
       "      <th>3</th>\n",
       "      <td>99</td>\n",
       "      <td>3</td>\n",
       "      <td>0</td>\n",
       "      <td>71</td>\n",
       "      <td>1968</td>\n",
       "      <td>2.90</td>\n",
       "      <td>0</td>\n",
       "    </tr>\n",
       "    <tr>\n",
       "      <th>4</th>\n",
       "      <td>185</td>\n",
       "      <td>1</td>\n",
       "      <td>1</td>\n",
       "      <td>52</td>\n",
       "      <td>1965</td>\n",
       "      <td>12.08</td>\n",
       "      <td>1</td>\n",
       "    </tr>\n",
       "  </tbody>\n",
       "</table>\n",
       "</div>"
      ],
      "text/plain": [
       "   time  status  sex  age  year  thickness  ulcer\n",
       "0    10       3    1   76  1972       6.76      1\n",
       "1    30       3    1   56  1968       0.65      0\n",
       "2    35       2    1   41  1977       1.34      0\n",
       "3    99       3    0   71  1968       2.90      0\n",
       "4   185       1    1   52  1965      12.08      1"
      ]
     },
     "execution_count": 65,
     "metadata": {},
     "output_type": "execute_result"
    }
   ],
   "source": [
    "mel = pd.read_csv('../data/모의고사/03회/Melanoma.csv')\n",
    "mel.head()"
   ]
  },
  {
   "cell_type": "code",
   "execution_count": 66,
   "id": "fd3dd043",
   "metadata": {},
   "outputs": [
    {
     "data": {
      "text/plain": [
       "(205, 7)"
      ]
     },
     "execution_count": 66,
     "metadata": {},
     "output_type": "execute_result"
    }
   ],
   "source": [
    "mel.shape"
   ]
  },
  {
   "cell_type": "code",
   "execution_count": 67,
   "id": "280f1e66",
   "metadata": {},
   "outputs": [
    {
     "data": {
      "text/plain": [
       "time           30.00\n",
       "status          3.00\n",
       "sex             1.00\n",
       "age            56.00\n",
       "year         1968.00\n",
       "thickness       0.65\n",
       "ulcer           0.00\n",
       "Name: 1, dtype: float64"
      ]
     },
     "execution_count": 67,
     "metadata": {},
     "output_type": "execute_result"
    }
   ],
   "source": [
    "mel.iloc[1, :]"
   ]
  },
  {
   "cell_type": "code",
   "execution_count": 68,
   "id": "d7350c92",
   "metadata": {},
   "outputs": [
    {
     "data": {
      "text/plain": [
       "time         2209.00\n",
       "status          2.00\n",
       "sex             0.00\n",
       "age            72.00\n",
       "year         1971.00\n",
       "thickness       9.66\n",
       "ulcer           0.00\n",
       "Name: 122, dtype: float64"
      ]
     },
     "execution_count": 68,
     "metadata": {},
     "output_type": "execute_result"
    }
   ],
   "source": [
    "mel.iloc[122, :]"
   ]
  },
  {
   "cell_type": "code",
   "execution_count": 69,
   "id": "524e35f2",
   "metadata": {},
   "outputs": [
    {
     "data": {
      "text/html": [
       "<div>\n",
       "<style scoped>\n",
       "    .dataframe tbody tr th:only-of-type {\n",
       "        vertical-align: middle;\n",
       "    }\n",
       "\n",
       "    .dataframe tbody tr th {\n",
       "        vertical-align: top;\n",
       "    }\n",
       "\n",
       "    .dataframe thead th {\n",
       "        text-align: right;\n",
       "    }\n",
       "</style>\n",
       "<table border=\"1\" class=\"dataframe\">\n",
       "  <thead>\n",
       "    <tr style=\"text-align: right;\">\n",
       "      <th></th>\n",
       "      <th>time</th>\n",
       "      <th>status</th>\n",
       "      <th>sex</th>\n",
       "      <th>age</th>\n",
       "      <th>year</th>\n",
       "      <th>thickness</th>\n",
       "      <th>ulcer</th>\n",
       "    </tr>\n",
       "  </thead>\n",
       "  <tbody>\n",
       "    <tr>\n",
       "      <th>0</th>\n",
       "      <td>10</td>\n",
       "      <td>3</td>\n",
       "      <td>1</td>\n",
       "      <td>76</td>\n",
       "      <td>1972</td>\n",
       "      <td>6.76</td>\n",
       "      <td>1</td>\n",
       "    </tr>\n",
       "    <tr>\n",
       "      <th>1</th>\n",
       "      <td>30</td>\n",
       "      <td>3</td>\n",
       "      <td>1</td>\n",
       "      <td>56</td>\n",
       "      <td>1968</td>\n",
       "      <td>0.65</td>\n",
       "      <td>0</td>\n",
       "    </tr>\n",
       "    <tr>\n",
       "      <th>2</th>\n",
       "      <td>35</td>\n",
       "      <td>2</td>\n",
       "      <td>1</td>\n",
       "      <td>41</td>\n",
       "      <td>1977</td>\n",
       "      <td>1.34</td>\n",
       "      <td>0</td>\n",
       "    </tr>\n",
       "    <tr>\n",
       "      <th>3</th>\n",
       "      <td>99</td>\n",
       "      <td>3</td>\n",
       "      <td>0</td>\n",
       "      <td>71</td>\n",
       "      <td>1968</td>\n",
       "      <td>2.90</td>\n",
       "      <td>0</td>\n",
       "    </tr>\n",
       "    <tr>\n",
       "      <th>4</th>\n",
       "      <td>185</td>\n",
       "      <td>1</td>\n",
       "      <td>1</td>\n",
       "      <td>52</td>\n",
       "      <td>1965</td>\n",
       "      <td>12.08</td>\n",
       "      <td>1</td>\n",
       "    </tr>\n",
       "    <tr>\n",
       "      <th>...</th>\n",
       "      <td>...</td>\n",
       "      <td>...</td>\n",
       "      <td>...</td>\n",
       "      <td>...</td>\n",
       "      <td>...</td>\n",
       "      <td>...</td>\n",
       "      <td>...</td>\n",
       "    </tr>\n",
       "    <tr>\n",
       "      <th>118</th>\n",
       "      <td>2112</td>\n",
       "      <td>2</td>\n",
       "      <td>0</td>\n",
       "      <td>54</td>\n",
       "      <td>1972</td>\n",
       "      <td>1.94</td>\n",
       "      <td>1</td>\n",
       "    </tr>\n",
       "    <tr>\n",
       "      <th>119</th>\n",
       "      <td>2150</td>\n",
       "      <td>2</td>\n",
       "      <td>0</td>\n",
       "      <td>33</td>\n",
       "      <td>1972</td>\n",
       "      <td>0.65</td>\n",
       "      <td>0</td>\n",
       "    </tr>\n",
       "    <tr>\n",
       "      <th>120</th>\n",
       "      <td>2156</td>\n",
       "      <td>2</td>\n",
       "      <td>0</td>\n",
       "      <td>45</td>\n",
       "      <td>1972</td>\n",
       "      <td>0.97</td>\n",
       "      <td>0</td>\n",
       "    </tr>\n",
       "    <tr>\n",
       "      <th>121</th>\n",
       "      <td>2165</td>\n",
       "      <td>2</td>\n",
       "      <td>1</td>\n",
       "      <td>62</td>\n",
       "      <td>1972</td>\n",
       "      <td>5.64</td>\n",
       "      <td>0</td>\n",
       "    </tr>\n",
       "    <tr>\n",
       "      <th>122</th>\n",
       "      <td>2209</td>\n",
       "      <td>2</td>\n",
       "      <td>0</td>\n",
       "      <td>72</td>\n",
       "      <td>1971</td>\n",
       "      <td>9.66</td>\n",
       "      <td>0</td>\n",
       "    </tr>\n",
       "  </tbody>\n",
       "</table>\n",
       "<p>123 rows × 7 columns</p>\n",
       "</div>"
      ],
      "text/plain": [
       "     time  status  sex  age  year  thickness  ulcer\n",
       "0      10       3    1   76  1972       6.76      1\n",
       "1      30       3    1   56  1968       0.65      0\n",
       "2      35       2    1   41  1977       1.34      0\n",
       "3      99       3    0   71  1968       2.90      0\n",
       "4     185       1    1   52  1965      12.08      1\n",
       "..    ...     ...  ...  ...   ...        ...    ...\n",
       "118  2112       2    0   54  1972       1.94      1\n",
       "119  2150       2    0   33  1972       0.65      0\n",
       "120  2156       2    0   45  1972       0.97      0\n",
       "121  2165       2    1   62  1972       5.64      0\n",
       "122  2209       2    0   72  1971       9.66      0\n",
       "\n",
       "[123 rows x 7 columns]"
      ]
     },
     "execution_count": 69,
     "metadata": {},
     "output_type": "execute_result"
    }
   ],
   "source": [
    "splited1 = mel.iloc[:123, :]\n",
    "splited2 = mel.iloc[123:, :]\n",
    "splited1"
   ]
  },
  {
   "cell_type": "code",
   "execution_count": 70,
   "id": "c5d1008b",
   "metadata": {},
   "outputs": [
    {
     "name": "stderr",
     "output_type": "stream",
     "text": [
      "C:\\Users\\ing06\\AppData\\Local\\Temp\\ipykernel_7684\\3396524650.py:6: SettingWithCopyWarning: \n",
      "A value is trying to be set on a copy of a slice from a DataFrame.\n",
      "Try using .loc[row_indexer,col_indexer] = value instead\n",
      "\n",
      "See the caveats in the documentation: https://pandas.pydata.org/pandas-docs/stable/user_guide/indexing.html#returning-a-view-versus-a-copy\n",
      "  splited1['thickness'] = std1\n",
      "C:\\Users\\ing06\\AppData\\Local\\Temp\\ipykernel_7684\\3396524650.py:7: SettingWithCopyWarning: \n",
      "A value is trying to be set on a copy of a slice from a DataFrame.\n",
      "Try using .loc[row_indexer,col_indexer] = value instead\n",
      "\n",
      "See the caveats in the documentation: https://pandas.pydata.org/pandas-docs/stable/user_guide/indexing.html#returning-a-view-versus-a-copy\n",
      "  splited2['thickness'] = std2\n"
     ]
    }
   ],
   "source": [
    "#  thickness 컬럼을 z-score 정규화로 변환\n",
    "### z-score: (값 - 평균) / 표준편차\n",
    "\n",
    "std1 = (splited1['thickness']-splited1['thickness'].mean())/splited1['thickness'].std()\n",
    "std2 = (splited2['thickness']-splited1['thickness'].mean())/splited1['thickness'].std()\n",
    "splited1['thickness'] = std1\n",
    "splited2['thickness'] = std2"
   ]
  },
  {
   "cell_type": "code",
   "execution_count": 71,
   "id": "88fc78a3",
   "metadata": {},
   "outputs": [
    {
     "data": {
      "text/html": [
       "<div>\n",
       "<style scoped>\n",
       "    .dataframe tbody tr th:only-of-type {\n",
       "        vertical-align: middle;\n",
       "    }\n",
       "\n",
       "    .dataframe tbody tr th {\n",
       "        vertical-align: top;\n",
       "    }\n",
       "\n",
       "    .dataframe thead th {\n",
       "        text-align: right;\n",
       "    }\n",
       "</style>\n",
       "<table border=\"1\" class=\"dataframe\">\n",
       "  <thead>\n",
       "    <tr style=\"text-align: right;\">\n",
       "      <th></th>\n",
       "      <th>time</th>\n",
       "      <th>status</th>\n",
       "      <th>sex</th>\n",
       "      <th>age</th>\n",
       "      <th>year</th>\n",
       "      <th>thickness</th>\n",
       "      <th>ulcer</th>\n",
       "    </tr>\n",
       "  </thead>\n",
       "  <tbody>\n",
       "    <tr>\n",
       "      <th>0</th>\n",
       "      <td>10</td>\n",
       "      <td>3</td>\n",
       "      <td>1</td>\n",
       "      <td>76</td>\n",
       "      <td>1972</td>\n",
       "      <td>1.051836</td>\n",
       "      <td>1</td>\n",
       "    </tr>\n",
       "    <tr>\n",
       "      <th>1</th>\n",
       "      <td>30</td>\n",
       "      <td>3</td>\n",
       "      <td>1</td>\n",
       "      <td>56</td>\n",
       "      <td>1968</td>\n",
       "      <td>-0.791778</td>\n",
       "      <td>0</td>\n",
       "    </tr>\n",
       "    <tr>\n",
       "      <th>2</th>\n",
       "      <td>35</td>\n",
       "      <td>2</td>\n",
       "      <td>1</td>\n",
       "      <td>41</td>\n",
       "      <td>1977</td>\n",
       "      <td>-0.583579</td>\n",
       "      <td>0</td>\n",
       "    </tr>\n",
       "    <tr>\n",
       "      <th>3</th>\n",
       "      <td>99</td>\n",
       "      <td>3</td>\n",
       "      <td>0</td>\n",
       "      <td>71</td>\n",
       "      <td>1968</td>\n",
       "      <td>-0.112869</td>\n",
       "      <td>0</td>\n",
       "    </tr>\n",
       "    <tr>\n",
       "      <th>4</th>\n",
       "      <td>185</td>\n",
       "      <td>1</td>\n",
       "      <td>1</td>\n",
       "      <td>52</td>\n",
       "      <td>1965</td>\n",
       "      <td>2.657077</td>\n",
       "      <td>1</td>\n",
       "    </tr>\n",
       "  </tbody>\n",
       "</table>\n",
       "</div>"
      ],
      "text/plain": [
       "   time  status  sex  age  year  thickness  ulcer\n",
       "0    10       3    1   76  1972   1.051836      1\n",
       "1    30       3    1   56  1968  -0.791778      0\n",
       "2    35       2    1   41  1977  -0.583579      0\n",
       "3    99       3    0   71  1968  -0.112869      0\n",
       "4   185       1    1   52  1965   2.657077      1"
      ]
     },
     "execution_count": 71,
     "metadata": {},
     "output_type": "execute_result"
    }
   ],
   "source": [
    "splited1.head()"
   ]
  },
  {
   "cell_type": "code",
   "execution_count": 72,
   "id": "ff77da43",
   "metadata": {},
   "outputs": [
    {
     "data": {
      "text/plain": [
       "-1.0027116534781082"
      ]
     },
     "execution_count": 72,
     "metadata": {},
     "output_type": "execute_result"
    }
   ],
   "source": [
    "#  -1과 1사이 값들의 중앙값을 산출한 후 합계를 구하기\n",
    "median1 = splited1['thickness'][(std1>=-1) & (std1<=1)].median()\n",
    "median2 = splited2['thickness'][(std2>=-1) & (std2<=1)].median()\n",
    "result = median1+median2\n",
    "result"
   ]
  },
  {
   "cell_type": "code",
   "execution_count": 73,
   "id": "eab949dd",
   "metadata": {},
   "outputs": [
    {
     "data": {
      "text/plain": [
       "-1.0027"
      ]
     },
     "execution_count": 73,
     "metadata": {},
     "output_type": "execute_result"
    }
   ],
   "source": [
    "round(result, 4)"
   ]
  },
  {
   "cell_type": "markdown",
   "id": "f851eada",
   "metadata": {},
   "source": [
    "## 작업형 2유형\n",
    "- 1문제, 총 40점\n",
    "\n",
    "#### 1. 호주 기상관측 데이터를 이용해 예측모형 만들기\n",
    "#### 학습용 데이터를 이용해 기상 여부 예측 모형을 만든 후 이를 평가용 데이터에 적용해 얻은 5,794일의 기상 여부 예측값을 CSV 파일로 생성. 제출한 모델의 성능은 AUC 평가지표에 따라 채점)"
   ]
  },
  {
   "cell_type": "code",
   "execution_count": 215,
   "id": "9ab6d80a",
   "metadata": {},
   "outputs": [],
   "source": [
    "import pandas as pd\n",
    "\n",
    "X_train = pd.read_csv('../data/모의고사/03회/weatherAUS_X_train.csv')\n",
    "X_test = pd.read_csv('../data/모의고사/03회/weatherAUS_X_test.csv')\n",
    "y_train = pd.read_csv('../data/모의고사/03회/weatherAUS_y_train.csv')\n",
    "y_test = pd.read_csv('../data/모의고사/03회/weatherAUS_y_test.csv')"
   ]
  },
  {
   "cell_type": "code",
   "execution_count": 216,
   "id": "e7727320",
   "metadata": {},
   "outputs": [
    {
     "data": {
      "text/plain": [
       "((11714, 20), (11714, 2), (5794, 20), (5794, 2))"
      ]
     },
     "execution_count": 216,
     "metadata": {},
     "output_type": "execute_result"
    }
   ],
   "source": [
    "X_train.shape, y_train.shape, X_test.shape, y_test.shape"
   ]
  },
  {
   "cell_type": "code",
   "execution_count": 217,
   "id": "dc0d020b",
   "metadata": {},
   "outputs": [
    {
     "data": {
      "text/html": [
       "<div>\n",
       "<style scoped>\n",
       "    .dataframe tbody tr th:only-of-type {\n",
       "        vertical-align: middle;\n",
       "    }\n",
       "\n",
       "    .dataframe tbody tr th {\n",
       "        vertical-align: top;\n",
       "    }\n",
       "\n",
       "    .dataframe thead th {\n",
       "        text-align: right;\n",
       "    }\n",
       "</style>\n",
       "<table border=\"1\" class=\"dataframe\">\n",
       "  <thead>\n",
       "    <tr style=\"text-align: right;\">\n",
       "      <th></th>\n",
       "      <th>Date</th>\n",
       "      <th>Location</th>\n",
       "      <th>MinTemp</th>\n",
       "      <th>MaxTemp</th>\n",
       "      <th>Rainfall</th>\n",
       "      <th>WindGustDir</th>\n",
       "      <th>WindGustSpeed</th>\n",
       "      <th>WindDir9am</th>\n",
       "      <th>WindDir3pm</th>\n",
       "      <th>WindSpeed9am</th>\n",
       "      <th>WindSpeed3pm</th>\n",
       "      <th>Humidity9am</th>\n",
       "      <th>Humidity3pm</th>\n",
       "      <th>Pressure9am</th>\n",
       "      <th>Pressure3pm</th>\n",
       "      <th>Cloud9am</th>\n",
       "      <th>Cloud3pm</th>\n",
       "      <th>Temp9am</th>\n",
       "      <th>Temp3pm</th>\n",
       "      <th>RainToday</th>\n",
       "    </tr>\n",
       "  </thead>\n",
       "  <tbody>\n",
       "    <tr>\n",
       "      <th>0</th>\n",
       "      <td>2016-01-01</td>\n",
       "      <td>Albury</td>\n",
       "      <td>20.4</td>\n",
       "      <td>37.6</td>\n",
       "      <td>0.0</td>\n",
       "      <td>ENE</td>\n",
       "      <td>54.0</td>\n",
       "      <td>NaN</td>\n",
       "      <td>ESE</td>\n",
       "      <td>0.0</td>\n",
       "      <td>7.0</td>\n",
       "      <td>46.0</td>\n",
       "      <td>17.0</td>\n",
       "      <td>1013.4</td>\n",
       "      <td>1009.2</td>\n",
       "      <td>7.0</td>\n",
       "      <td>3.0</td>\n",
       "      <td>26.1</td>\n",
       "      <td>36.7</td>\n",
       "      <td>No</td>\n",
       "    </tr>\n",
       "    <tr>\n",
       "      <th>1</th>\n",
       "      <td>2016-01-02</td>\n",
       "      <td>Albury</td>\n",
       "      <td>20.9</td>\n",
       "      <td>33.6</td>\n",
       "      <td>0.4</td>\n",
       "      <td>SSE</td>\n",
       "      <td>50.0</td>\n",
       "      <td>SSE</td>\n",
       "      <td>SE</td>\n",
       "      <td>9.0</td>\n",
       "      <td>17.0</td>\n",
       "      <td>54.0</td>\n",
       "      <td>30.0</td>\n",
       "      <td>1011.1</td>\n",
       "      <td>1008.4</td>\n",
       "      <td>8.0</td>\n",
       "      <td>8.0</td>\n",
       "      <td>24.8</td>\n",
       "      <td>31.7</td>\n",
       "      <td>No</td>\n",
       "    </tr>\n",
       "    <tr>\n",
       "      <th>2</th>\n",
       "      <td>2016-01-03</td>\n",
       "      <td>Albury</td>\n",
       "      <td>18.4</td>\n",
       "      <td>23.1</td>\n",
       "      <td>2.2</td>\n",
       "      <td>ENE</td>\n",
       "      <td>48.0</td>\n",
       "      <td>ESE</td>\n",
       "      <td>ENE</td>\n",
       "      <td>11.0</td>\n",
       "      <td>39.0</td>\n",
       "      <td>62.0</td>\n",
       "      <td>67.0</td>\n",
       "      <td>1014.0</td>\n",
       "      <td>1014.8</td>\n",
       "      <td>8.0</td>\n",
       "      <td>8.0</td>\n",
       "      <td>21.8</td>\n",
       "      <td>19.5</td>\n",
       "      <td>Yes</td>\n",
       "    </tr>\n",
       "    <tr>\n",
       "      <th>3</th>\n",
       "      <td>2016-01-04</td>\n",
       "      <td>Albury</td>\n",
       "      <td>17.3</td>\n",
       "      <td>23.7</td>\n",
       "      <td>15.6</td>\n",
       "      <td>SSE</td>\n",
       "      <td>39.0</td>\n",
       "      <td>SE</td>\n",
       "      <td>SSE</td>\n",
       "      <td>9.0</td>\n",
       "      <td>17.0</td>\n",
       "      <td>74.0</td>\n",
       "      <td>65.0</td>\n",
       "      <td>1017.9</td>\n",
       "      <td>1016.5</td>\n",
       "      <td>8.0</td>\n",
       "      <td>8.0</td>\n",
       "      <td>19.2</td>\n",
       "      <td>21.6</td>\n",
       "      <td>Yes</td>\n",
       "    </tr>\n",
       "    <tr>\n",
       "      <th>4</th>\n",
       "      <td>2016-01-05</td>\n",
       "      <td>Albury</td>\n",
       "      <td>15.5</td>\n",
       "      <td>22.9</td>\n",
       "      <td>6.8</td>\n",
       "      <td>ENE</td>\n",
       "      <td>31.0</td>\n",
       "      <td>SE</td>\n",
       "      <td>SSE</td>\n",
       "      <td>6.0</td>\n",
       "      <td>9.0</td>\n",
       "      <td>92.0</td>\n",
       "      <td>63.0</td>\n",
       "      <td>1016.3</td>\n",
       "      <td>1013.9</td>\n",
       "      <td>8.0</td>\n",
       "      <td>8.0</td>\n",
       "      <td>17.2</td>\n",
       "      <td>22.2</td>\n",
       "      <td>Yes</td>\n",
       "    </tr>\n",
       "  </tbody>\n",
       "</table>\n",
       "</div>"
      ],
      "text/plain": [
       "         Date Location  MinTemp  MaxTemp  Rainfall WindGustDir  WindGustSpeed  \\\n",
       "0  2016-01-01   Albury     20.4     37.6       0.0         ENE           54.0   \n",
       "1  2016-01-02   Albury     20.9     33.6       0.4         SSE           50.0   \n",
       "2  2016-01-03   Albury     18.4     23.1       2.2         ENE           48.0   \n",
       "3  2016-01-04   Albury     17.3     23.7      15.6         SSE           39.0   \n",
       "4  2016-01-05   Albury     15.5     22.9       6.8         ENE           31.0   \n",
       "\n",
       "  WindDir9am WindDir3pm  WindSpeed9am  WindSpeed3pm  Humidity9am  Humidity3pm  \\\n",
       "0        NaN        ESE           0.0           7.0         46.0         17.0   \n",
       "1        SSE         SE           9.0          17.0         54.0         30.0   \n",
       "2        ESE        ENE          11.0          39.0         62.0         67.0   \n",
       "3         SE        SSE           9.0          17.0         74.0         65.0   \n",
       "4         SE        SSE           6.0           9.0         92.0         63.0   \n",
       "\n",
       "   Pressure9am  Pressure3pm  Cloud9am  Cloud3pm  Temp9am  Temp3pm RainToday  \n",
       "0       1013.4       1009.2       7.0       3.0     26.1     36.7        No  \n",
       "1       1011.1       1008.4       8.0       8.0     24.8     31.7        No  \n",
       "2       1014.0       1014.8       8.0       8.0     21.8     19.5       Yes  \n",
       "3       1017.9       1016.5       8.0       8.0     19.2     21.6       Yes  \n",
       "4       1016.3       1013.9       8.0       8.0     17.2     22.2       Yes  "
      ]
     },
     "execution_count": 217,
     "metadata": {},
     "output_type": "execute_result"
    }
   ],
   "source": [
    "X_train.head()"
   ]
  },
  {
   "cell_type": "code",
   "execution_count": 218,
   "id": "07ffbfb6",
   "metadata": {},
   "outputs": [
    {
     "data": {
      "text/plain": [
       "Date                0\n",
       "Location            0\n",
       "MinTemp            56\n",
       "MaxTemp            52\n",
       "Rainfall           84\n",
       "WindGustDir       641\n",
       "WindGustSpeed     641\n",
       "WindDir9am        841\n",
       "WindDir3pm        587\n",
       "WindSpeed9am       81\n",
       "WindSpeed3pm      536\n",
       "Humidity9am        64\n",
       "Humidity3pm       744\n",
       "Pressure9am      1211\n",
       "Pressure3pm      1215\n",
       "Cloud9am         4777\n",
       "Cloud3pm         5599\n",
       "Temp9am            40\n",
       "Temp3pm           727\n",
       "RainToday          84\n",
       "dtype: int64"
      ]
     },
     "execution_count": 218,
     "metadata": {},
     "output_type": "execute_result"
    }
   ],
   "source": [
    "X_train.isnull().sum()"
   ]
  },
  {
   "cell_type": "code",
   "execution_count": 219,
   "id": "0be1fa72",
   "metadata": {},
   "outputs": [
    {
     "data": {
      "text/plain": [
       "Date                0\n",
       "Location            0\n",
       "MinTemp            20\n",
       "MaxTemp            12\n",
       "Rainfall           83\n",
       "WindGustDir       347\n",
       "WindGustSpeed     347\n",
       "WindDir9am        149\n",
       "WindDir3pm        260\n",
       "WindSpeed9am       21\n",
       "WindSpeed3pm      248\n",
       "Humidity9am       116\n",
       "Humidity3pm       449\n",
       "Pressure9am       605\n",
       "Pressure3pm       606\n",
       "Cloud9am         2566\n",
       "Cloud3pm         3075\n",
       "Temp9am            17\n",
       "Temp3pm           355\n",
       "RainToday          83\n",
       "dtype: int64"
      ]
     },
     "execution_count": 219,
     "metadata": {},
     "output_type": "execute_result"
    }
   ],
   "source": [
    "X_test.isnull().sum()"
   ]
  },
  {
   "cell_type": "code",
   "execution_count": 220,
   "id": "d88fdcd0",
   "metadata": {},
   "outputs": [
    {
     "data": {
      "text/plain": [
       "Date            0\n",
       "RainTomorrow    0\n",
       "dtype: int64"
      ]
     },
     "execution_count": 220,
     "metadata": {},
     "output_type": "execute_result"
    }
   ],
   "source": [
    "y_train.isnull().sum()"
   ]
  },
  {
   "cell_type": "code",
   "execution_count": 221,
   "id": "38f435e2",
   "metadata": {},
   "outputs": [
    {
     "data": {
      "text/html": [
       "<div>\n",
       "<style scoped>\n",
       "    .dataframe tbody tr th:only-of-type {\n",
       "        vertical-align: middle;\n",
       "    }\n",
       "\n",
       "    .dataframe tbody tr th {\n",
       "        vertical-align: top;\n",
       "    }\n",
       "\n",
       "    .dataframe thead th {\n",
       "        text-align: right;\n",
       "    }\n",
       "</style>\n",
       "<table border=\"1\" class=\"dataframe\">\n",
       "  <thead>\n",
       "    <tr style=\"text-align: right;\">\n",
       "      <th></th>\n",
       "      <th>Date</th>\n",
       "      <th>RainTomorrow</th>\n",
       "    </tr>\n",
       "  </thead>\n",
       "  <tbody>\n",
       "    <tr>\n",
       "      <th>0</th>\n",
       "      <td>2016-09-01</td>\n",
       "      <td>No</td>\n",
       "    </tr>\n",
       "    <tr>\n",
       "      <th>1</th>\n",
       "      <td>2016-09-02</td>\n",
       "      <td>Yes</td>\n",
       "    </tr>\n",
       "    <tr>\n",
       "      <th>2</th>\n",
       "      <td>2016-09-03</td>\n",
       "      <td>No</td>\n",
       "    </tr>\n",
       "    <tr>\n",
       "      <th>3</th>\n",
       "      <td>2016-09-04</td>\n",
       "      <td>No</td>\n",
       "    </tr>\n",
       "    <tr>\n",
       "      <th>4</th>\n",
       "      <td>2016-09-05</td>\n",
       "      <td>No</td>\n",
       "    </tr>\n",
       "  </tbody>\n",
       "</table>\n",
       "</div>"
      ],
      "text/plain": [
       "         Date RainTomorrow\n",
       "0  2016-09-01           No\n",
       "1  2016-09-02          Yes\n",
       "2  2016-09-03           No\n",
       "3  2016-09-04           No\n",
       "4  2016-09-05           No"
      ]
     },
     "execution_count": 221,
     "metadata": {},
     "output_type": "execute_result"
    }
   ],
   "source": [
    "y_test.head()"
   ]
  },
  {
   "cell_type": "code",
   "execution_count": 222,
   "id": "43f03d8e",
   "metadata": {},
   "outputs": [],
   "source": [
    "y_train['RainTomorrow'] = y_train['RainTomorrow'].replace('Yes', 1)\n",
    "y_train['RainTomorrow'] = y_train['RainTomorrow'].replace('No', 0)\n",
    "\n",
    "y_test['RainTomorrow'] = y_test['RainTomorrow'].replace('Yes', 1)\n",
    "y_test['RainTomorrow'] = y_test['RainTomorrow'].replace('No', 0)"
   ]
  },
  {
   "cell_type": "code",
   "execution_count": 223,
   "id": "9af68c61",
   "metadata": {},
   "outputs": [
    {
     "data": {
      "text/plain": [
       "Index(['MinTemp', 'MaxTemp', 'Rainfall', 'WindGustDir', 'WindGustSpeed',\n",
       "       'WindDir9am', 'WindDir3pm', 'WindSpeed9am', 'WindSpeed3pm',\n",
       "       'Humidity9am', 'Humidity3pm', 'Pressure9am', 'Pressure3pm', 'Cloud9am',\n",
       "       'Cloud3pm', 'Temp9am', 'Temp3pm', 'RainToday'],\n",
       "      dtype='object')"
      ]
     },
     "execution_count": 223,
     "metadata": {},
     "output_type": "execute_result"
    }
   ],
   "source": [
    "# 결측값 평균으로 대체\n",
    "\n",
    "# 결측값이 있는 컬럼\n",
    "cols = X_train.columns[2:]\n",
    "cols"
   ]
  },
  {
   "cell_type": "code",
   "execution_count": 224,
   "id": "41247e1e",
   "metadata": {},
   "outputs": [
    {
     "name": "stderr",
     "output_type": "stream",
     "text": [
      "C:\\Users\\ing06\\AppData\\Local\\Temp\\ipykernel_7684\\1721494836.py:1: FutureWarning: Dropping of nuisance columns in DataFrame reductions (with 'numeric_only=None') is deprecated; in a future version this will raise TypeError.  Select only valid columns before calling the reduction.\n",
      "  X_train[cols] = X_train[cols].fillna(X_train[cols].mean())\n",
      "C:\\Users\\ing06\\AppData\\Local\\Temp\\ipykernel_7684\\1721494836.py:2: FutureWarning: Dropping of nuisance columns in DataFrame reductions (with 'numeric_only=None') is deprecated; in a future version this will raise TypeError.  Select only valid columns before calling the reduction.\n",
      "  X_test[cols] = X_test[cols].fillna(X_test[cols].mean())\n"
     ]
    }
   ],
   "source": [
    "X_train[cols] = X_train[cols].fillna(X_train[cols].mean())\n",
    "X_test[cols] = X_test[cols].fillna(X_test[cols].mean())"
   ]
  },
  {
   "cell_type": "code",
   "execution_count": 225,
   "id": "851e76f6",
   "metadata": {},
   "outputs": [
    {
     "data": {
      "text/plain": [
       "Date               0\n",
       "Location           0\n",
       "MinTemp            0\n",
       "MaxTemp            0\n",
       "Rainfall           0\n",
       "WindGustDir      641\n",
       "WindGustSpeed      0\n",
       "WindDir9am       841\n",
       "WindDir3pm       587\n",
       "WindSpeed9am       0\n",
       "WindSpeed3pm       0\n",
       "Humidity9am        0\n",
       "Humidity3pm        0\n",
       "Pressure9am        0\n",
       "Pressure3pm        0\n",
       "Cloud9am           0\n",
       "Cloud3pm           0\n",
       "Temp9am            0\n",
       "Temp3pm            0\n",
       "RainToday         84\n",
       "dtype: int64"
      ]
     },
     "execution_count": 225,
     "metadata": {},
     "output_type": "execute_result"
    }
   ],
   "source": [
    "X_train.isnull().sum()"
   ]
  },
  {
   "cell_type": "code",
   "execution_count": 226,
   "id": "0a6f2a9d",
   "metadata": {},
   "outputs": [
    {
     "data": {
      "text/plain": [
       "0        ENE\n",
       "1        SSE\n",
       "2        ENE\n",
       "3        SSE\n",
       "4        ENE\n",
       "        ... \n",
       "11709      N\n",
       "11710    NNW\n",
       "11711    WSW\n",
       "11712    WNW\n",
       "11713    NNE\n",
       "Name: WindGustDir, Length: 11714, dtype: object"
      ]
     },
     "execution_count": 226,
     "metadata": {},
     "output_type": "execute_result"
    }
   ],
   "source": [
    "X_train['WindGustDir']"
   ]
  },
  {
   "cell_type": "code",
   "execution_count": 227,
   "id": "c8e5ac31",
   "metadata": {},
   "outputs": [
    {
     "data": {
      "text/plain": [
       "0        NaN\n",
       "1        SSE\n",
       "2        ESE\n",
       "3         SE\n",
       "4         SE\n",
       "        ... \n",
       "11709     NE\n",
       "11710      S\n",
       "11711     SW\n",
       "11712    WSW\n",
       "11713      E\n",
       "Name: WindDir9am, Length: 11714, dtype: object"
      ]
     },
     "execution_count": 227,
     "metadata": {},
     "output_type": "execute_result"
    }
   ],
   "source": [
    "X_train['WindDir9am']"
   ]
  },
  {
   "cell_type": "code",
   "execution_count": 228,
   "id": "34b7acf3",
   "metadata": {},
   "outputs": [
    {
     "data": {
      "text/plain": [
       "0         No\n",
       "1         No\n",
       "2        Yes\n",
       "3        Yes\n",
       "4        Yes\n",
       "        ... \n",
       "11709     No\n",
       "11710     No\n",
       "11711    Yes\n",
       "11712    Yes\n",
       "11713     No\n",
       "Name: RainToday, Length: 11714, dtype: object"
      ]
     },
     "execution_count": 228,
     "metadata": {},
     "output_type": "execute_result"
    }
   ],
   "source": [
    "X_train['RainToday']"
   ]
  },
  {
   "cell_type": "code",
   "execution_count": 229,
   "id": "9065f8ae",
   "metadata": {},
   "outputs": [],
   "source": [
    "X_train['RainToday'] = X_train['RainToday'].replace('No', 0)\n",
    "X_train['RainToday'] = X_train['RainToday'].replace('Yes', 1)\n",
    "X_test['RainToday'] = X_test['RainToday'].replace('No', 0)\n",
    "X_test['RainToday'] = X_test['RainToday'].replace('Yes', 1)"
   ]
  },
  {
   "cell_type": "code",
   "execution_count": 230,
   "id": "df4b31f6",
   "metadata": {},
   "outputs": [],
   "source": [
    "# Wind 컬럼 삭제\n",
    "winds = ['WindGustDir', 'WindDir9am', 'WindDir3pm']\n",
    "X_train = X_train.drop(winds, axis=1)\n",
    "X_test = X_test.drop(winds, axis=1)"
   ]
  },
  {
   "cell_type": "code",
   "execution_count": 231,
   "id": "fb7f6383",
   "metadata": {},
   "outputs": [],
   "source": [
    "# RainToday 컬럼도 삭제\n",
    "X_train = X_train.drop('RainToday', axis=1)\n",
    "X_test = X_test.drop('RainToday', axis=1)"
   ]
  },
  {
   "cell_type": "code",
   "execution_count": 232,
   "id": "cc525f26",
   "metadata": {},
   "outputs": [
    {
     "data": {
      "text/plain": [
       "Date             0\n",
       "Location         0\n",
       "MinTemp          0\n",
       "MaxTemp          0\n",
       "Rainfall         0\n",
       "WindGustSpeed    0\n",
       "WindSpeed9am     0\n",
       "WindSpeed3pm     0\n",
       "Humidity9am      0\n",
       "Humidity3pm      0\n",
       "Pressure9am      0\n",
       "Pressure3pm      0\n",
       "Cloud9am         0\n",
       "Cloud3pm         0\n",
       "Temp9am          0\n",
       "Temp3pm          0\n",
       "dtype: int64"
      ]
     },
     "execution_count": 232,
     "metadata": {},
     "output_type": "execute_result"
    }
   ],
   "source": [
    "X_train.isnull().sum()"
   ]
  },
  {
   "cell_type": "code",
   "execution_count": 233,
   "id": "56d1a4cb",
   "metadata": {},
   "outputs": [
    {
     "data": {
      "text/html": [
       "<div>\n",
       "<style scoped>\n",
       "    .dataframe tbody tr th:only-of-type {\n",
       "        vertical-align: middle;\n",
       "    }\n",
       "\n",
       "    .dataframe tbody tr th {\n",
       "        vertical-align: top;\n",
       "    }\n",
       "\n",
       "    .dataframe thead th {\n",
       "        text-align: right;\n",
       "    }\n",
       "</style>\n",
       "<table border=\"1\" class=\"dataframe\">\n",
       "  <thead>\n",
       "    <tr style=\"text-align: right;\">\n",
       "      <th></th>\n",
       "      <th>MinTemp</th>\n",
       "      <th>MaxTemp</th>\n",
       "      <th>Rainfall</th>\n",
       "      <th>WindGustSpeed</th>\n",
       "      <th>WindSpeed9am</th>\n",
       "      <th>WindSpeed3pm</th>\n",
       "      <th>Humidity9am</th>\n",
       "      <th>Humidity3pm</th>\n",
       "      <th>Pressure9am</th>\n",
       "      <th>Pressure3pm</th>\n",
       "      <th>Cloud9am</th>\n",
       "      <th>Cloud3pm</th>\n",
       "      <th>Temp9am</th>\n",
       "      <th>Temp3pm</th>\n",
       "    </tr>\n",
       "  </thead>\n",
       "  <tbody>\n",
       "    <tr>\n",
       "      <th>0</th>\n",
       "      <td>20.4</td>\n",
       "      <td>37.6</td>\n",
       "      <td>0.0</td>\n",
       "      <td>54.0</td>\n",
       "      <td>0.0</td>\n",
       "      <td>7.0</td>\n",
       "      <td>46.0</td>\n",
       "      <td>17.0</td>\n",
       "      <td>1013.4</td>\n",
       "      <td>1009.2</td>\n",
       "      <td>7.000000</td>\n",
       "      <td>3.000000</td>\n",
       "      <td>26.1</td>\n",
       "      <td>36.7</td>\n",
       "    </tr>\n",
       "    <tr>\n",
       "      <th>1</th>\n",
       "      <td>20.9</td>\n",
       "      <td>33.6</td>\n",
       "      <td>0.4</td>\n",
       "      <td>50.0</td>\n",
       "      <td>9.0</td>\n",
       "      <td>17.0</td>\n",
       "      <td>54.0</td>\n",
       "      <td>30.0</td>\n",
       "      <td>1011.1</td>\n",
       "      <td>1008.4</td>\n",
       "      <td>8.000000</td>\n",
       "      <td>8.000000</td>\n",
       "      <td>24.8</td>\n",
       "      <td>31.7</td>\n",
       "    </tr>\n",
       "    <tr>\n",
       "      <th>2</th>\n",
       "      <td>18.4</td>\n",
       "      <td>23.1</td>\n",
       "      <td>2.2</td>\n",
       "      <td>48.0</td>\n",
       "      <td>11.0</td>\n",
       "      <td>39.0</td>\n",
       "      <td>62.0</td>\n",
       "      <td>67.0</td>\n",
       "      <td>1014.0</td>\n",
       "      <td>1014.8</td>\n",
       "      <td>8.000000</td>\n",
       "      <td>8.000000</td>\n",
       "      <td>21.8</td>\n",
       "      <td>19.5</td>\n",
       "    </tr>\n",
       "    <tr>\n",
       "      <th>3</th>\n",
       "      <td>17.3</td>\n",
       "      <td>23.7</td>\n",
       "      <td>15.6</td>\n",
       "      <td>39.0</td>\n",
       "      <td>9.0</td>\n",
       "      <td>17.0</td>\n",
       "      <td>74.0</td>\n",
       "      <td>65.0</td>\n",
       "      <td>1017.9</td>\n",
       "      <td>1016.5</td>\n",
       "      <td>8.000000</td>\n",
       "      <td>8.000000</td>\n",
       "      <td>19.2</td>\n",
       "      <td>21.6</td>\n",
       "    </tr>\n",
       "    <tr>\n",
       "      <th>4</th>\n",
       "      <td>15.5</td>\n",
       "      <td>22.9</td>\n",
       "      <td>6.8</td>\n",
       "      <td>31.0</td>\n",
       "      <td>6.0</td>\n",
       "      <td>9.0</td>\n",
       "      <td>92.0</td>\n",
       "      <td>63.0</td>\n",
       "      <td>1016.3</td>\n",
       "      <td>1013.9</td>\n",
       "      <td>8.000000</td>\n",
       "      <td>8.000000</td>\n",
       "      <td>17.2</td>\n",
       "      <td>22.2</td>\n",
       "    </tr>\n",
       "    <tr>\n",
       "      <th>...</th>\n",
       "      <td>...</td>\n",
       "      <td>...</td>\n",
       "      <td>...</td>\n",
       "      <td>...</td>\n",
       "      <td>...</td>\n",
       "      <td>...</td>\n",
       "      <td>...</td>\n",
       "      <td>...</td>\n",
       "      <td>...</td>\n",
       "      <td>...</td>\n",
       "      <td>...</td>\n",
       "      <td>...</td>\n",
       "      <td>...</td>\n",
       "      <td>...</td>\n",
       "    </tr>\n",
       "    <tr>\n",
       "      <th>11709</th>\n",
       "      <td>3.4</td>\n",
       "      <td>26.1</td>\n",
       "      <td>0.0</td>\n",
       "      <td>44.0</td>\n",
       "      <td>11.0</td>\n",
       "      <td>24.0</td>\n",
       "      <td>49.0</td>\n",
       "      <td>18.0</td>\n",
       "      <td>1020.4</td>\n",
       "      <td>1015.9</td>\n",
       "      <td>4.931527</td>\n",
       "      <td>5.018152</td>\n",
       "      <td>11.4</td>\n",
       "      <td>25.0</td>\n",
       "    </tr>\n",
       "    <tr>\n",
       "      <th>11710</th>\n",
       "      <td>7.4</td>\n",
       "      <td>27.1</td>\n",
       "      <td>0.0</td>\n",
       "      <td>59.0</td>\n",
       "      <td>2.0</td>\n",
       "      <td>35.0</td>\n",
       "      <td>49.0</td>\n",
       "      <td>21.0</td>\n",
       "      <td>1014.9</td>\n",
       "      <td>1009.6</td>\n",
       "      <td>8.000000</td>\n",
       "      <td>8.000000</td>\n",
       "      <td>14.4</td>\n",
       "      <td>25.8</td>\n",
       "    </tr>\n",
       "    <tr>\n",
       "      <th>11711</th>\n",
       "      <td>14.2</td>\n",
       "      <td>14.4</td>\n",
       "      <td>9.2</td>\n",
       "      <td>31.0</td>\n",
       "      <td>24.0</td>\n",
       "      <td>9.0</td>\n",
       "      <td>93.0</td>\n",
       "      <td>100.0</td>\n",
       "      <td>1013.1</td>\n",
       "      <td>1010.8</td>\n",
       "      <td>8.000000</td>\n",
       "      <td>8.000000</td>\n",
       "      <td>14.2</td>\n",
       "      <td>14.0</td>\n",
       "    </tr>\n",
       "    <tr>\n",
       "      <th>11712</th>\n",
       "      <td>11.5</td>\n",
       "      <td>22.9</td>\n",
       "      <td>16.0</td>\n",
       "      <td>28.0</td>\n",
       "      <td>7.0</td>\n",
       "      <td>13.0</td>\n",
       "      <td>96.0</td>\n",
       "      <td>32.0</td>\n",
       "      <td>1018.0</td>\n",
       "      <td>1015.2</td>\n",
       "      <td>7.000000</td>\n",
       "      <td>5.018152</td>\n",
       "      <td>12.6</td>\n",
       "      <td>21.9</td>\n",
       "    </tr>\n",
       "    <tr>\n",
       "      <th>11713</th>\n",
       "      <td>7.4</td>\n",
       "      <td>24.2</td>\n",
       "      <td>0.2</td>\n",
       "      <td>26.0</td>\n",
       "      <td>9.0</td>\n",
       "      <td>7.0</td>\n",
       "      <td>69.0</td>\n",
       "      <td>32.0</td>\n",
       "      <td>1020.1</td>\n",
       "      <td>1015.1</td>\n",
       "      <td>4.931527</td>\n",
       "      <td>5.018152</td>\n",
       "      <td>14.6</td>\n",
       "      <td>23.4</td>\n",
       "    </tr>\n",
       "  </tbody>\n",
       "</table>\n",
       "<p>11714 rows × 14 columns</p>\n",
       "</div>"
      ],
      "text/plain": [
       "       MinTemp  MaxTemp  Rainfall  WindGustSpeed  WindSpeed9am  WindSpeed3pm  \\\n",
       "0         20.4     37.6       0.0           54.0           0.0           7.0   \n",
       "1         20.9     33.6       0.4           50.0           9.0          17.0   \n",
       "2         18.4     23.1       2.2           48.0          11.0          39.0   \n",
       "3         17.3     23.7      15.6           39.0           9.0          17.0   \n",
       "4         15.5     22.9       6.8           31.0           6.0           9.0   \n",
       "...        ...      ...       ...            ...           ...           ...   \n",
       "11709      3.4     26.1       0.0           44.0          11.0          24.0   \n",
       "11710      7.4     27.1       0.0           59.0           2.0          35.0   \n",
       "11711     14.2     14.4       9.2           31.0          24.0           9.0   \n",
       "11712     11.5     22.9      16.0           28.0           7.0          13.0   \n",
       "11713      7.4     24.2       0.2           26.0           9.0           7.0   \n",
       "\n",
       "       Humidity9am  Humidity3pm  Pressure9am  Pressure3pm  Cloud9am  Cloud3pm  \\\n",
       "0             46.0         17.0       1013.4       1009.2  7.000000  3.000000   \n",
       "1             54.0         30.0       1011.1       1008.4  8.000000  8.000000   \n",
       "2             62.0         67.0       1014.0       1014.8  8.000000  8.000000   \n",
       "3             74.0         65.0       1017.9       1016.5  8.000000  8.000000   \n",
       "4             92.0         63.0       1016.3       1013.9  8.000000  8.000000   \n",
       "...            ...          ...          ...          ...       ...       ...   \n",
       "11709         49.0         18.0       1020.4       1015.9  4.931527  5.018152   \n",
       "11710         49.0         21.0       1014.9       1009.6  8.000000  8.000000   \n",
       "11711         93.0        100.0       1013.1       1010.8  8.000000  8.000000   \n",
       "11712         96.0         32.0       1018.0       1015.2  7.000000  5.018152   \n",
       "11713         69.0         32.0       1020.1       1015.1  4.931527  5.018152   \n",
       "\n",
       "       Temp9am  Temp3pm  \n",
       "0         26.1     36.7  \n",
       "1         24.8     31.7  \n",
       "2         21.8     19.5  \n",
       "3         19.2     21.6  \n",
       "4         17.2     22.2  \n",
       "...        ...      ...  \n",
       "11709     11.4     25.0  \n",
       "11710     14.4     25.8  \n",
       "11711     14.2     14.0  \n",
       "11712     12.6     21.9  \n",
       "11713     14.6     23.4  \n",
       "\n",
       "[11714 rows x 14 columns]"
      ]
     },
     "execution_count": 233,
     "metadata": {},
     "output_type": "execute_result"
    }
   ],
   "source": [
    "# 피쳐 선택\n",
    "X_train = X_train.iloc[:, 2:]\n",
    "X_train"
   ]
  },
  {
   "cell_type": "code",
   "execution_count": 234,
   "id": "3174202e",
   "metadata": {},
   "outputs": [
    {
     "data": {
      "text/html": [
       "<div>\n",
       "<style scoped>\n",
       "    .dataframe tbody tr th:only-of-type {\n",
       "        vertical-align: middle;\n",
       "    }\n",
       "\n",
       "    .dataframe tbody tr th {\n",
       "        vertical-align: top;\n",
       "    }\n",
       "\n",
       "    .dataframe thead th {\n",
       "        text-align: right;\n",
       "    }\n",
       "</style>\n",
       "<table border=\"1\" class=\"dataframe\">\n",
       "  <thead>\n",
       "    <tr style=\"text-align: right;\">\n",
       "      <th></th>\n",
       "      <th>Date</th>\n",
       "      <th>Location</th>\n",
       "      <th>MinTemp</th>\n",
       "      <th>MaxTemp</th>\n",
       "      <th>Rainfall</th>\n",
       "      <th>WindGustSpeed</th>\n",
       "      <th>WindSpeed9am</th>\n",
       "      <th>WindSpeed3pm</th>\n",
       "      <th>Humidity9am</th>\n",
       "      <th>Humidity3pm</th>\n",
       "      <th>Pressure9am</th>\n",
       "      <th>Pressure3pm</th>\n",
       "      <th>Cloud9am</th>\n",
       "      <th>Cloud3pm</th>\n",
       "      <th>Temp9am</th>\n",
       "      <th>Temp3pm</th>\n",
       "    </tr>\n",
       "  </thead>\n",
       "  <tbody>\n",
       "    <tr>\n",
       "      <th>0</th>\n",
       "      <td>2016-09-01</td>\n",
       "      <td>Albury</td>\n",
       "      <td>8.5</td>\n",
       "      <td>16.7</td>\n",
       "      <td>0.4</td>\n",
       "      <td>17.0</td>\n",
       "      <td>0.0</td>\n",
       "      <td>11.0</td>\n",
       "      <td>96.0</td>\n",
       "      <td>65.0</td>\n",
       "      <td>1020.0</td>\n",
       "      <td>1016.1</td>\n",
       "      <td>8.000000</td>\n",
       "      <td>7.0</td>\n",
       "      <td>12.3</td>\n",
       "      <td>15.8</td>\n",
       "    </tr>\n",
       "    <tr>\n",
       "      <th>1</th>\n",
       "      <td>2016-09-02</td>\n",
       "      <td>Albury</td>\n",
       "      <td>6.1</td>\n",
       "      <td>13.9</td>\n",
       "      <td>0.2</td>\n",
       "      <td>37.0</td>\n",
       "      <td>6.0</td>\n",
       "      <td>7.0</td>\n",
       "      <td>87.0</td>\n",
       "      <td>76.0</td>\n",
       "      <td>1012.1</td>\n",
       "      <td>1005.6</td>\n",
       "      <td>4.965923</td>\n",
       "      <td>8.0</td>\n",
       "      <td>10.1</td>\n",
       "      <td>13.5</td>\n",
       "    </tr>\n",
       "    <tr>\n",
       "      <th>2</th>\n",
       "      <td>2016-09-03</td>\n",
       "      <td>Albury</td>\n",
       "      <td>9.6</td>\n",
       "      <td>16.6</td>\n",
       "      <td>33.6</td>\n",
       "      <td>48.0</td>\n",
       "      <td>15.0</td>\n",
       "      <td>31.0</td>\n",
       "      <td>90.0</td>\n",
       "      <td>60.0</td>\n",
       "      <td>1003.4</td>\n",
       "      <td>1008.8</td>\n",
       "      <td>6.000000</td>\n",
       "      <td>1.0</td>\n",
       "      <td>11.4</td>\n",
       "      <td>15.1</td>\n",
       "    </tr>\n",
       "    <tr>\n",
       "      <th>3</th>\n",
       "      <td>2016-09-04</td>\n",
       "      <td>Albury</td>\n",
       "      <td>7.7</td>\n",
       "      <td>15.1</td>\n",
       "      <td>0.6</td>\n",
       "      <td>26.0</td>\n",
       "      <td>20.0</td>\n",
       "      <td>13.0</td>\n",
       "      <td>82.0</td>\n",
       "      <td>66.0</td>\n",
       "      <td>1023.7</td>\n",
       "      <td>1025.4</td>\n",
       "      <td>8.000000</td>\n",
       "      <td>7.0</td>\n",
       "      <td>10.8</td>\n",
       "      <td>14.0</td>\n",
       "    </tr>\n",
       "    <tr>\n",
       "      <th>4</th>\n",
       "      <td>2016-09-05</td>\n",
       "      <td>Albury</td>\n",
       "      <td>4.4</td>\n",
       "      <td>15.9</td>\n",
       "      <td>0.0</td>\n",
       "      <td>24.0</td>\n",
       "      <td>4.0</td>\n",
       "      <td>13.0</td>\n",
       "      <td>93.0</td>\n",
       "      <td>63.0</td>\n",
       "      <td>1031.3</td>\n",
       "      <td>1029.1</td>\n",
       "      <td>8.000000</td>\n",
       "      <td>7.0</td>\n",
       "      <td>10.4</td>\n",
       "      <td>14.7</td>\n",
       "    </tr>\n",
       "  </tbody>\n",
       "</table>\n",
       "</div>"
      ],
      "text/plain": [
       "         Date Location  MinTemp  MaxTemp  Rainfall  WindGustSpeed  \\\n",
       "0  2016-09-01   Albury      8.5     16.7       0.4           17.0   \n",
       "1  2016-09-02   Albury      6.1     13.9       0.2           37.0   \n",
       "2  2016-09-03   Albury      9.6     16.6      33.6           48.0   \n",
       "3  2016-09-04   Albury      7.7     15.1       0.6           26.0   \n",
       "4  2016-09-05   Albury      4.4     15.9       0.0           24.0   \n",
       "\n",
       "   WindSpeed9am  WindSpeed3pm  Humidity9am  Humidity3pm  Pressure9am  \\\n",
       "0           0.0          11.0         96.0         65.0       1020.0   \n",
       "1           6.0           7.0         87.0         76.0       1012.1   \n",
       "2          15.0          31.0         90.0         60.0       1003.4   \n",
       "3          20.0          13.0         82.0         66.0       1023.7   \n",
       "4           4.0          13.0         93.0         63.0       1031.3   \n",
       "\n",
       "   Pressure3pm  Cloud9am  Cloud3pm  Temp9am  Temp3pm  \n",
       "0       1016.1  8.000000       7.0     12.3     15.8  \n",
       "1       1005.6  4.965923       8.0     10.1     13.5  \n",
       "2       1008.8  6.000000       1.0     11.4     15.1  \n",
       "3       1025.4  8.000000       7.0     10.8     14.0  \n",
       "4       1029.1  8.000000       7.0     10.4     14.7  "
      ]
     },
     "execution_count": 234,
     "metadata": {},
     "output_type": "execute_result"
    }
   ],
   "source": [
    "X_test.head()"
   ]
  },
  {
   "cell_type": "code",
   "execution_count": 235,
   "id": "57d567a2",
   "metadata": {},
   "outputs": [
    {
     "data": {
      "text/html": [
       "<div>\n",
       "<style scoped>\n",
       "    .dataframe tbody tr th:only-of-type {\n",
       "        vertical-align: middle;\n",
       "    }\n",
       "\n",
       "    .dataframe tbody tr th {\n",
       "        vertical-align: top;\n",
       "    }\n",
       "\n",
       "    .dataframe thead th {\n",
       "        text-align: right;\n",
       "    }\n",
       "</style>\n",
       "<table border=\"1\" class=\"dataframe\">\n",
       "  <thead>\n",
       "    <tr style=\"text-align: right;\">\n",
       "      <th></th>\n",
       "      <th>MinTemp</th>\n",
       "      <th>MaxTemp</th>\n",
       "      <th>Rainfall</th>\n",
       "      <th>WindGustSpeed</th>\n",
       "      <th>WindSpeed9am</th>\n",
       "      <th>WindSpeed3pm</th>\n",
       "      <th>Humidity9am</th>\n",
       "      <th>Humidity3pm</th>\n",
       "      <th>Pressure9am</th>\n",
       "      <th>Pressure3pm</th>\n",
       "      <th>Cloud9am</th>\n",
       "      <th>Cloud3pm</th>\n",
       "      <th>Temp9am</th>\n",
       "      <th>Temp3pm</th>\n",
       "    </tr>\n",
       "  </thead>\n",
       "  <tbody>\n",
       "    <tr>\n",
       "      <th>0</th>\n",
       "      <td>8.5</td>\n",
       "      <td>16.7</td>\n",
       "      <td>0.4</td>\n",
       "      <td>17.0</td>\n",
       "      <td>0.0</td>\n",
       "      <td>11.0</td>\n",
       "      <td>96.0</td>\n",
       "      <td>65.0</td>\n",
       "      <td>1020.0</td>\n",
       "      <td>1016.1</td>\n",
       "      <td>8.000000</td>\n",
       "      <td>7.000000</td>\n",
       "      <td>12.3</td>\n",
       "      <td>15.8</td>\n",
       "    </tr>\n",
       "    <tr>\n",
       "      <th>1</th>\n",
       "      <td>6.1</td>\n",
       "      <td>13.9</td>\n",
       "      <td>0.2</td>\n",
       "      <td>37.0</td>\n",
       "      <td>6.0</td>\n",
       "      <td>7.0</td>\n",
       "      <td>87.0</td>\n",
       "      <td>76.0</td>\n",
       "      <td>1012.1</td>\n",
       "      <td>1005.6</td>\n",
       "      <td>4.965923</td>\n",
       "      <td>8.000000</td>\n",
       "      <td>10.1</td>\n",
       "      <td>13.5</td>\n",
       "    </tr>\n",
       "    <tr>\n",
       "      <th>2</th>\n",
       "      <td>9.6</td>\n",
       "      <td>16.6</td>\n",
       "      <td>33.6</td>\n",
       "      <td>48.0</td>\n",
       "      <td>15.0</td>\n",
       "      <td>31.0</td>\n",
       "      <td>90.0</td>\n",
       "      <td>60.0</td>\n",
       "      <td>1003.4</td>\n",
       "      <td>1008.8</td>\n",
       "      <td>6.000000</td>\n",
       "      <td>1.000000</td>\n",
       "      <td>11.4</td>\n",
       "      <td>15.1</td>\n",
       "    </tr>\n",
       "    <tr>\n",
       "      <th>3</th>\n",
       "      <td>7.7</td>\n",
       "      <td>15.1</td>\n",
       "      <td>0.6</td>\n",
       "      <td>26.0</td>\n",
       "      <td>20.0</td>\n",
       "      <td>13.0</td>\n",
       "      <td>82.0</td>\n",
       "      <td>66.0</td>\n",
       "      <td>1023.7</td>\n",
       "      <td>1025.4</td>\n",
       "      <td>8.000000</td>\n",
       "      <td>7.000000</td>\n",
       "      <td>10.8</td>\n",
       "      <td>14.0</td>\n",
       "    </tr>\n",
       "    <tr>\n",
       "      <th>4</th>\n",
       "      <td>4.4</td>\n",
       "      <td>15.9</td>\n",
       "      <td>0.0</td>\n",
       "      <td>24.0</td>\n",
       "      <td>4.0</td>\n",
       "      <td>13.0</td>\n",
       "      <td>93.0</td>\n",
       "      <td>63.0</td>\n",
       "      <td>1031.3</td>\n",
       "      <td>1029.1</td>\n",
       "      <td>8.000000</td>\n",
       "      <td>7.000000</td>\n",
       "      <td>10.4</td>\n",
       "      <td>14.7</td>\n",
       "    </tr>\n",
       "    <tr>\n",
       "      <th>...</th>\n",
       "      <td>...</td>\n",
       "      <td>...</td>\n",
       "      <td>...</td>\n",
       "      <td>...</td>\n",
       "      <td>...</td>\n",
       "      <td>...</td>\n",
       "      <td>...</td>\n",
       "      <td>...</td>\n",
       "      <td>...</td>\n",
       "      <td>...</td>\n",
       "      <td>...</td>\n",
       "      <td>...</td>\n",
       "      <td>...</td>\n",
       "      <td>...</td>\n",
       "    </tr>\n",
       "    <tr>\n",
       "      <th>5789</th>\n",
       "      <td>22.1</td>\n",
       "      <td>35.8</td>\n",
       "      <td>63.8</td>\n",
       "      <td>43.0</td>\n",
       "      <td>17.0</td>\n",
       "      <td>31.0</td>\n",
       "      <td>77.0</td>\n",
       "      <td>41.0</td>\n",
       "      <td>997.8</td>\n",
       "      <td>995.2</td>\n",
       "      <td>4.000000</td>\n",
       "      <td>2.000000</td>\n",
       "      <td>26.0</td>\n",
       "      <td>33.5</td>\n",
       "    </tr>\n",
       "    <tr>\n",
       "      <th>5790</th>\n",
       "      <td>22.6</td>\n",
       "      <td>36.8</td>\n",
       "      <td>0.0</td>\n",
       "      <td>50.0</td>\n",
       "      <td>30.0</td>\n",
       "      <td>15.0</td>\n",
       "      <td>63.0</td>\n",
       "      <td>39.0</td>\n",
       "      <td>1000.0</td>\n",
       "      <td>998.8</td>\n",
       "      <td>4.965923</td>\n",
       "      <td>4.967635</td>\n",
       "      <td>29.7</td>\n",
       "      <td>34.0</td>\n",
       "    </tr>\n",
       "    <tr>\n",
       "      <th>5791</th>\n",
       "      <td>23.2</td>\n",
       "      <td>38.0</td>\n",
       "      <td>0.0</td>\n",
       "      <td>33.0</td>\n",
       "      <td>17.0</td>\n",
       "      <td>17.0</td>\n",
       "      <td>25.0</td>\n",
       "      <td>14.0</td>\n",
       "      <td>1004.4</td>\n",
       "      <td>1001.0</td>\n",
       "      <td>4.965923</td>\n",
       "      <td>4.967635</td>\n",
       "      <td>28.7</td>\n",
       "      <td>36.4</td>\n",
       "    </tr>\n",
       "    <tr>\n",
       "      <th>5792</th>\n",
       "      <td>19.7</td>\n",
       "      <td>37.0</td>\n",
       "      <td>0.0</td>\n",
       "      <td>37.0</td>\n",
       "      <td>22.0</td>\n",
       "      <td>6.0</td>\n",
       "      <td>30.0</td>\n",
       "      <td>23.0</td>\n",
       "      <td>1004.6</td>\n",
       "      <td>1000.9</td>\n",
       "      <td>4.965923</td>\n",
       "      <td>4.967635</td>\n",
       "      <td>28.2</td>\n",
       "      <td>35.1</td>\n",
       "    </tr>\n",
       "    <tr>\n",
       "      <th>5793</th>\n",
       "      <td>23.7</td>\n",
       "      <td>33.0</td>\n",
       "      <td>0.0</td>\n",
       "      <td>46.0</td>\n",
       "      <td>24.0</td>\n",
       "      <td>17.0</td>\n",
       "      <td>40.0</td>\n",
       "      <td>38.0</td>\n",
       "      <td>1005.1</td>\n",
       "      <td>1002.7</td>\n",
       "      <td>5.000000</td>\n",
       "      <td>4.967635</td>\n",
       "      <td>30.1</td>\n",
       "      <td>31.5</td>\n",
       "    </tr>\n",
       "  </tbody>\n",
       "</table>\n",
       "<p>5794 rows × 14 columns</p>\n",
       "</div>"
      ],
      "text/plain": [
       "      MinTemp  MaxTemp  Rainfall  WindGustSpeed  WindSpeed9am  WindSpeed3pm  \\\n",
       "0         8.5     16.7       0.4           17.0           0.0          11.0   \n",
       "1         6.1     13.9       0.2           37.0           6.0           7.0   \n",
       "2         9.6     16.6      33.6           48.0          15.0          31.0   \n",
       "3         7.7     15.1       0.6           26.0          20.0          13.0   \n",
       "4         4.4     15.9       0.0           24.0           4.0          13.0   \n",
       "...       ...      ...       ...            ...           ...           ...   \n",
       "5789     22.1     35.8      63.8           43.0          17.0          31.0   \n",
       "5790     22.6     36.8       0.0           50.0          30.0          15.0   \n",
       "5791     23.2     38.0       0.0           33.0          17.0          17.0   \n",
       "5792     19.7     37.0       0.0           37.0          22.0           6.0   \n",
       "5793     23.7     33.0       0.0           46.0          24.0          17.0   \n",
       "\n",
       "      Humidity9am  Humidity3pm  Pressure9am  Pressure3pm  Cloud9am  Cloud3pm  \\\n",
       "0            96.0         65.0       1020.0       1016.1  8.000000  7.000000   \n",
       "1            87.0         76.0       1012.1       1005.6  4.965923  8.000000   \n",
       "2            90.0         60.0       1003.4       1008.8  6.000000  1.000000   \n",
       "3            82.0         66.0       1023.7       1025.4  8.000000  7.000000   \n",
       "4            93.0         63.0       1031.3       1029.1  8.000000  7.000000   \n",
       "...           ...          ...          ...          ...       ...       ...   \n",
       "5789         77.0         41.0        997.8        995.2  4.000000  2.000000   \n",
       "5790         63.0         39.0       1000.0        998.8  4.965923  4.967635   \n",
       "5791         25.0         14.0       1004.4       1001.0  4.965923  4.967635   \n",
       "5792         30.0         23.0       1004.6       1000.9  4.965923  4.967635   \n",
       "5793         40.0         38.0       1005.1       1002.7  5.000000  4.967635   \n",
       "\n",
       "      Temp9am  Temp3pm  \n",
       "0        12.3     15.8  \n",
       "1        10.1     13.5  \n",
       "2        11.4     15.1  \n",
       "3        10.8     14.0  \n",
       "4        10.4     14.7  \n",
       "...       ...      ...  \n",
       "5789     26.0     33.5  \n",
       "5790     29.7     34.0  \n",
       "5791     28.7     36.4  \n",
       "5792     28.2     35.1  \n",
       "5793     30.1     31.5  \n",
       "\n",
       "[5794 rows x 14 columns]"
      ]
     },
     "execution_count": 235,
     "metadata": {},
     "output_type": "execute_result"
    }
   ],
   "source": [
    "X_test = X_test.iloc[:, 2:]\n",
    "X_test"
   ]
  },
  {
   "cell_type": "code",
   "execution_count": 248,
   "id": "d7f67cc9",
   "metadata": {},
   "outputs": [
    {
     "data": {
      "text/plain": [
       "0.8602526890899778"
      ]
     },
     "execution_count": 248,
     "metadata": {},
     "output_type": "execute_result"
    }
   ],
   "source": [
    "from sklearn.ensemble import RandomForestClassifier\n",
    "\n",
    "rf = RandomForestClassifier(max_depth=7)\n",
    "\n",
    "rf.fit(X_train, y_train['RainTomorrow'])\n",
    "rf.score(X_train, y_train['RainTomorrow'])"
   ]
  },
  {
   "cell_type": "code",
   "execution_count": 249,
   "id": "b2521b76",
   "metadata": {},
   "outputs": [
    {
     "data": {
      "text/plain": [
       "array([0, 1, 1, ..., 0, 0, 0], dtype=int64)"
      ]
     },
     "execution_count": 249,
     "metadata": {},
     "output_type": "execute_result"
    }
   ],
   "source": [
    "y_pred = rf.predict(X_test)\n",
    "y_pred"
   ]
  },
  {
   "cell_type": "code",
   "execution_count": 250,
   "id": "03ef7f82",
   "metadata": {},
   "outputs": [
    {
     "data": {
      "text/plain": [
       "0.8280980324473594"
      ]
     },
     "execution_count": 250,
     "metadata": {},
     "output_type": "execute_result"
    }
   ],
   "source": [
    "rf.score(X_test, y_test['RainTomorrow'])"
   ]
  },
  {
   "cell_type": "code",
   "execution_count": 251,
   "id": "637f7479",
   "metadata": {},
   "outputs": [],
   "source": [
    "## auc로 평가\n",
    "from sklearn.metrics import roc_curve, auc\n",
    "\n",
    "fpr, tpr, thresholds = roc_curve(y_test['RainTomorrow'], y_pred)"
   ]
  },
  {
   "cell_type": "code",
   "execution_count": 252,
   "id": "7db49a35",
   "metadata": {},
   "outputs": [
    {
     "data": {
      "text/plain": [
       "0.682896090007935"
      ]
     },
     "execution_count": 252,
     "metadata": {},
     "output_type": "execute_result"
    }
   ],
   "source": [
    "auc = auc(fpr, tpr)\n",
    "auc"
   ]
  },
  {
   "cell_type": "code",
   "execution_count": null,
   "id": "2fa1f0bc",
   "metadata": {},
   "outputs": [],
   "source": []
  }
 ],
 "metadata": {
  "kernelspec": {
   "display_name": "Python 3 (ipykernel)",
   "language": "python",
   "name": "python3"
  },
  "language_info": {
   "codemirror_mode": {
    "name": "ipython",
    "version": 3
   },
   "file_extension": ".py",
   "mimetype": "text/x-python",
   "name": "python",
   "nbconvert_exporter": "python",
   "pygments_lexer": "ipython3",
   "version": "3.9.7"
  }
 },
 "nbformat": 4,
 "nbformat_minor": 5
}
