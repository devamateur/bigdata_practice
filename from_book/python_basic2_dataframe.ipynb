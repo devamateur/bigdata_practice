{
 "cells": [
  {
   "cell_type": "markdown",
   "id": "7b3754b5",
   "metadata": {},
   "source": [
    "## PART 02) 데이터 다루기"
   ]
  },
  {
   "cell_type": "markdown",
   "id": "dbf93f95",
   "metadata": {},
   "source": [
    "### 1절. Series와 DataFrame\n",
    "#### 1. Series(시리즈)"
   ]
  },
  {
   "cell_type": "code",
   "execution_count": 1,
   "id": "8ea98d2c",
   "metadata": {},
   "outputs": [],
   "source": [
    "import pandas as pd\n",
    "import numpy as np"
   ]
  },
  {
   "cell_type": "code",
   "execution_count": 2,
   "id": "0147da50",
   "metadata": {},
   "outputs": [
    {
     "name": "stdout",
     "output_type": "stream",
     "text": [
      "0    a\n",
      "1    b\n",
      "2    c\n",
      "dtype: object\n"
     ]
    }
   ],
   "source": [
    "# series 생성\n",
    "\n",
    "series1 = pd.Series(['a', 'b', 'c'])\n",
    "print(series1)"
   ]
  },
  {
   "cell_type": "code",
   "execution_count": 7,
   "id": "0bf62cf7",
   "metadata": {},
   "outputs": [
    {
     "name": "stdout",
     "output_type": "stream",
     "text": [
      "0    0\n",
      "1    1\n",
      "2    2\n",
      "3    3\n",
      "4    4\n",
      "dtype: int64\n"
     ]
    }
   ],
   "source": [
    "series2 = pd.Series(range(5))\n",
    "print(series2)"
   ]
  },
  {
   "cell_type": "code",
   "execution_count": 9,
   "id": "d63041fc",
   "metadata": {},
   "outputs": [
    {
     "name": "stdout",
     "output_type": "stream",
     "text": [
      "A    0\n",
      "B    1\n",
      "C    2\n",
      "D    3\n",
      "E    4\n",
      "dtype: int64\n"
     ]
    }
   ],
   "source": [
    "# 인덱스 지정\n",
    "idx = ['A', 'B', 'C', 'D', 'E']\n",
    "series3 = pd.Series(range(5), idx)\n",
    "print(series3)"
   ]
  },
  {
   "cell_type": "code",
   "execution_count": 12,
   "id": "4f46e4ff",
   "metadata": {},
   "outputs": [
    {
     "name": "stdout",
     "output_type": "stream",
     "text": [
      "1     이유리\n",
      "2     최민준\n",
      "3    None\n",
      "dtype: object\n"
     ]
    }
   ],
   "source": [
    "dict = {1: '이유리', 2:'최민준', 3:None}\n",
    "series4 = pd.Series(dict)\n",
    "print(series4)"
   ]
  },
  {
   "cell_type": "code",
   "execution_count": 13,
   "id": "61857be0",
   "metadata": {},
   "outputs": [
    {
     "data": {
      "text/plain": [
       "array(['이유리', '최민준', None], dtype=object)"
      ]
     },
     "execution_count": 13,
     "metadata": {},
     "output_type": "execute_result"
    }
   ],
   "source": [
    "series4.values"
   ]
  },
  {
   "cell_type": "code",
   "execution_count": 14,
   "id": "f07e9397",
   "metadata": {},
   "outputs": [
    {
     "data": {
      "text/plain": [
       "Int64Index([1, 2, 3], dtype='int64')"
      ]
     },
     "execution_count": 14,
     "metadata": {},
     "output_type": "execute_result"
    }
   ],
   "source": [
    "series4.index"
   ]
  },
  {
   "cell_type": "code",
   "execution_count": 17,
   "id": "d0af9824",
   "metadata": {},
   "outputs": [
    {
     "data": {
      "text/plain": [
       "3"
      ]
     },
     "execution_count": 17,
     "metadata": {},
     "output_type": "execute_result"
    }
   ],
   "source": [
    "series4.size"
   ]
  },
  {
   "cell_type": "code",
   "execution_count": 20,
   "id": "735d2cf5",
   "metadata": {},
   "outputs": [
    {
     "data": {
      "text/plain": [
       "dtype('int64')"
      ]
     },
     "execution_count": 20,
     "metadata": {},
     "output_type": "execute_result"
    }
   ],
   "source": [
    "series2.dtypes"
   ]
  },
  {
   "cell_type": "code",
   "execution_count": 21,
   "id": "64e5ed60",
   "metadata": {},
   "outputs": [
    {
     "name": "stdout",
     "output_type": "stream",
     "text": [
      "1    a\n",
      "2    b\n",
      "3    c\n",
      "dtype: object\n"
     ]
    }
   ],
   "source": [
    "series1.index = [1, 2, 3]\n",
    "print(series1)"
   ]
  },
  {
   "cell_type": "code",
   "execution_count": 22,
   "id": "d2dfa392",
   "metadata": {},
   "outputs": [
    {
     "data": {
      "text/plain": [
       "A    0\n",
       "B    1\n",
       "C    2\n",
       "dtype: int64"
      ]
     },
     "execution_count": 22,
     "metadata": {},
     "output_type": "execute_result"
    }
   ],
   "source": [
    "# 인덱싱/슬라이싱\n",
    "series3[:3]"
   ]
  },
  {
   "cell_type": "code",
   "execution_count": 25,
   "id": "1a9d74ef",
   "metadata": {},
   "outputs": [
    {
     "data": {
      "text/plain": [
       "0"
      ]
     },
     "execution_count": 25,
     "metadata": {},
     "output_type": "execute_result"
    }
   ],
   "source": [
    "series3[0]"
   ]
  },
  {
   "cell_type": "code",
   "execution_count": 26,
   "id": "1d1faa69",
   "metadata": {},
   "outputs": [
    {
     "data": {
      "text/plain": [
       "2"
      ]
     },
     "execution_count": 26,
     "metadata": {},
     "output_type": "execute_result"
    }
   ],
   "source": [
    "series3[2]"
   ]
  },
  {
   "cell_type": "code",
   "execution_count": 27,
   "id": "f1ddee1a",
   "metadata": {},
   "outputs": [
    {
     "data": {
      "text/plain": [
       "A    0\n",
       "B    1\n",
       "C    2\n",
       "D    3\n",
       "E    4\n",
       "dtype: int64"
      ]
     },
     "execution_count": 27,
     "metadata": {},
     "output_type": "execute_result"
    }
   ],
   "source": [
    "series3"
   ]
  },
  {
   "cell_type": "code",
   "execution_count": 28,
   "id": "4b83c4fe",
   "metadata": {},
   "outputs": [
    {
     "data": {
      "text/plain": [
       "'A'"
      ]
     },
     "execution_count": 28,
     "metadata": {},
     "output_type": "execute_result"
    }
   ],
   "source": [
    "series3.index[0]"
   ]
  },
  {
   "cell_type": "code",
   "execution_count": 29,
   "id": "f33bbbd6",
   "metadata": {},
   "outputs": [
    {
     "data": {
      "text/plain": [
       "0"
      ]
     },
     "execution_count": 29,
     "metadata": {},
     "output_type": "execute_result"
    }
   ],
   "source": [
    "series3.values[0]"
   ]
  },
  {
   "cell_type": "code",
   "execution_count": 30,
   "id": "ce9b66be",
   "metadata": {},
   "outputs": [
    {
     "name": "stdout",
     "output_type": "stream",
     "text": [
      "True\n"
     ]
    }
   ],
   "source": [
    "print(series3.values[0] == series3[0])"
   ]
  },
  {
   "cell_type": "code",
   "execution_count": 31,
   "id": "e802bb36",
   "metadata": {},
   "outputs": [
    {
     "data": {
      "text/plain": [
       "0"
      ]
     },
     "execution_count": 31,
     "metadata": {},
     "output_type": "execute_result"
    }
   ],
   "source": [
    "series3['A']"
   ]
  },
  {
   "cell_type": "markdown",
   "id": "68952fff",
   "metadata": {},
   "source": [
    "#### 시리즈의 통계 메소드"
   ]
  },
  {
   "cell_type": "code",
   "execution_count": 34,
   "id": "00a3f0ec",
   "metadata": {},
   "outputs": [
    {
     "data": {
      "text/plain": [
       "count    100.000000\n",
       "mean      49.500000\n",
       "std       29.011492\n",
       "min        0.000000\n",
       "25%       24.750000\n",
       "50%       49.500000\n",
       "75%       74.250000\n",
       "max       99.000000\n",
       "dtype: float64"
      ]
     },
     "execution_count": 34,
     "metadata": {},
     "output_type": "execute_result"
    }
   ],
   "source": [
    "sr_1 = pd.Series(range(100)) # 시리즈 생성\n",
    "\n",
    "# describe()\n",
    "# 시리즈객체의 요약 통계량에 대한 정보\n",
    "# 총 객체수, 평균, 표준편차, 최솟값, 제1사분위수, 중앙값, 제3사분위수, 최댓값, 데이터타입\n",
    "sr_1.describe()"
   ]
  },
  {
   "cell_type": "code",
   "execution_count": 35,
   "id": "9e77aa39",
   "metadata": {},
   "outputs": [
    {
     "name": "stdout",
     "output_type": "stream",
     "text": [
      "100.0\n",
      "99.0\n"
     ]
    }
   ],
   "source": [
    "# describe에서 각 통계량 가져오기\n",
    "print(sr_1.describe()['count'])\n",
    "print(sr_1.describe()['max'])"
   ]
  },
  {
   "cell_type": "code",
   "execution_count": 42,
   "id": "f93bd7fd",
   "metadata": {},
   "outputs": [
    {
     "data": {
      "text/plain": [
       "100"
      ]
     },
     "execution_count": 42,
     "metadata": {},
     "output_type": "execute_result"
    }
   ],
   "source": [
    "# .count()\n",
    "# 시리즈객체의 총 객체수\n",
    "sr_1.count()"
   ]
  },
  {
   "cell_type": "code",
   "execution_count": 44,
   "id": "31955e41",
   "metadata": {},
   "outputs": [
    {
     "data": {
      "text/plain": [
       "0    0\n",
       "1    1\n",
       "2    2\n",
       "3    3\n",
       "4    4\n",
       "dtype: int64"
      ]
     },
     "execution_count": 44,
     "metadata": {},
     "output_type": "execute_result"
    }
   ],
   "source": [
    "sr_1[:5]"
   ]
  },
  {
   "cell_type": "code",
   "execution_count": 49,
   "id": "63c8b5aa",
   "metadata": {},
   "outputs": [
    {
     "data": {
      "text/plain": [
       "9"
      ]
     },
     "execution_count": 49,
     "metadata": {},
     "output_type": "execute_result"
    }
   ],
   "source": [
    "# 특정값 개수 세기\n",
    "sr_2 = pd.Series({1:'a', 2:'a', 3:'b', 4:'c', 5:'z', 6:'s', 7:'s', 8:'c', 9:'c'})\n",
    "sr_2.count()"
   ]
  },
  {
   "cell_type": "code",
   "execution_count": 51,
   "id": "2859eee9",
   "metadata": {},
   "outputs": [
    {
     "data": {
      "text/plain": [
       "2"
      ]
     },
     "execution_count": 51,
     "metadata": {},
     "output_type": "execute_result"
    }
   ],
   "source": [
    "sr_2.value_counts()['a']"
   ]
  },
  {
   "cell_type": "code",
   "execution_count": 52,
   "id": "5f78b364",
   "metadata": {},
   "outputs": [
    {
     "data": {
      "text/plain": [
       "0"
      ]
     },
     "execution_count": 52,
     "metadata": {},
     "output_type": "execute_result"
    }
   ],
   "source": [
    "sr_2.value_counts().get('x', 0)          # .get(a, default): a의 개수를 가져옴. 없을 경우 0 리턴"
   ]
  },
  {
   "cell_type": "code",
   "execution_count": 55,
   "id": "2d7c9e2a",
   "metadata": {},
   "outputs": [
    {
     "data": {
      "text/plain": [
       "0.3333333333333333"
      ]
     },
     "execution_count": 55,
     "metadata": {},
     "output_type": "execute_result"
    }
   ],
   "source": [
    "sr_2.value_counts().get('c', 0)/len(sr_2)      "
   ]
  },
  {
   "cell_type": "code",
   "execution_count": 56,
   "id": "ef085636",
   "metadata": {},
   "outputs": [
    {
     "data": {
      "text/plain": [
       "49.5"
      ]
     },
     "execution_count": 56,
     "metadata": {},
     "output_type": "execute_result"
    }
   ],
   "source": [
    "# .mean()\n",
    "# 시리즈객체의 평균\n",
    "sr_1.mean()        # sum(sr_1)/len(sr_1)"
   ]
  },
  {
   "cell_type": "code",
   "execution_count": 63,
   "id": "4a4e2a7e",
   "metadata": {},
   "outputs": [
    {
     "name": "stdout",
     "output_type": "stream",
     "text": [
      "841.6666666666666\n",
      "29.011491975882016\n",
      "0\n",
      "99\n",
      "49.5\n"
     ]
    }
   ],
   "source": [
    "# .var()\n",
    "# 시리즈객체의 분산\n",
    "print(sr_1.var())\n",
    "\n",
    "# .std()\n",
    "# 시리즈객체의 표준편차 = 분산의 제곱근(√분산)\n",
    "print(sr_1.std())\n",
    "\n",
    "# .min()\n",
    "# 시리즈객체의 최솟값\n",
    "print(sr_1.min())\n",
    "\n",
    "# .max()\n",
    "# 시리즈객체의 최댓값\n",
    "print(sr_1.max())\n",
    "\n",
    "# .median()\n",
    "# 시리즈객체의 중앙값\n",
    "print(sr_1.median())"
   ]
  },
  {
   "cell_type": "code",
   "execution_count": 66,
   "id": "48d9ca99",
   "metadata": {},
   "outputs": [
    {
     "data": {
      "text/plain": [
       "49.5"
      ]
     },
     "execution_count": 66,
     "metadata": {},
     "output_type": "execute_result"
    }
   ],
   "source": [
    "# .quantile()\n",
    "# 시리즈객체의 q*100% 백분위수\n",
    "\n",
    "sr_1.quantile()        # 디폴트 = 중앙값(q2)"
   ]
  },
  {
   "cell_type": "code",
   "execution_count": 67,
   "id": "a3968375",
   "metadata": {},
   "outputs": [
    {
     "data": {
      "text/plain": [
       "49.5"
      ]
     },
     "execution_count": 67,
     "metadata": {},
     "output_type": "execute_result"
    }
   ],
   "source": [
    "sr_1.median()"
   ]
  },
  {
   "cell_type": "code",
   "execution_count": 70,
   "id": "94d593df",
   "metadata": {},
   "outputs": [
    {
     "name": "stdout",
     "output_type": "stream",
     "text": [
      "24.75\n",
      "74.25\n",
      "49.5\n",
      "-49.5\n",
      "148.5\n"
     ]
    }
   ],
   "source": [
    "print(sr_1.quantile(q=0.25))       # q1\n",
    "print(sr_1.quantile(q=0.75))       # q3\n",
    "\n",
    "IQR = sr_1.quantile(q=0.75)-sr_1.quantile(q=0.25)\n",
    "print(IQR)   \n",
    "      \n",
    "# 이상치\n",
    "# Q1-1.5*IQR < x or x > Q3+1.5*IQR\n",
    "print(sr_1.quantile(q=0.25)-1.5*IQR)\n",
    "print(sr_1.quantile(q=0.75)+1.5*IQR)"
   ]
  },
  {
   "cell_type": "code",
   "execution_count": 80,
   "id": "77e1a68c",
   "metadata": {},
   "outputs": [
    {
     "name": "stdout",
     "output_type": "stream",
     "text": [
      "count     7\n",
      "unique    4\n",
      "top       b\n",
      "freq      3\n",
      "dtype: object\n",
      "\n",
      "['a' 'b' 'c' 'd']\n",
      "{'c', 'd', 'b', 'a'}\n",
      "0    b\n",
      "dtype: object\n",
      "3\n"
     ]
    }
   ],
   "source": [
    "sr_2 = pd.Series(['a','b','b','b','c','c','d']) # 시리즈 생성\n",
    "\n",
    "# describe()\n",
    "# 총 객체수, 유일값, 최빈값, 최빈값의 빈도\n",
    "print(sr_2.describe())\n",
    "print()\n",
    "\n",
    "# .unique()\n",
    "# 시리즈객체의 유일값을 1d-array로 반환\n",
    "print(sr_2.unique())\n",
    "print(set(sr_2))           # set은 순서를 보장하지 않음. 웬만하면 unique()를 쓰자\n",
    "\n",
    "# .mode()\n",
    "# 시리즈객체의 최빈값을 시리즈로 반환\n",
    "print(sr_2.mode())\n",
    "print(max(sr_2.value_counts()))"
   ]
  },
  {
   "cell_type": "code",
   "execution_count": null,
   "id": "3b3c2443",
   "metadata": {},
   "outputs": [],
   "source": []
  }
 ],
 "metadata": {
  "kernelspec": {
   "display_name": "Python 3 (ipykernel)",
   "language": "python",
   "name": "python3"
  },
  "language_info": {
   "codemirror_mode": {
    "name": "ipython",
    "version": 3
   },
   "file_extension": ".py",
   "mimetype": "text/x-python",
   "name": "python",
   "nbconvert_exporter": "python",
   "pygments_lexer": "ipython3",
   "version": "3.9.7"
  }
 },
 "nbformat": 4,
 "nbformat_minor": 5
}
