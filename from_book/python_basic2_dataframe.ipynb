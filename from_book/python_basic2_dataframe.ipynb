{
 "cells": [
  {
   "cell_type": "markdown",
   "id": "15110b80",
   "metadata": {},
   "source": [
    "## PART 02) 데이터 다루기"
   ]
  },
  {
   "cell_type": "markdown",
   "id": "d949018d",
   "metadata": {},
   "source": [
    "### 1절. Series와 DataFrame\n",
    "#### 1. Series(시리즈)"
   ]
  },
  {
   "cell_type": "code",
   "execution_count": 1,
   "id": "f80717aa",
   "metadata": {},
   "outputs": [],
   "source": [
    "import pandas as pd\n",
    "import numpy as np"
   ]
  },
  {
   "cell_type": "code",
   "execution_count": 2,
   "id": "18d6e3b7",
   "metadata": {},
   "outputs": [
    {
     "name": "stdout",
     "output_type": "stream",
     "text": [
      "0    a\n",
      "1    b\n",
      "2    c\n",
      "dtype: object\n"
     ]
    }
   ],
   "source": [
    "# series 생성\n",
    "\n",
    "series1 = pd.Series(['a', 'b', 'c'])\n",
    "print(series1)"
   ]
  },
  {
   "cell_type": "code",
   "execution_count": 7,
   "id": "02f4d842",
   "metadata": {},
   "outputs": [
    {
     "name": "stdout",
     "output_type": "stream",
     "text": [
      "0    0\n",
      "1    1\n",
      "2    2\n",
      "3    3\n",
      "4    4\n",
      "dtype: int64\n"
     ]
    }
   ],
   "source": [
    "series2 = pd.Series(range(5))\n",
    "print(series2)"
   ]
  },
  {
   "cell_type": "code",
   "execution_count": 9,
   "id": "2406b848",
   "metadata": {},
   "outputs": [
    {
     "name": "stdout",
     "output_type": "stream",
     "text": [
      "A    0\n",
      "B    1\n",
      "C    2\n",
      "D    3\n",
      "E    4\n",
      "dtype: int64\n"
     ]
    }
   ],
   "source": [
    "# 인덱스 지정\n",
    "idx = ['A', 'B', 'C', 'D', 'E']\n",
    "series3 = pd.Series(range(5), idx)\n",
    "print(series3)"
   ]
  },
  {
   "cell_type": "code",
   "execution_count": 12,
   "id": "d7fd1f53",
   "metadata": {},
   "outputs": [
    {
     "name": "stdout",
     "output_type": "stream",
     "text": [
      "1     이유리\n",
      "2     최민준\n",
      "3    None\n",
      "dtype: object\n"
     ]
    }
   ],
   "source": [
    "dict = {1: '이유리', 2:'최민준', 3:None}\n",
    "series4 = pd.Series(dict)\n",
    "print(series4)"
   ]
  },
  {
   "cell_type": "code",
   "execution_count": 13,
   "id": "f1efabd5",
   "metadata": {},
   "outputs": [
    {
     "data": {
      "text/plain": [
       "array(['이유리', '최민준', None], dtype=object)"
      ]
     },
     "execution_count": 13,
     "metadata": {},
     "output_type": "execute_result"
    }
   ],
   "source": [
    "series4.values"
   ]
  },
  {
   "cell_type": "code",
   "execution_count": 14,
   "id": "ac7268c3",
   "metadata": {},
   "outputs": [
    {
     "data": {
      "text/plain": [
       "Int64Index([1, 2, 3], dtype='int64')"
      ]
     },
     "execution_count": 14,
     "metadata": {},
     "output_type": "execute_result"
    }
   ],
   "source": [
    "series4.index"
   ]
  },
  {
   "cell_type": "code",
   "execution_count": 17,
   "id": "f01084ee",
   "metadata": {},
   "outputs": [
    {
     "data": {
      "text/plain": [
       "3"
      ]
     },
     "execution_count": 17,
     "metadata": {},
     "output_type": "execute_result"
    }
   ],
   "source": [
    "series4.size"
   ]
  },
  {
   "cell_type": "code",
   "execution_count": 20,
   "id": "e4592fe7",
   "metadata": {},
   "outputs": [
    {
     "data": {
      "text/plain": [
       "dtype('int64')"
      ]
     },
     "execution_count": 20,
     "metadata": {},
     "output_type": "execute_result"
    }
   ],
   "source": [
    "series2.dtypes"
   ]
  },
  {
   "cell_type": "code",
   "execution_count": 21,
   "id": "369e8dcb",
   "metadata": {},
   "outputs": [
    {
     "name": "stdout",
     "output_type": "stream",
     "text": [
      "1    a\n",
      "2    b\n",
      "3    c\n",
      "dtype: object\n"
     ]
    }
   ],
   "source": [
    "series1.index = [1, 2, 3]\n",
    "print(series1)"
   ]
  },
  {
   "cell_type": "code",
   "execution_count": 22,
   "id": "b370360c",
   "metadata": {},
   "outputs": [
    {
     "data": {
      "text/plain": [
       "A    0\n",
       "B    1\n",
       "C    2\n",
       "dtype: int64"
      ]
     },
     "execution_count": 22,
     "metadata": {},
     "output_type": "execute_result"
    }
   ],
   "source": [
    "# 인덱싱/슬라이싱\n",
    "series3[:3]"
   ]
  },
  {
   "cell_type": "code",
   "execution_count": 25,
   "id": "0a534d4d",
   "metadata": {},
   "outputs": [
    {
     "data": {
      "text/plain": [
       "0"
      ]
     },
     "execution_count": 25,
     "metadata": {},
     "output_type": "execute_result"
    }
   ],
   "source": [
    "series3[0]"
   ]
  },
  {
   "cell_type": "code",
   "execution_count": 26,
   "id": "8ec3d749",
   "metadata": {},
   "outputs": [
    {
     "data": {
      "text/plain": [
       "2"
      ]
     },
     "execution_count": 26,
     "metadata": {},
     "output_type": "execute_result"
    }
   ],
   "source": [
    "series3[2]"
   ]
  },
  {
   "cell_type": "code",
   "execution_count": 27,
   "id": "1d976c28",
   "metadata": {},
   "outputs": [
    {
     "data": {
      "text/plain": [
       "A    0\n",
       "B    1\n",
       "C    2\n",
       "D    3\n",
       "E    4\n",
       "dtype: int64"
      ]
     },
     "execution_count": 27,
     "metadata": {},
     "output_type": "execute_result"
    }
   ],
   "source": [
    "series3"
   ]
  },
  {
   "cell_type": "code",
   "execution_count": 28,
   "id": "5507ac33",
   "metadata": {},
   "outputs": [
    {
     "data": {
      "text/plain": [
       "'A'"
      ]
     },
     "execution_count": 28,
     "metadata": {},
     "output_type": "execute_result"
    }
   ],
   "source": [
    "series3.index[0]"
   ]
  },
  {
   "cell_type": "code",
   "execution_count": 29,
   "id": "a277ca79",
   "metadata": {},
   "outputs": [
    {
     "data": {
      "text/plain": [
       "0"
      ]
     },
     "execution_count": 29,
     "metadata": {},
     "output_type": "execute_result"
    }
   ],
   "source": [
    "series3.values[0]"
   ]
  },
  {
   "cell_type": "code",
   "execution_count": 30,
   "id": "9d2bbcd7",
   "metadata": {},
   "outputs": [
    {
     "name": "stdout",
     "output_type": "stream",
     "text": [
      "True\n"
     ]
    }
   ],
   "source": [
    "print(series3.values[0] == series3[0])"
   ]
  },
  {
   "cell_type": "code",
   "execution_count": 31,
   "id": "ad9399ee",
   "metadata": {},
   "outputs": [
    {
     "data": {
      "text/plain": [
       "0"
      ]
     },
     "execution_count": 31,
     "metadata": {},
     "output_type": "execute_result"
    }
   ],
   "source": [
    "series3['A']"
   ]
  },
  {
   "cell_type": "markdown",
   "id": "78f0fc96",
   "metadata": {},
   "source": [
    "#### 시리즈의 통계 메소드"
   ]
  },
  {
   "cell_type": "code",
   "execution_count": 34,
   "id": "b85c7f14",
   "metadata": {},
   "outputs": [
    {
     "data": {
      "text/plain": [
       "count    100.000000\n",
       "mean      49.500000\n",
       "std       29.011492\n",
       "min        0.000000\n",
       "25%       24.750000\n",
       "50%       49.500000\n",
       "75%       74.250000\n",
       "max       99.000000\n",
       "dtype: float64"
      ]
     },
     "execution_count": 34,
     "metadata": {},
     "output_type": "execute_result"
    }
   ],
   "source": [
    "sr_1 = pd.Series(range(100)) # 시리즈 생성\n",
    "\n",
    "# describe()\n",
    "# 시리즈객체의 요약 통계량에 대한 정보\n",
    "# 총 객체수, 평균, 표준편차, 최솟값, 제1사분위수, 중앙값, 제3사분위수, 최댓값, 데이터타입\n",
    "sr_1.describe()"
   ]
  },
  {
   "cell_type": "code",
   "execution_count": 35,
   "id": "a994a955",
   "metadata": {},
   "outputs": [
    {
     "name": "stdout",
     "output_type": "stream",
     "text": [
      "100.0\n",
      "99.0\n"
     ]
    }
   ],
   "source": [
    "# describe에서 각 통계량 가져오기\n",
    "print(sr_1.describe()['count'])\n",
    "print(sr_1.describe()['max'])"
   ]
  },
  {
   "cell_type": "code",
   "execution_count": 42,
   "id": "2d2314c7",
   "metadata": {},
   "outputs": [
    {
     "data": {
      "text/plain": [
       "100"
      ]
     },
     "execution_count": 42,
     "metadata": {},
     "output_type": "execute_result"
    }
   ],
   "source": [
    "# .count()\n",
    "# 시리즈객체의 총 객체수\n",
    "sr_1.count()"
   ]
  },
  {
   "cell_type": "code",
   "execution_count": 44,
   "id": "401b1a7b",
   "metadata": {},
   "outputs": [
    {
     "data": {
      "text/plain": [
       "0    0\n",
       "1    1\n",
       "2    2\n",
       "3    3\n",
       "4    4\n",
       "dtype: int64"
      ]
     },
     "execution_count": 44,
     "metadata": {},
     "output_type": "execute_result"
    }
   ],
   "source": [
    "sr_1[:5]"
   ]
  },
  {
   "cell_type": "code",
   "execution_count": 49,
   "id": "7b2c6d3f",
   "metadata": {},
   "outputs": [
    {
     "data": {
      "text/plain": [
       "9"
      ]
     },
     "execution_count": 49,
     "metadata": {},
     "output_type": "execute_result"
    }
   ],
   "source": [
    "# 특정값 개수 세기\n",
    "sr_2 = pd.Series({1:'a', 2:'a', 3:'b', 4:'c', 5:'z', 6:'s', 7:'s', 8:'c', 9:'c'})\n",
    "sr_2.count()"
   ]
  },
  {
   "cell_type": "code",
   "execution_count": 51,
   "id": "313cb74a",
   "metadata": {},
   "outputs": [
    {
     "data": {
      "text/plain": [
       "2"
      ]
     },
     "execution_count": 51,
     "metadata": {},
     "output_type": "execute_result"
    }
   ],
   "source": [
    "sr_2.value_counts()['a']"
   ]
  },
  {
   "cell_type": "code",
   "execution_count": 52,
   "id": "e585716e",
   "metadata": {},
   "outputs": [
    {
     "data": {
      "text/plain": [
       "0"
      ]
     },
     "execution_count": 52,
     "metadata": {},
     "output_type": "execute_result"
    }
   ],
   "source": [
    "sr_2.value_counts().get('x', 0)          # .get(a, default): a의 개수를 가져옴. 없을 경우 0 리턴"
   ]
  },
  {
   "cell_type": "code",
   "execution_count": 55,
   "id": "e9264a03",
   "metadata": {},
   "outputs": [
    {
     "data": {
      "text/plain": [
       "0.3333333333333333"
      ]
     },
     "execution_count": 55,
     "metadata": {},
     "output_type": "execute_result"
    }
   ],
   "source": [
    "sr_2.value_counts().get('c', 0)/len(sr_2)      "
   ]
  },
  {
   "cell_type": "code",
   "execution_count": 56,
   "id": "e69b1bac",
   "metadata": {},
   "outputs": [
    {
     "data": {
      "text/plain": [
       "49.5"
      ]
     },
     "execution_count": 56,
     "metadata": {},
     "output_type": "execute_result"
    }
   ],
   "source": [
    "# .mean()\n",
    "# 시리즈객체의 평균\n",
    "sr_1.mean()        # sum(sr_1)/len(sr_1)"
   ]
  },
  {
   "cell_type": "code",
   "execution_count": 63,
   "id": "0cb87696",
   "metadata": {},
   "outputs": [
    {
     "name": "stdout",
     "output_type": "stream",
     "text": [
      "841.6666666666666\n",
      "29.011491975882016\n",
      "0\n",
      "99\n",
      "49.5\n"
     ]
    }
   ],
   "source": [
    "# .var()\n",
    "# 시리즈객체의 분산\n",
    "print(sr_1.var())\n",
    "\n",
    "# .std()\n",
    "# 시리즈객체의 표준편차 = 분산의 제곱근(√분산)\n",
    "print(sr_1.std())\n",
    "\n",
    "# .min()\n",
    "# 시리즈객체의 최솟값\n",
    "print(sr_1.min())\n",
    "\n",
    "# .max()\n",
    "# 시리즈객체의 최댓값\n",
    "print(sr_1.max())\n",
    "\n",
    "# .median()\n",
    "# 시리즈객체의 중앙값\n",
    "print(sr_1.median())"
   ]
  },
  {
   "cell_type": "code",
   "execution_count": 66,
   "id": "8ef9a118",
   "metadata": {},
   "outputs": [
    {
     "data": {
      "text/plain": [
       "49.5"
      ]
     },
     "execution_count": 66,
     "metadata": {},
     "output_type": "execute_result"
    }
   ],
   "source": [
    "# .quantile()\n",
    "# 시리즈객체의 q*100% 백분위수\n",
    "\n",
    "sr_1.quantile()        # 디폴트 = 중앙값(q2)"
   ]
  },
  {
   "cell_type": "code",
   "execution_count": 67,
   "id": "29a70bf7",
   "metadata": {},
   "outputs": [
    {
     "data": {
      "text/plain": [
       "49.5"
      ]
     },
     "execution_count": 67,
     "metadata": {},
     "output_type": "execute_result"
    }
   ],
   "source": [
    "sr_1.median()"
   ]
  },
  {
   "cell_type": "code",
   "execution_count": 70,
   "id": "bdfe5ad9",
   "metadata": {},
   "outputs": [
    {
     "name": "stdout",
     "output_type": "stream",
     "text": [
      "24.75\n",
      "74.25\n",
      "49.5\n",
      "-49.5\n",
      "148.5\n"
     ]
    }
   ],
   "source": [
    "print(sr_1.quantile(q=0.25))       # q1\n",
    "print(sr_1.quantile(q=0.75))       # q3\n",
    "\n",
    "IQR = sr_1.quantile(q=0.75)-sr_1.quantile(q=0.25)\n",
    "print(IQR)   \n",
    "      \n",
    "# 이상치\n",
    "# Q1-1.5*IQR < x or x > Q3+1.5*IQR\n",
    "print(sr_1.quantile(q=0.25)-1.5*IQR)\n",
    "print(sr_1.quantile(q=0.75)+1.5*IQR)"
   ]
  },
  {
   "cell_type": "code",
   "execution_count": 80,
   "id": "3069b908",
   "metadata": {},
   "outputs": [
    {
     "name": "stdout",
     "output_type": "stream",
     "text": [
      "count     7\n",
      "unique    4\n",
      "top       b\n",
      "freq      3\n",
      "dtype: object\n",
      "\n",
      "['a' 'b' 'c' 'd']\n",
      "{'c', 'd', 'b', 'a'}\n",
      "0    b\n",
      "dtype: object\n",
      "3\n"
     ]
    }
   ],
   "source": [
    "sr_2 = pd.Series(['a','b','b','b','c','c','d']) # 시리즈 생성\n",
    "\n",
    "# describe()\n",
    "# 총 객체수, 유일값, 최빈값, 최빈값의 빈도\n",
    "print(sr_2.describe())\n",
    "print()\n",
    "\n",
    "# .unique()\n",
    "# 시리즈객체의 유일값을 1d-array로 반환\n",
    "print(sr_2.unique())\n",
    "print(set(sr_2))           # set은 순서를 보장하지 않음. 웬만하면 unique()를 쓰자\n",
    "\n",
    "# .mode()\n",
    "# 시리즈객체의 최빈값을 시리즈로 반환\n",
    "print(sr_2.mode())\n",
    "print(max(sr_2.value_counts()))"
   ]
  },
  {
   "cell_type": "markdown",
   "id": "9ee325ee",
   "metadata": {},
   "source": [
    "#### 2. DataFrame(데이터프레임)"
   ]
  },
  {
   "cell_type": "code",
   "execution_count": 88,
   "id": "3b42a9d8",
   "metadata": {},
   "outputs": [
    {
     "data": {
      "text/html": [
       "<div>\n",
       "<style scoped>\n",
       "    .dataframe tbody tr th:only-of-type {\n",
       "        vertical-align: middle;\n",
       "    }\n",
       "\n",
       "    .dataframe tbody tr th {\n",
       "        vertical-align: top;\n",
       "    }\n",
       "\n",
       "    .dataframe thead th {\n",
       "        text-align: right;\n",
       "    }\n",
       "</style>\n",
       "<table border=\"1\" class=\"dataframe\">\n",
       "  <thead>\n",
       "    <tr style=\"text-align: right;\">\n",
       "      <th></th>\n",
       "      <th>0</th>\n",
       "      <th>1</th>\n",
       "      <th>2</th>\n",
       "    </tr>\n",
       "  </thead>\n",
       "  <tbody>\n",
       "    <tr>\n",
       "      <th>0</th>\n",
       "      <td>class 1</td>\n",
       "      <td>30</td>\n",
       "      <td>a 교수</td>\n",
       "    </tr>\n",
       "    <tr>\n",
       "      <th>1</th>\n",
       "      <td>class 2</td>\n",
       "      <td>50</td>\n",
       "      <td>b 교수</td>\n",
       "    </tr>\n",
       "    <tr>\n",
       "      <th>2</th>\n",
       "      <td>class 3</td>\n",
       "      <td>25</td>\n",
       "      <td>c 교수</td>\n",
       "    </tr>\n",
       "    <tr>\n",
       "      <th>3</th>\n",
       "      <td>class 4</td>\n",
       "      <td>20</td>\n",
       "      <td>a 교수</td>\n",
       "    </tr>\n",
       "  </tbody>\n",
       "</table>\n",
       "</div>"
      ],
      "text/plain": [
       "         0   1     2\n",
       "0  class 1  30  a 교수\n",
       "1  class 2  50  b 교수\n",
       "2  class 3  25  c 교수\n",
       "3  class 4  20  a 교수"
      ]
     },
     "execution_count": 88,
     "metadata": {},
     "output_type": "execute_result"
    }
   ],
   "source": [
    "obj = np.array([['class 1', 30, 'a 교수'],\n",
    "               ['class 2', 50, 'b 교수'],\n",
    "               ['class 3', 25, 'c 교수'],\n",
    "               ['class 4', 20, 'a 교수']])\n",
    "               \n",
    "df = pd.DataFrame(obj)\n",
    "df"
   ]
  },
  {
   "cell_type": "code",
   "execution_count": 90,
   "id": "562034b1",
   "metadata": {},
   "outputs": [
    {
     "data": {
      "text/html": [
       "<div>\n",
       "<style scoped>\n",
       "    .dataframe tbody tr th:only-of-type {\n",
       "        vertical-align: middle;\n",
       "    }\n",
       "\n",
       "    .dataframe tbody tr th {\n",
       "        vertical-align: top;\n",
       "    }\n",
       "\n",
       "    .dataframe thead th {\n",
       "        text-align: right;\n",
       "    }\n",
       "</style>\n",
       "<table border=\"1\" class=\"dataframe\">\n",
       "  <thead>\n",
       "    <tr style=\"text-align: right;\">\n",
       "      <th></th>\n",
       "      <th>수업</th>\n",
       "      <th>정원</th>\n",
       "      <th>교수</th>\n",
       "    </tr>\n",
       "  </thead>\n",
       "  <tbody>\n",
       "    <tr>\n",
       "      <th>1</th>\n",
       "      <td>class 1</td>\n",
       "      <td>30</td>\n",
       "      <td>a 교수</td>\n",
       "    </tr>\n",
       "    <tr>\n",
       "      <th>2</th>\n",
       "      <td>class 2</td>\n",
       "      <td>50</td>\n",
       "      <td>b 교수</td>\n",
       "    </tr>\n",
       "    <tr>\n",
       "      <th>3</th>\n",
       "      <td>class 3</td>\n",
       "      <td>25</td>\n",
       "      <td>c 교수</td>\n",
       "    </tr>\n",
       "    <tr>\n",
       "      <th>4</th>\n",
       "      <td>class 4</td>\n",
       "      <td>20</td>\n",
       "      <td>a 교수</td>\n",
       "    </tr>\n",
       "  </tbody>\n",
       "</table>\n",
       "</div>"
      ],
      "text/plain": [
       "        수업  정원    교수\n",
       "1  class 1  30  a 교수\n",
       "2  class 2  50  b 교수\n",
       "3  class 3  25  c 교수\n",
       "4  class 4  20  a 교수"
      ]
     },
     "execution_count": 90,
     "metadata": {},
     "output_type": "execute_result"
    }
   ],
   "source": [
    "df = pd.DataFrame(obj, columns=['수업', '정원', '교수'], index = range(1, 5))\n",
    "df"
   ]
  },
  {
   "cell_type": "code",
   "execution_count": 92,
   "id": "20c5d103",
   "metadata": {},
   "outputs": [
    {
     "name": "stdout",
     "output_type": "stream",
     "text": [
      "RangeIndex(start=1, stop=5, step=1)\n",
      "[['class 1' '30' 'a 교수']\n",
      " ['class 2' '50' 'b 교수']\n",
      " ['class 3' '25' 'c 교수']\n",
      " ['class 4' '20' 'a 교수']]\n",
      "12\n",
      "수업    object\n",
      "정원    object\n",
      "교수    object\n",
      "dtype: object\n",
      "(4, 3)\n"
     ]
    }
   ],
   "source": [
    "print(df.index)\n",
    "print(df.values)\n",
    "print(df.size)\n",
    "print(df.dtypes)\n",
    "print(df.shape)"
   ]
  },
  {
   "cell_type": "code",
   "execution_count": 93,
   "id": "826e6823",
   "metadata": {},
   "outputs": [
    {
     "name": "stdout",
     "output_type": "stream",
     "text": [
      "<class 'pandas.core.frame.DataFrame'>\n",
      "RangeIndex: 4 entries, 1 to 4\n",
      "Data columns (total 3 columns):\n",
      " #   Column  Non-Null Count  Dtype \n",
      "---  ------  --------------  ----- \n",
      " 0   수업      4 non-null      object\n",
      " 1   정원      4 non-null      object\n",
      " 2   교수      4 non-null      object\n",
      "dtypes: object(3)\n",
      "memory usage: 228.0+ bytes\n"
     ]
    }
   ],
   "source": [
    "df.info()"
   ]
  },
  {
   "cell_type": "code",
   "execution_count": 95,
   "id": "7034d724",
   "metadata": {},
   "outputs": [
    {
     "data": {
      "text/html": [
       "<div>\n",
       "<style scoped>\n",
       "    .dataframe tbody tr th:only-of-type {\n",
       "        vertical-align: middle;\n",
       "    }\n",
       "\n",
       "    .dataframe tbody tr th {\n",
       "        vertical-align: top;\n",
       "    }\n",
       "\n",
       "    .dataframe thead th {\n",
       "        text-align: right;\n",
       "    }\n",
       "</style>\n",
       "<table border=\"1\" class=\"dataframe\">\n",
       "  <thead>\n",
       "    <tr style=\"text-align: right;\">\n",
       "      <th></th>\n",
       "      <th>수업</th>\n",
       "      <th>정원</th>\n",
       "      <th>교수</th>\n",
       "    </tr>\n",
       "  </thead>\n",
       "  <tbody>\n",
       "    <tr>\n",
       "      <th>1</th>\n",
       "      <td>class 1</td>\n",
       "      <td>30</td>\n",
       "      <td>a 교수</td>\n",
       "    </tr>\n",
       "    <tr>\n",
       "      <th>2</th>\n",
       "      <td>class 2</td>\n",
       "      <td>50</td>\n",
       "      <td>b 교수</td>\n",
       "    </tr>\n",
       "  </tbody>\n",
       "</table>\n",
       "</div>"
      ],
      "text/plain": [
       "        수업  정원    교수\n",
       "1  class 1  30  a 교수\n",
       "2  class 2  50  b 교수"
      ]
     },
     "execution_count": 95,
     "metadata": {},
     "output_type": "execute_result"
    }
   ],
   "source": [
    "df.head(2)"
   ]
  },
  {
   "cell_type": "code",
   "execution_count": 97,
   "id": "bc32eb04",
   "metadata": {},
   "outputs": [
    {
     "data": {
      "text/html": [
       "<div>\n",
       "<style scoped>\n",
       "    .dataframe tbody tr th:only-of-type {\n",
       "        vertical-align: middle;\n",
       "    }\n",
       "\n",
       "    .dataframe tbody tr th {\n",
       "        vertical-align: top;\n",
       "    }\n",
       "\n",
       "    .dataframe thead th {\n",
       "        text-align: right;\n",
       "    }\n",
       "</style>\n",
       "<table border=\"1\" class=\"dataframe\">\n",
       "  <thead>\n",
       "    <tr style=\"text-align: right;\">\n",
       "      <th></th>\n",
       "      <th>수업</th>\n",
       "      <th>정원</th>\n",
       "      <th>교수</th>\n",
       "    </tr>\n",
       "  </thead>\n",
       "  <tbody>\n",
       "    <tr>\n",
       "      <th>1</th>\n",
       "      <td>class 1</td>\n",
       "      <td>30</td>\n",
       "      <td>a 교수</td>\n",
       "    </tr>\n",
       "    <tr>\n",
       "      <th>2</th>\n",
       "      <td>class 2</td>\n",
       "      <td>50</td>\n",
       "      <td>b 교수</td>\n",
       "    </tr>\n",
       "  </tbody>\n",
       "</table>\n",
       "</div>"
      ],
      "text/plain": [
       "        수업  정원    교수\n",
       "1  class 1  30  a 교수\n",
       "2  class 2  50  b 교수"
      ]
     },
     "execution_count": 97,
     "metadata": {},
     "output_type": "execute_result"
    }
   ],
   "source": [
    "df.head(-2)      # 뒤에서 2개 제외한 행 출력"
   ]
  },
  {
   "cell_type": "code",
   "execution_count": 98,
   "id": "3d626917",
   "metadata": {},
   "outputs": [
    {
     "data": {
      "text/html": [
       "<div>\n",
       "<style scoped>\n",
       "    .dataframe tbody tr th:only-of-type {\n",
       "        vertical-align: middle;\n",
       "    }\n",
       "\n",
       "    .dataframe tbody tr th {\n",
       "        vertical-align: top;\n",
       "    }\n",
       "\n",
       "    .dataframe thead th {\n",
       "        text-align: right;\n",
       "    }\n",
       "</style>\n",
       "<table border=\"1\" class=\"dataframe\">\n",
       "  <thead>\n",
       "    <tr style=\"text-align: right;\">\n",
       "      <th></th>\n",
       "      <th>수업</th>\n",
       "      <th>정원</th>\n",
       "      <th>교수</th>\n",
       "    </tr>\n",
       "  </thead>\n",
       "  <tbody>\n",
       "    <tr>\n",
       "      <th>1</th>\n",
       "      <td>class 1</td>\n",
       "      <td>30</td>\n",
       "      <td>a 교수</td>\n",
       "    </tr>\n",
       "    <tr>\n",
       "      <th>2</th>\n",
       "      <td>class 2</td>\n",
       "      <td>50</td>\n",
       "      <td>b 교수</td>\n",
       "    </tr>\n",
       "    <tr>\n",
       "      <th>3</th>\n",
       "      <td>class 3</td>\n",
       "      <td>25</td>\n",
       "      <td>c 교수</td>\n",
       "    </tr>\n",
       "  </tbody>\n",
       "</table>\n",
       "</div>"
      ],
      "text/plain": [
       "        수업  정원    교수\n",
       "1  class 1  30  a 교수\n",
       "2  class 2  50  b 교수\n",
       "3  class 3  25  c 교수"
      ]
     },
     "execution_count": 98,
     "metadata": {},
     "output_type": "execute_result"
    }
   ],
   "source": [
    "df.head(-1)"
   ]
  },
  {
   "cell_type": "code",
   "execution_count": 101,
   "id": "71e6e103",
   "metadata": {},
   "outputs": [
    {
     "data": {
      "text/html": [
       "<div>\n",
       "<style scoped>\n",
       "    .dataframe tbody tr th:only-of-type {\n",
       "        vertical-align: middle;\n",
       "    }\n",
       "\n",
       "    .dataframe tbody tr th {\n",
       "        vertical-align: top;\n",
       "    }\n",
       "\n",
       "    .dataframe thead th {\n",
       "        text-align: right;\n",
       "    }\n",
       "</style>\n",
       "<table border=\"1\" class=\"dataframe\">\n",
       "  <thead>\n",
       "    <tr style=\"text-align: right;\">\n",
       "      <th></th>\n",
       "      <th>수업</th>\n",
       "      <th>정원</th>\n",
       "      <th>교수</th>\n",
       "    </tr>\n",
       "  </thead>\n",
       "  <tbody>\n",
       "    <tr>\n",
       "      <th>1</th>\n",
       "      <td>class 1</td>\n",
       "      <td>30</td>\n",
       "      <td>a 교수</td>\n",
       "    </tr>\n",
       "    <tr>\n",
       "      <th>2</th>\n",
       "      <td>class 2</td>\n",
       "      <td>50</td>\n",
       "      <td>b 교수</td>\n",
       "    </tr>\n",
       "    <tr>\n",
       "      <th>3</th>\n",
       "      <td>class 3</td>\n",
       "      <td>25</td>\n",
       "      <td>c 교수</td>\n",
       "    </tr>\n",
       "    <tr>\n",
       "      <th>4</th>\n",
       "      <td>class 4</td>\n",
       "      <td>20</td>\n",
       "      <td>a 교수</td>\n",
       "    </tr>\n",
       "  </tbody>\n",
       "</table>\n",
       "</div>"
      ],
      "text/plain": [
       "        수업  정원    교수\n",
       "1  class 1  30  a 교수\n",
       "2  class 2  50  b 교수\n",
       "3  class 3  25  c 교수\n",
       "4  class 4  20  a 교수"
      ]
     },
     "execution_count": 101,
     "metadata": {},
     "output_type": "execute_result"
    }
   ],
   "source": [
    "df.tail()            # 하위 5개 출력"
   ]
  },
  {
   "cell_type": "code",
   "execution_count": 102,
   "id": "b0eb0b50",
   "metadata": {},
   "outputs": [
    {
     "data": {
      "text/html": [
       "<div>\n",
       "<style scoped>\n",
       "    .dataframe tbody tr th:only-of-type {\n",
       "        vertical-align: middle;\n",
       "    }\n",
       "\n",
       "    .dataframe tbody tr th {\n",
       "        vertical-align: top;\n",
       "    }\n",
       "\n",
       "    .dataframe thead th {\n",
       "        text-align: right;\n",
       "    }\n",
       "</style>\n",
       "<table border=\"1\" class=\"dataframe\">\n",
       "  <thead>\n",
       "    <tr style=\"text-align: right;\">\n",
       "      <th></th>\n",
       "      <th>수업</th>\n",
       "      <th>정원</th>\n",
       "      <th>교수</th>\n",
       "    </tr>\n",
       "  </thead>\n",
       "  <tbody>\n",
       "    <tr>\n",
       "      <th>4</th>\n",
       "      <td>class 4</td>\n",
       "      <td>20</td>\n",
       "      <td>a 교수</td>\n",
       "    </tr>\n",
       "  </tbody>\n",
       "</table>\n",
       "</div>"
      ],
      "text/plain": [
       "        수업  정원    교수\n",
       "4  class 4  20  a 교수"
      ]
     },
     "execution_count": 102,
     "metadata": {},
     "output_type": "execute_result"
    }
   ],
   "source": [
    "df.tail(1)"
   ]
  },
  {
   "cell_type": "code",
   "execution_count": 103,
   "id": "ebf1cead",
   "metadata": {},
   "outputs": [
    {
     "data": {
      "text/html": [
       "<div>\n",
       "<style scoped>\n",
       "    .dataframe tbody tr th:only-of-type {\n",
       "        vertical-align: middle;\n",
       "    }\n",
       "\n",
       "    .dataframe tbody tr th {\n",
       "        vertical-align: top;\n",
       "    }\n",
       "\n",
       "    .dataframe thead th {\n",
       "        text-align: right;\n",
       "    }\n",
       "</style>\n",
       "<table border=\"1\" class=\"dataframe\">\n",
       "  <thead>\n",
       "    <tr style=\"text-align: right;\">\n",
       "      <th></th>\n",
       "      <th>수업</th>\n",
       "      <th>정원</th>\n",
       "      <th>교수</th>\n",
       "    </tr>\n",
       "  </thead>\n",
       "  <tbody>\n",
       "    <tr>\n",
       "      <th>2</th>\n",
       "      <td>class 2</td>\n",
       "      <td>50</td>\n",
       "      <td>b 교수</td>\n",
       "    </tr>\n",
       "    <tr>\n",
       "      <th>3</th>\n",
       "      <td>class 3</td>\n",
       "      <td>25</td>\n",
       "      <td>c 교수</td>\n",
       "    </tr>\n",
       "    <tr>\n",
       "      <th>4</th>\n",
       "      <td>class 4</td>\n",
       "      <td>20</td>\n",
       "      <td>a 교수</td>\n",
       "    </tr>\n",
       "  </tbody>\n",
       "</table>\n",
       "</div>"
      ],
      "text/plain": [
       "        수업  정원    교수\n",
       "2  class 2  50  b 교수\n",
       "3  class 3  25  c 교수\n",
       "4  class 4  20  a 교수"
      ]
     },
     "execution_count": 103,
     "metadata": {},
     "output_type": "execute_result"
    }
   ],
   "source": [
    "df.tail(-1)             # 상위 1개를 제외한 행 출력"
   ]
  },
  {
   "cell_type": "code",
   "execution_count": 104,
   "id": "346716c6",
   "metadata": {},
   "outputs": [
    {
     "data": {
      "text/html": [
       "<div>\n",
       "<style scoped>\n",
       "    .dataframe tbody tr th:only-of-type {\n",
       "        vertical-align: middle;\n",
       "    }\n",
       "\n",
       "    .dataframe tbody tr th {\n",
       "        vertical-align: top;\n",
       "    }\n",
       "\n",
       "    .dataframe thead th {\n",
       "        text-align: right;\n",
       "    }\n",
       "</style>\n",
       "<table border=\"1\" class=\"dataframe\">\n",
       "  <thead>\n",
       "    <tr style=\"text-align: right;\">\n",
       "      <th></th>\n",
       "      <th>수업</th>\n",
       "      <th>정원</th>\n",
       "      <th>교수</th>\n",
       "    </tr>\n",
       "  </thead>\n",
       "  <tbody>\n",
       "    <tr>\n",
       "      <th>3</th>\n",
       "      <td>class 3</td>\n",
       "      <td>25</td>\n",
       "      <td>c 교수</td>\n",
       "    </tr>\n",
       "    <tr>\n",
       "      <th>4</th>\n",
       "      <td>class 4</td>\n",
       "      <td>20</td>\n",
       "      <td>a 교수</td>\n",
       "    </tr>\n",
       "  </tbody>\n",
       "</table>\n",
       "</div>"
      ],
      "text/plain": [
       "        수업  정원    교수\n",
       "3  class 3  25  c 교수\n",
       "4  class 4  20  a 교수"
      ]
     },
     "execution_count": 104,
     "metadata": {},
     "output_type": "execute_result"
    }
   ],
   "source": [
    "df.tail(-2)"
   ]
  },
  {
   "cell_type": "markdown",
   "id": "9bba3aaf",
   "metadata": {},
   "source": [
    "#### 데이터 정렬"
   ]
  },
  {
   "cell_type": "code",
   "execution_count": 129,
   "id": "2de6134e",
   "metadata": {},
   "outputs": [],
   "source": [
    "# 데이터프레임 생성\n",
    "obj = {'Name' : ['Olivia', 'Lucas', 'Sophia', 'Zoe', 'Ava', 'Elliot'],\n",
    "       'Sex' : ['Female', 'Male', 'Female', 'Female', 'Female', 'Male'],\n",
    "       'Age' : [22, 32, 27, 18, 38, 19],\n",
    "       'Score' : [100, 95, 60, 77, 83, 84]\n",
    "       }\n",
    "\n",
    "df = pd.DataFrame(obj) # 데이터 프레임 생성"
   ]
  },
  {
   "cell_type": "code",
   "execution_count": 108,
   "id": "c43bb713",
   "metadata": {},
   "outputs": [
    {
     "name": "stdout",
     "output_type": "stream",
     "text": [
      "<class 'pandas.core.frame.DataFrame'>\n",
      "RangeIndex: 6 entries, 0 to 5\n",
      "Data columns (total 4 columns):\n",
      " #   Column  Non-Null Count  Dtype \n",
      "---  ------  --------------  ----- \n",
      " 0   Name    6 non-null      object\n",
      " 1   Sex     6 non-null      object\n",
      " 2   Age     6 non-null      int64 \n",
      " 3   Score   6 non-null      int64 \n",
      "dtypes: int64(2), object(2)\n",
      "memory usage: 320.0+ bytes\n"
     ]
    }
   ],
   "source": [
    "df.info()"
   ]
  },
  {
   "cell_type": "code",
   "execution_count": 109,
   "id": "84e086f8",
   "metadata": {},
   "outputs": [
    {
     "data": {
      "text/html": [
       "<div>\n",
       "<style scoped>\n",
       "    .dataframe tbody tr th:only-of-type {\n",
       "        vertical-align: middle;\n",
       "    }\n",
       "\n",
       "    .dataframe tbody tr th {\n",
       "        vertical-align: top;\n",
       "    }\n",
       "\n",
       "    .dataframe thead th {\n",
       "        text-align: right;\n",
       "    }\n",
       "</style>\n",
       "<table border=\"1\" class=\"dataframe\">\n",
       "  <thead>\n",
       "    <tr style=\"text-align: right;\">\n",
       "      <th></th>\n",
       "      <th>Age</th>\n",
       "      <th>Score</th>\n",
       "    </tr>\n",
       "  </thead>\n",
       "  <tbody>\n",
       "    <tr>\n",
       "      <th>count</th>\n",
       "      <td>6.000000</td>\n",
       "      <td>6.000000</td>\n",
       "    </tr>\n",
       "    <tr>\n",
       "      <th>mean</th>\n",
       "      <td>26.000000</td>\n",
       "      <td>83.166667</td>\n",
       "    </tr>\n",
       "    <tr>\n",
       "      <th>std</th>\n",
       "      <td>7.874008</td>\n",
       "      <td>14.133884</td>\n",
       "    </tr>\n",
       "    <tr>\n",
       "      <th>min</th>\n",
       "      <td>18.000000</td>\n",
       "      <td>60.000000</td>\n",
       "    </tr>\n",
       "    <tr>\n",
       "      <th>25%</th>\n",
       "      <td>19.750000</td>\n",
       "      <td>78.500000</td>\n",
       "    </tr>\n",
       "    <tr>\n",
       "      <th>50%</th>\n",
       "      <td>24.500000</td>\n",
       "      <td>83.500000</td>\n",
       "    </tr>\n",
       "    <tr>\n",
       "      <th>75%</th>\n",
       "      <td>30.750000</td>\n",
       "      <td>92.250000</td>\n",
       "    </tr>\n",
       "    <tr>\n",
       "      <th>max</th>\n",
       "      <td>38.000000</td>\n",
       "      <td>100.000000</td>\n",
       "    </tr>\n",
       "  </tbody>\n",
       "</table>\n",
       "</div>"
      ],
      "text/plain": [
       "             Age       Score\n",
       "count   6.000000    6.000000\n",
       "mean   26.000000   83.166667\n",
       "std     7.874008   14.133884\n",
       "min    18.000000   60.000000\n",
       "25%    19.750000   78.500000\n",
       "50%    24.500000   83.500000\n",
       "75%    30.750000   92.250000\n",
       "max    38.000000  100.000000"
      ]
     },
     "execution_count": 109,
     "metadata": {},
     "output_type": "execute_result"
    }
   ],
   "source": [
    "df.describe()"
   ]
  },
  {
   "cell_type": "code",
   "execution_count": 121,
   "id": "ebbc9663",
   "metadata": {},
   "outputs": [
    {
     "name": "stdout",
     "output_type": "stream",
     "text": [
      "     Name     Sex  Age  Score\n",
      "4     Ava  Female   38     83\n",
      "5  Elliot    Male   19     84\n",
      "1   Lucas    Male   32     95\n",
      "0  Olivia  Female   22    100\n",
      "2  Sophia  Female   27     60\n",
      "3     Zoe  Female   18     77\n",
      "\n",
      "     Name     Sex  Age  Score\n",
      "0  Olivia  Female   22    100\n",
      "1   Lucas    Male   32     95\n",
      "5  Elliot    Male   19     84\n",
      "4     Ava  Female   38     83\n",
      "3     Zoe  Female   18     77\n",
      "2  Sophia  Female   27     60\n"
     ]
    }
   ],
   "source": [
    "# sort_values(): 값을 기준으로 정렬, 디폴트는 오름차순\n",
    "print(df.sort_values('Name'))\n",
    "print()\n",
    "print(df.sort_values('Score', ascending=False))"
   ]
  },
  {
   "cell_type": "code",
   "execution_count": 123,
   "id": "106b1b4f",
   "metadata": {},
   "outputs": [
    {
     "name": "stdout",
     "output_type": "stream",
     "text": [
      "     Name     Sex  Age  Score\n",
      "0  Olivia  Female   22    100\n",
      "1   Lucas    Male   32     95\n",
      "5  Elliot    Male   19     84\n",
      "4     Ava  Female   38     83\n",
      "3     Zoe  Female   18     77\n",
      "2  Sophia  Female   27     60\n"
     ]
    }
   ],
   "source": [
    "# 정렬 기준 컬럼 여러개 설정 가능\n",
    "print(df.sort_values(['Score', 'Name'], ascending=[False, True]))    # Score 기준 내림차순 정렬하고, 같은 Score는 Name을 기준으로 오름차순 정렬"
   ]
  },
  {
   "cell_type": "code",
   "execution_count": 130,
   "id": "631873ed",
   "metadata": {},
   "outputs": [
    {
     "name": "stderr",
     "output_type": "stream",
     "text": [
      "C:\\Users\\ing06\\AppData\\Local\\Temp\\ipykernel_14444\\2692298455.py:2: FutureWarning: The frame.append method is deprecated and will be removed from pandas in a future version. Use pandas.concat instead.\n",
      "  df = df.append({'Name':'Jack', 'Sex':'Male', 'Age':25, 'Score':77}, ignore_index = True)\n"
     ]
    }
   ],
   "source": [
    "# Zoe와 같은 성적인 학생 Jack 추가\n",
    "df = df.append({'Name':'Jack', 'Sex':'Male', 'Age':25, 'Score':77}, ignore_index = True)     "
   ]
  },
  {
   "cell_type": "code",
   "execution_count": 131,
   "id": "c99b3be9",
   "metadata": {},
   "outputs": [
    {
     "data": {
      "text/html": [
       "<div>\n",
       "<style scoped>\n",
       "    .dataframe tbody tr th:only-of-type {\n",
       "        vertical-align: middle;\n",
       "    }\n",
       "\n",
       "    .dataframe tbody tr th {\n",
       "        vertical-align: top;\n",
       "    }\n",
       "\n",
       "    .dataframe thead th {\n",
       "        text-align: right;\n",
       "    }\n",
       "</style>\n",
       "<table border=\"1\" class=\"dataframe\">\n",
       "  <thead>\n",
       "    <tr style=\"text-align: right;\">\n",
       "      <th></th>\n",
       "      <th>Name</th>\n",
       "      <th>Sex</th>\n",
       "      <th>Age</th>\n",
       "      <th>Score</th>\n",
       "    </tr>\n",
       "  </thead>\n",
       "  <tbody>\n",
       "    <tr>\n",
       "      <th>0</th>\n",
       "      <td>Olivia</td>\n",
       "      <td>Female</td>\n",
       "      <td>22</td>\n",
       "      <td>100</td>\n",
       "    </tr>\n",
       "    <tr>\n",
       "      <th>1</th>\n",
       "      <td>Lucas</td>\n",
       "      <td>Male</td>\n",
       "      <td>32</td>\n",
       "      <td>95</td>\n",
       "    </tr>\n",
       "    <tr>\n",
       "      <th>2</th>\n",
       "      <td>Sophia</td>\n",
       "      <td>Female</td>\n",
       "      <td>27</td>\n",
       "      <td>60</td>\n",
       "    </tr>\n",
       "    <tr>\n",
       "      <th>3</th>\n",
       "      <td>Zoe</td>\n",
       "      <td>Female</td>\n",
       "      <td>18</td>\n",
       "      <td>77</td>\n",
       "    </tr>\n",
       "    <tr>\n",
       "      <th>4</th>\n",
       "      <td>Ava</td>\n",
       "      <td>Female</td>\n",
       "      <td>38</td>\n",
       "      <td>83</td>\n",
       "    </tr>\n",
       "    <tr>\n",
       "      <th>5</th>\n",
       "      <td>Elliot</td>\n",
       "      <td>Male</td>\n",
       "      <td>19</td>\n",
       "      <td>84</td>\n",
       "    </tr>\n",
       "    <tr>\n",
       "      <th>6</th>\n",
       "      <td>Jack</td>\n",
       "      <td>Male</td>\n",
       "      <td>25</td>\n",
       "      <td>77</td>\n",
       "    </tr>\n",
       "  </tbody>\n",
       "</table>\n",
       "</div>"
      ],
      "text/plain": [
       "     Name     Sex  Age  Score\n",
       "0  Olivia  Female   22    100\n",
       "1   Lucas    Male   32     95\n",
       "2  Sophia  Female   27     60\n",
       "3     Zoe  Female   18     77\n",
       "4     Ava  Female   38     83\n",
       "5  Elliot    Male   19     84\n",
       "6    Jack    Male   25     77"
      ]
     },
     "execution_count": 131,
     "metadata": {},
     "output_type": "execute_result"
    }
   ],
   "source": [
    "df"
   ]
  },
  {
   "cell_type": "code",
   "execution_count": 132,
   "id": "baeb9505",
   "metadata": {},
   "outputs": [
    {
     "data": {
      "text/html": [
       "<div>\n",
       "<style scoped>\n",
       "    .dataframe tbody tr th:only-of-type {\n",
       "        vertical-align: middle;\n",
       "    }\n",
       "\n",
       "    .dataframe tbody tr th {\n",
       "        vertical-align: top;\n",
       "    }\n",
       "\n",
       "    .dataframe thead th {\n",
       "        text-align: right;\n",
       "    }\n",
       "</style>\n",
       "<table border=\"1\" class=\"dataframe\">\n",
       "  <thead>\n",
       "    <tr style=\"text-align: right;\">\n",
       "      <th></th>\n",
       "      <th>Name</th>\n",
       "      <th>Sex</th>\n",
       "      <th>Age</th>\n",
       "      <th>Score</th>\n",
       "    </tr>\n",
       "  </thead>\n",
       "  <tbody>\n",
       "    <tr>\n",
       "      <th>0</th>\n",
       "      <td>Olivia</td>\n",
       "      <td>Female</td>\n",
       "      <td>22</td>\n",
       "      <td>100</td>\n",
       "    </tr>\n",
       "    <tr>\n",
       "      <th>1</th>\n",
       "      <td>Lucas</td>\n",
       "      <td>Male</td>\n",
       "      <td>32</td>\n",
       "      <td>95</td>\n",
       "    </tr>\n",
       "    <tr>\n",
       "      <th>5</th>\n",
       "      <td>Elliot</td>\n",
       "      <td>Male</td>\n",
       "      <td>19</td>\n",
       "      <td>84</td>\n",
       "    </tr>\n",
       "    <tr>\n",
       "      <th>4</th>\n",
       "      <td>Ava</td>\n",
       "      <td>Female</td>\n",
       "      <td>38</td>\n",
       "      <td>83</td>\n",
       "    </tr>\n",
       "    <tr>\n",
       "      <th>6</th>\n",
       "      <td>Jack</td>\n",
       "      <td>Male</td>\n",
       "      <td>25</td>\n",
       "      <td>77</td>\n",
       "    </tr>\n",
       "    <tr>\n",
       "      <th>3</th>\n",
       "      <td>Zoe</td>\n",
       "      <td>Female</td>\n",
       "      <td>18</td>\n",
       "      <td>77</td>\n",
       "    </tr>\n",
       "    <tr>\n",
       "      <th>2</th>\n",
       "      <td>Sophia</td>\n",
       "      <td>Female</td>\n",
       "      <td>27</td>\n",
       "      <td>60</td>\n",
       "    </tr>\n",
       "  </tbody>\n",
       "</table>\n",
       "</div>"
      ],
      "text/plain": [
       "     Name     Sex  Age  Score\n",
       "0  Olivia  Female   22    100\n",
       "1   Lucas    Male   32     95\n",
       "5  Elliot    Male   19     84\n",
       "4     Ava  Female   38     83\n",
       "6    Jack    Male   25     77\n",
       "3     Zoe  Female   18     77\n",
       "2  Sophia  Female   27     60"
      ]
     },
     "execution_count": 132,
     "metadata": {},
     "output_type": "execute_result"
    }
   ],
   "source": [
    "df.sort_values(['Score', 'Name'], ascending = [False, True])"
   ]
  },
  {
   "cell_type": "code",
   "execution_count": 135,
   "id": "647950a8",
   "metadata": {},
   "outputs": [],
   "source": [
    "# sort_index(): 인덱스를 기준으로 정렬, 디폴트는 오름차순\n",
    "rownm = ['Olivia', 'Lucas', 'Sophia', 'Zoe', 'Ava', 'Elliot']\n",
    "\n",
    "obj = {'Score' : [100, 95, 60, 77, 83, 84],\n",
    "       'Age' : [22, 22, 27, 18, 18, 19],\n",
    "       }\n",
    "df = pd.DataFrame(obj, index = rownm)"
   ]
  },
  {
   "cell_type": "code",
   "execution_count": 136,
   "id": "913f9a5f",
   "metadata": {},
   "outputs": [
    {
     "data": {
      "text/html": [
       "<div>\n",
       "<style scoped>\n",
       "    .dataframe tbody tr th:only-of-type {\n",
       "        vertical-align: middle;\n",
       "    }\n",
       "\n",
       "    .dataframe tbody tr th {\n",
       "        vertical-align: top;\n",
       "    }\n",
       "\n",
       "    .dataframe thead th {\n",
       "        text-align: right;\n",
       "    }\n",
       "</style>\n",
       "<table border=\"1\" class=\"dataframe\">\n",
       "  <thead>\n",
       "    <tr style=\"text-align: right;\">\n",
       "      <th></th>\n",
       "      <th>Score</th>\n",
       "      <th>Age</th>\n",
       "    </tr>\n",
       "  </thead>\n",
       "  <tbody>\n",
       "    <tr>\n",
       "      <th>Olivia</th>\n",
       "      <td>100</td>\n",
       "      <td>22</td>\n",
       "    </tr>\n",
       "    <tr>\n",
       "      <th>Lucas</th>\n",
       "      <td>95</td>\n",
       "      <td>22</td>\n",
       "    </tr>\n",
       "    <tr>\n",
       "      <th>Sophia</th>\n",
       "      <td>60</td>\n",
       "      <td>27</td>\n",
       "    </tr>\n",
       "    <tr>\n",
       "      <th>Zoe</th>\n",
       "      <td>77</td>\n",
       "      <td>18</td>\n",
       "    </tr>\n",
       "    <tr>\n",
       "      <th>Ava</th>\n",
       "      <td>83</td>\n",
       "      <td>18</td>\n",
       "    </tr>\n",
       "    <tr>\n",
       "      <th>Elliot</th>\n",
       "      <td>84</td>\n",
       "      <td>19</td>\n",
       "    </tr>\n",
       "  </tbody>\n",
       "</table>\n",
       "</div>"
      ],
      "text/plain": [
       "        Score  Age\n",
       "Olivia    100   22\n",
       "Lucas      95   22\n",
       "Sophia     60   27\n",
       "Zoe        77   18\n",
       "Ava        83   18\n",
       "Elliot     84   19"
      ]
     },
     "execution_count": 136,
     "metadata": {},
     "output_type": "execute_result"
    }
   ],
   "source": [
    "df"
   ]
  },
  {
   "cell_type": "code",
   "execution_count": 140,
   "id": "54b3a45e",
   "metadata": {},
   "outputs": [
    {
     "data": {
      "text/html": [
       "<div>\n",
       "<style scoped>\n",
       "    .dataframe tbody tr th:only-of-type {\n",
       "        vertical-align: middle;\n",
       "    }\n",
       "\n",
       "    .dataframe tbody tr th {\n",
       "        vertical-align: top;\n",
       "    }\n",
       "\n",
       "    .dataframe thead th {\n",
       "        text-align: right;\n",
       "    }\n",
       "</style>\n",
       "<table border=\"1\" class=\"dataframe\">\n",
       "  <thead>\n",
       "    <tr style=\"text-align: right;\">\n",
       "      <th></th>\n",
       "      <th>Score</th>\n",
       "      <th>Age</th>\n",
       "    </tr>\n",
       "  </thead>\n",
       "  <tbody>\n",
       "    <tr>\n",
       "      <th>Ava</th>\n",
       "      <td>83</td>\n",
       "      <td>18</td>\n",
       "    </tr>\n",
       "    <tr>\n",
       "      <th>Elliot</th>\n",
       "      <td>84</td>\n",
       "      <td>19</td>\n",
       "    </tr>\n",
       "    <tr>\n",
       "      <th>Lucas</th>\n",
       "      <td>95</td>\n",
       "      <td>22</td>\n",
       "    </tr>\n",
       "    <tr>\n",
       "      <th>Olivia</th>\n",
       "      <td>100</td>\n",
       "      <td>22</td>\n",
       "    </tr>\n",
       "    <tr>\n",
       "      <th>Sophia</th>\n",
       "      <td>60</td>\n",
       "      <td>27</td>\n",
       "    </tr>\n",
       "    <tr>\n",
       "      <th>Zoe</th>\n",
       "      <td>77</td>\n",
       "      <td>18</td>\n",
       "    </tr>\n",
       "  </tbody>\n",
       "</table>\n",
       "</div>"
      ],
      "text/plain": [
       "        Score  Age\n",
       "Ava        83   18\n",
       "Elliot     84   19\n",
       "Lucas      95   22\n",
       "Olivia    100   22\n",
       "Sophia     60   27\n",
       "Zoe        77   18"
      ]
     },
     "execution_count": 140,
     "metadata": {},
     "output_type": "execute_result"
    }
   ],
   "source": [
    "df.sort_index()        # axis = 0"
   ]
  },
  {
   "cell_type": "code",
   "execution_count": 141,
   "id": "0995fa61",
   "metadata": {},
   "outputs": [
    {
     "data": {
      "text/html": [
       "<div>\n",
       "<style scoped>\n",
       "    .dataframe tbody tr th:only-of-type {\n",
       "        vertical-align: middle;\n",
       "    }\n",
       "\n",
       "    .dataframe tbody tr th {\n",
       "        vertical-align: top;\n",
       "    }\n",
       "\n",
       "    .dataframe thead th {\n",
       "        text-align: right;\n",
       "    }\n",
       "</style>\n",
       "<table border=\"1\" class=\"dataframe\">\n",
       "  <thead>\n",
       "    <tr style=\"text-align: right;\">\n",
       "      <th></th>\n",
       "      <th>Age</th>\n",
       "      <th>Score</th>\n",
       "    </tr>\n",
       "  </thead>\n",
       "  <tbody>\n",
       "    <tr>\n",
       "      <th>Olivia</th>\n",
       "      <td>22</td>\n",
       "      <td>100</td>\n",
       "    </tr>\n",
       "    <tr>\n",
       "      <th>Lucas</th>\n",
       "      <td>22</td>\n",
       "      <td>95</td>\n",
       "    </tr>\n",
       "    <tr>\n",
       "      <th>Sophia</th>\n",
       "      <td>27</td>\n",
       "      <td>60</td>\n",
       "    </tr>\n",
       "    <tr>\n",
       "      <th>Zoe</th>\n",
       "      <td>18</td>\n",
       "      <td>77</td>\n",
       "    </tr>\n",
       "    <tr>\n",
       "      <th>Ava</th>\n",
       "      <td>18</td>\n",
       "      <td>83</td>\n",
       "    </tr>\n",
       "    <tr>\n",
       "      <th>Elliot</th>\n",
       "      <td>19</td>\n",
       "      <td>84</td>\n",
       "    </tr>\n",
       "  </tbody>\n",
       "</table>\n",
       "</div>"
      ],
      "text/plain": [
       "        Age  Score\n",
       "Olivia   22    100\n",
       "Lucas    22     95\n",
       "Sophia   27     60\n",
       "Zoe      18     77\n",
       "Ava      18     83\n",
       "Elliot   19     84"
      ]
     },
     "execution_count": 141,
     "metadata": {},
     "output_type": "execute_result"
    }
   ],
   "source": [
    "# 열 인덱스에 대해 오름차순 정렬 = 즉, 컬럼 기준 오름차순 정렬\n",
    "df.sort_index(axis=1)"
   ]
  },
  {
   "cell_type": "markdown",
   "id": "5083e237",
   "metadata": {},
   "source": [
    "#### 데이터 순위"
   ]
  },
  {
   "cell_type": "code",
   "execution_count": 144,
   "id": "fc1497ad",
   "metadata": {},
   "outputs": [
    {
     "data": {
      "text/html": [
       "<div>\n",
       "<style scoped>\n",
       "    .dataframe tbody tr th:only-of-type {\n",
       "        vertical-align: middle;\n",
       "    }\n",
       "\n",
       "    .dataframe tbody tr th {\n",
       "        vertical-align: top;\n",
       "    }\n",
       "\n",
       "    .dataframe thead th {\n",
       "        text-align: right;\n",
       "    }\n",
       "</style>\n",
       "<table border=\"1\" class=\"dataframe\">\n",
       "  <thead>\n",
       "    <tr style=\"text-align: right;\">\n",
       "      <th></th>\n",
       "      <th>Score</th>\n",
       "      <th>Age</th>\n",
       "    </tr>\n",
       "  </thead>\n",
       "  <tbody>\n",
       "    <tr>\n",
       "      <th>0</th>\n",
       "      <td>100</td>\n",
       "      <td>22</td>\n",
       "    </tr>\n",
       "    <tr>\n",
       "      <th>1</th>\n",
       "      <td>95</td>\n",
       "      <td>22</td>\n",
       "    </tr>\n",
       "    <tr>\n",
       "      <th>2</th>\n",
       "      <td>60</td>\n",
       "      <td>27</td>\n",
       "    </tr>\n",
       "    <tr>\n",
       "      <th>3</th>\n",
       "      <td>77</td>\n",
       "      <td>18</td>\n",
       "    </tr>\n",
       "    <tr>\n",
       "      <th>4</th>\n",
       "      <td>83</td>\n",
       "      <td>18</td>\n",
       "    </tr>\n",
       "  </tbody>\n",
       "</table>\n",
       "</div>"
      ],
      "text/plain": [
       "   Score  Age\n",
       "0    100   22\n",
       "1     95   22\n",
       "2     60   27\n",
       "3     77   18\n",
       "4     83   18"
      ]
     },
     "execution_count": 144,
     "metadata": {},
     "output_type": "execute_result"
    }
   ],
   "source": [
    "# 데이터 프레임 생성\n",
    "obj = {'Score' : [100, 95, 60, 77, 83, 85, 90, 90, 88, 75, 90, 54, 48, 84, 73],\n",
    "       'Age' : [22, 22, 27, 18, 18, 19, 24, 26, 30, 27, 25, 21, 20, 17, 20]\n",
    "       }\n",
    "df = pd.DataFrame(obj)\n",
    "df.head()"
   ]
  },
  {
   "cell_type": "code",
   "execution_count": 145,
   "id": "87763671",
   "metadata": {},
   "outputs": [],
   "source": [
    "df.sort_values('Score', ascending=False, inplace=True)"
   ]
  },
  {
   "cell_type": "code",
   "execution_count": 146,
   "id": "ccb36f87",
   "metadata": {},
   "outputs": [
    {
     "data": {
      "text/html": [
       "<div>\n",
       "<style scoped>\n",
       "    .dataframe tbody tr th:only-of-type {\n",
       "        vertical-align: middle;\n",
       "    }\n",
       "\n",
       "    .dataframe tbody tr th {\n",
       "        vertical-align: top;\n",
       "    }\n",
       "\n",
       "    .dataframe thead th {\n",
       "        text-align: right;\n",
       "    }\n",
       "</style>\n",
       "<table border=\"1\" class=\"dataframe\">\n",
       "  <thead>\n",
       "    <tr style=\"text-align: right;\">\n",
       "      <th></th>\n",
       "      <th>Score</th>\n",
       "      <th>Age</th>\n",
       "    </tr>\n",
       "  </thead>\n",
       "  <tbody>\n",
       "    <tr>\n",
       "      <th>0</th>\n",
       "      <td>100</td>\n",
       "      <td>22</td>\n",
       "    </tr>\n",
       "    <tr>\n",
       "      <th>1</th>\n",
       "      <td>95</td>\n",
       "      <td>22</td>\n",
       "    </tr>\n",
       "    <tr>\n",
       "      <th>6</th>\n",
       "      <td>90</td>\n",
       "      <td>24</td>\n",
       "    </tr>\n",
       "    <tr>\n",
       "      <th>7</th>\n",
       "      <td>90</td>\n",
       "      <td>26</td>\n",
       "    </tr>\n",
       "    <tr>\n",
       "      <th>10</th>\n",
       "      <td>90</td>\n",
       "      <td>25</td>\n",
       "    </tr>\n",
       "    <tr>\n",
       "      <th>8</th>\n",
       "      <td>88</td>\n",
       "      <td>30</td>\n",
       "    </tr>\n",
       "    <tr>\n",
       "      <th>5</th>\n",
       "      <td>85</td>\n",
       "      <td>19</td>\n",
       "    </tr>\n",
       "    <tr>\n",
       "      <th>13</th>\n",
       "      <td>84</td>\n",
       "      <td>17</td>\n",
       "    </tr>\n",
       "    <tr>\n",
       "      <th>4</th>\n",
       "      <td>83</td>\n",
       "      <td>18</td>\n",
       "    </tr>\n",
       "    <tr>\n",
       "      <th>3</th>\n",
       "      <td>77</td>\n",
       "      <td>18</td>\n",
       "    </tr>\n",
       "    <tr>\n",
       "      <th>9</th>\n",
       "      <td>75</td>\n",
       "      <td>27</td>\n",
       "    </tr>\n",
       "    <tr>\n",
       "      <th>14</th>\n",
       "      <td>73</td>\n",
       "      <td>20</td>\n",
       "    </tr>\n",
       "    <tr>\n",
       "      <th>2</th>\n",
       "      <td>60</td>\n",
       "      <td>27</td>\n",
       "    </tr>\n",
       "    <tr>\n",
       "      <th>11</th>\n",
       "      <td>54</td>\n",
       "      <td>21</td>\n",
       "    </tr>\n",
       "    <tr>\n",
       "      <th>12</th>\n",
       "      <td>48</td>\n",
       "      <td>20</td>\n",
       "    </tr>\n",
       "  </tbody>\n",
       "</table>\n",
       "</div>"
      ],
      "text/plain": [
       "    Score  Age\n",
       "0     100   22\n",
       "1      95   22\n",
       "6      90   24\n",
       "7      90   26\n",
       "10     90   25\n",
       "8      88   30\n",
       "5      85   19\n",
       "13     84   17\n",
       "4      83   18\n",
       "3      77   18\n",
       "9      75   27\n",
       "14     73   20\n",
       "2      60   27\n",
       "11     54   21\n",
       "12     48   20"
      ]
     },
     "execution_count": 146,
     "metadata": {},
     "output_type": "execute_result"
    }
   ],
   "source": [
    "df"
   ]
  },
  {
   "cell_type": "code",
   "execution_count": 156,
   "id": "956bcaf3",
   "metadata": {},
   "outputs": [],
   "source": [
    "# case1. 동점자 평균 순위\n",
    "df['rank_average1'] = df['Score'].rank()\n",
    "\n",
    "# case2. 동점자 평균 순위(가장 큰 값이 1위)\n",
    "# Score가 90인 경우가 3개로, 3~5위의 평균인 4위\n",
    "df['rank_average2'] = df['Score'].rank(ascending=False)\n",
    "\n",
    "# case3. 동점자에게 가장 낮은 순위를 부여(가장 작은 값이 1위)\n",
    "# Score가 90인 경우가 3개로, 3~5위 중 가장 낮은 3위 \n",
    "df['rank_min'] = df['Score'].rank(method='min', ascending=False)\n",
    "\n",
    "# case4. 동점자에게 가장 높은 순위를 부여(가장 큰 값이 1위)\n",
    "# Score가 90인 경우가 3개로, 3~5위 중 가장 높은 5위 \n",
    "df['rank_max'] = df['Score'].rank(method='max', ascending=False)"
   ]
  },
  {
   "cell_type": "code",
   "execution_count": 157,
   "id": "a35d1830",
   "metadata": {},
   "outputs": [
    {
     "data": {
      "text/html": [
       "<div>\n",
       "<style scoped>\n",
       "    .dataframe tbody tr th:only-of-type {\n",
       "        vertical-align: middle;\n",
       "    }\n",
       "\n",
       "    .dataframe tbody tr th {\n",
       "        vertical-align: top;\n",
       "    }\n",
       "\n",
       "    .dataframe thead th {\n",
       "        text-align: right;\n",
       "    }\n",
       "</style>\n",
       "<table border=\"1\" class=\"dataframe\">\n",
       "  <thead>\n",
       "    <tr style=\"text-align: right;\">\n",
       "      <th></th>\n",
       "      <th>Score</th>\n",
       "      <th>Age</th>\n",
       "      <th>rank_average1</th>\n",
       "      <th>rank_average2</th>\n",
       "      <th>rank_min</th>\n",
       "      <th>rank_max</th>\n",
       "    </tr>\n",
       "  </thead>\n",
       "  <tbody>\n",
       "    <tr>\n",
       "      <th>0</th>\n",
       "      <td>100</td>\n",
       "      <td>22</td>\n",
       "      <td>15.0</td>\n",
       "      <td>1.0</td>\n",
       "      <td>1.0</td>\n",
       "      <td>1.0</td>\n",
       "    </tr>\n",
       "    <tr>\n",
       "      <th>1</th>\n",
       "      <td>95</td>\n",
       "      <td>22</td>\n",
       "      <td>14.0</td>\n",
       "      <td>2.0</td>\n",
       "      <td>2.0</td>\n",
       "      <td>2.0</td>\n",
       "    </tr>\n",
       "    <tr>\n",
       "      <th>6</th>\n",
       "      <td>90</td>\n",
       "      <td>24</td>\n",
       "      <td>12.0</td>\n",
       "      <td>4.0</td>\n",
       "      <td>3.0</td>\n",
       "      <td>5.0</td>\n",
       "    </tr>\n",
       "    <tr>\n",
       "      <th>7</th>\n",
       "      <td>90</td>\n",
       "      <td>26</td>\n",
       "      <td>12.0</td>\n",
       "      <td>4.0</td>\n",
       "      <td>3.0</td>\n",
       "      <td>5.0</td>\n",
       "    </tr>\n",
       "    <tr>\n",
       "      <th>10</th>\n",
       "      <td>90</td>\n",
       "      <td>25</td>\n",
       "      <td>12.0</td>\n",
       "      <td>4.0</td>\n",
       "      <td>3.0</td>\n",
       "      <td>5.0</td>\n",
       "    </tr>\n",
       "    <tr>\n",
       "      <th>8</th>\n",
       "      <td>88</td>\n",
       "      <td>30</td>\n",
       "      <td>10.0</td>\n",
       "      <td>6.0</td>\n",
       "      <td>6.0</td>\n",
       "      <td>6.0</td>\n",
       "    </tr>\n",
       "    <tr>\n",
       "      <th>5</th>\n",
       "      <td>85</td>\n",
       "      <td>19</td>\n",
       "      <td>9.0</td>\n",
       "      <td>7.0</td>\n",
       "      <td>7.0</td>\n",
       "      <td>7.0</td>\n",
       "    </tr>\n",
       "    <tr>\n",
       "      <th>13</th>\n",
       "      <td>84</td>\n",
       "      <td>17</td>\n",
       "      <td>8.0</td>\n",
       "      <td>8.0</td>\n",
       "      <td>8.0</td>\n",
       "      <td>8.0</td>\n",
       "    </tr>\n",
       "    <tr>\n",
       "      <th>4</th>\n",
       "      <td>83</td>\n",
       "      <td>18</td>\n",
       "      <td>7.0</td>\n",
       "      <td>9.0</td>\n",
       "      <td>9.0</td>\n",
       "      <td>9.0</td>\n",
       "    </tr>\n",
       "    <tr>\n",
       "      <th>3</th>\n",
       "      <td>77</td>\n",
       "      <td>18</td>\n",
       "      <td>6.0</td>\n",
       "      <td>10.0</td>\n",
       "      <td>10.0</td>\n",
       "      <td>10.0</td>\n",
       "    </tr>\n",
       "    <tr>\n",
       "      <th>9</th>\n",
       "      <td>75</td>\n",
       "      <td>27</td>\n",
       "      <td>5.0</td>\n",
       "      <td>11.0</td>\n",
       "      <td>11.0</td>\n",
       "      <td>11.0</td>\n",
       "    </tr>\n",
       "    <tr>\n",
       "      <th>14</th>\n",
       "      <td>73</td>\n",
       "      <td>20</td>\n",
       "      <td>4.0</td>\n",
       "      <td>12.0</td>\n",
       "      <td>12.0</td>\n",
       "      <td>12.0</td>\n",
       "    </tr>\n",
       "    <tr>\n",
       "      <th>2</th>\n",
       "      <td>60</td>\n",
       "      <td>27</td>\n",
       "      <td>3.0</td>\n",
       "      <td>13.0</td>\n",
       "      <td>13.0</td>\n",
       "      <td>13.0</td>\n",
       "    </tr>\n",
       "    <tr>\n",
       "      <th>11</th>\n",
       "      <td>54</td>\n",
       "      <td>21</td>\n",
       "      <td>2.0</td>\n",
       "      <td>14.0</td>\n",
       "      <td>14.0</td>\n",
       "      <td>14.0</td>\n",
       "    </tr>\n",
       "    <tr>\n",
       "      <th>12</th>\n",
       "      <td>48</td>\n",
       "      <td>20</td>\n",
       "      <td>1.0</td>\n",
       "      <td>15.0</td>\n",
       "      <td>15.0</td>\n",
       "      <td>15.0</td>\n",
       "    </tr>\n",
       "  </tbody>\n",
       "</table>\n",
       "</div>"
      ],
      "text/plain": [
       "    Score  Age  rank_average1  rank_average2  rank_min  rank_max\n",
       "0     100   22           15.0            1.0       1.0       1.0\n",
       "1      95   22           14.0            2.0       2.0       2.0\n",
       "6      90   24           12.0            4.0       3.0       5.0\n",
       "7      90   26           12.0            4.0       3.0       5.0\n",
       "10     90   25           12.0            4.0       3.0       5.0\n",
       "8      88   30           10.0            6.0       6.0       6.0\n",
       "5      85   19            9.0            7.0       7.0       7.0\n",
       "13     84   17            8.0            8.0       8.0       8.0\n",
       "4      83   18            7.0            9.0       9.0       9.0\n",
       "3      77   18            6.0           10.0      10.0      10.0\n",
       "9      75   27            5.0           11.0      11.0      11.0\n",
       "14     73   20            4.0           12.0      12.0      12.0\n",
       "2      60   27            3.0           13.0      13.0      13.0\n",
       "11     54   21            2.0           14.0      14.0      14.0\n",
       "12     48   20            1.0           15.0      15.0      15.0"
      ]
     },
     "execution_count": 157,
     "metadata": {},
     "output_type": "execute_result"
    }
   ],
   "source": [
    "df"
   ]
  },
  {
   "cell_type": "code",
   "execution_count": null,
   "id": "ca713930",
   "metadata": {},
   "outputs": [],
   "source": []
  }
 ],
 "metadata": {
  "kernelspec": {
   "display_name": "Python 3 (ipykernel)",
   "language": "python",
   "name": "python3"
  },
  "language_info": {
   "codemirror_mode": {
    "name": "ipython",
    "version": 3
   },
   "file_extension": ".py",
   "mimetype": "text/x-python",
   "name": "python",
   "nbconvert_exporter": "python",
   "pygments_lexer": "ipython3",
   "version": "3.9.7"
  }
 },
 "nbformat": 4,
 "nbformat_minor": 5
}
