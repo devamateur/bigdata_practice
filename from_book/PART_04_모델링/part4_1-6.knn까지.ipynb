{
 "cells": [
  {
   "cell_type": "markdown",
   "id": "1faad793",
   "metadata": {},
   "source": [
    "## 1-3. 로지스틱 회귀분석\n",
    "#### 사이킷런 패키지 내 breast_cancer 데이터를 호출한 후 학습 데이터와 평가 데이터로 분할하고 LogisticRegression()으로 이진분류 모형개체 생성 및 학습한 후 평가 데이터로 목푯값을 뎨측하고 성능을 측정하는 코드 작성(단, 학습과 평가 데이터의 비율은 8대 2로 하고, target의 비율을 반영하고 평가지표는 AUC를 사용)"
   ]
  },
  {
   "cell_type": "code",
   "execution_count": 2,
   "id": "3bd46ef7",
   "metadata": {},
   "outputs": [],
   "source": [
    "from sklearn.datasets import load_breast_cancer\n",
    "from sklearn.linear_model import LogisticRegression\n",
    "from sklearn.model_selection import train_test_split\n",
    "from sklearn.metrics import roc_curve, auc"
   ]
  },
  {
   "cell_type": "code",
   "execution_count": 7,
   "id": "9a13bcf0",
   "metadata": {},
   "outputs": [
    {
     "name": "stderr",
     "output_type": "stream",
     "text": [
      "C:\\Users\\ing06\\anaconda3\\lib\\site-packages\\sklearn\\linear_model\\_logistic.py:814: ConvergenceWarning: lbfgs failed to converge (status=1):\n",
      "STOP: TOTAL NO. of ITERATIONS REACHED LIMIT.\n",
      "\n",
      "Increase the number of iterations (max_iter) or scale the data as shown in:\n",
      "    https://scikit-learn.org/stable/modules/preprocessing.html\n",
      "Please also refer to the documentation for alternative solver options:\n",
      "    https://scikit-learn.org/stable/modules/linear_model.html#logistic-regression\n",
      "  n_iter_i = _check_optimize_result(\n"
     ]
    },
    {
     "data": {
      "text/plain": [
       "array([7.07370981e-01, 9.96869003e-01, 5.29137370e-02, 8.41728781e-01,\n",
       "       5.61780733e-01, 4.15206034e-01, 9.83400005e-01, 9.99175726e-01,\n",
       "       9.99300360e-01, 6.06904599e-19, 7.78487775e-02, 9.94627115e-01,\n",
       "       9.97540771e-01, 9.93185157e-01, 6.02622726e-11, 9.87104589e-01,\n",
       "       1.12089036e-04, 9.96375680e-01, 6.81626380e-12, 9.98979434e-01,\n",
       "       9.96558514e-01, 6.94656356e-02, 5.67244662e-01, 8.80401359e-10,\n",
       "       9.87265347e-01, 9.85946073e-01, 9.83214743e-01, 9.92409361e-01,\n",
       "       7.74662233e-01, 9.74577096e-01, 9.23787689e-01, 3.43686821e-01,\n",
       "       4.51810590e-10, 9.49586687e-01, 9.65038053e-01, 9.98991952e-01,\n",
       "       7.45749078e-01, 4.89624766e-07, 9.92406518e-01, 9.93732055e-01,\n",
       "       9.27381576e-01, 7.74419726e-01, 9.90928056e-01, 1.59355169e-07,\n",
       "       1.83883132e-15, 9.93502996e-01, 3.83094740e-02, 9.99877381e-01,\n",
       "       1.18027505e-03, 9.41575297e-01, 3.14339930e-08, 1.82595483e-08,\n",
       "       4.55595688e-03, 9.88237055e-01, 9.98986195e-01, 9.44549642e-01,\n",
       "       9.47597148e-15, 9.90190323e-01, 7.56971427e-01, 9.95313214e-01,\n",
       "       9.92454588e-01, 6.73058889e-02, 9.95068046e-01, 3.32766313e-12,\n",
       "       1.77245884e-03, 9.60486245e-01, 1.39525940e-07, 4.42829189e-02,\n",
       "       9.74323271e-01, 3.11123980e-05, 1.03657953e-04, 9.89214667e-01,\n",
       "       9.32179442e-01, 2.09562251e-01, 8.88943240e-01, 9.68779911e-01,\n",
       "       9.95926158e-01, 9.91380199e-01, 4.82033416e-02, 9.99601313e-01,\n",
       "       9.94746716e-01, 9.99353421e-01, 9.81862260e-01, 9.98581284e-01,\n",
       "       3.10032553e-02, 7.70452901e-01, 4.51225249e-04, 9.93554832e-01,\n",
       "       3.31566159e-07, 9.20389997e-01, 1.57898367e-05, 2.61722408e-02,\n",
       "       9.93278166e-01, 9.86250424e-01, 9.98616688e-01, 5.79160089e-03,\n",
       "       8.41831353e-01, 3.56389352e-03, 1.07694139e-03, 8.87066722e-01,\n",
       "       8.09736202e-01, 2.79962134e-10, 9.67213174e-01, 9.85786111e-01,\n",
       "       9.62618717e-01, 1.19413499e-04, 9.69290344e-01, 9.73454569e-01,\n",
       "       5.09235932e-01, 9.71864465e-01, 9.97193638e-01, 9.99542310e-01,\n",
       "       7.47066346e-01, 7.10677859e-01])"
      ]
     },
     "execution_count": 7,
     "metadata": {},
     "output_type": "execute_result"
    }
   ],
   "source": [
    "cancer = load_breast_cancer()\n",
    "data = cancer.data\n",
    "target = cancer.target\n",
    "\n",
    "# train/test split\n",
    "X_train, X_test, y_train, y_test = train_test_split(data, target, test_size=0.2, stratify=target)     # stratify: 비율 반영\n",
    "\n",
    "# 로지스틱 회귀\n",
    "lr = LogisticRegression()         \n",
    "\n",
    "lr_model = lr.fit(X_train, y_train)\n",
    "\n",
    "# predict_proba: 클래스 예측 확률 (0~1사이)\n",
    "y_score = lr_model.predict_proba(X_test)[:, 1]\n",
    "y_score"
   ]
  },
  {
   "cell_type": "code",
   "execution_count": 8,
   "id": "8e1e94ed",
   "metadata": {},
   "outputs": [
    {
     "data": {
      "text/plain": [
       "0.9828042328042329"
      ]
     },
     "execution_count": 8,
     "metadata": {},
     "output_type": "execute_result"
    }
   ],
   "source": [
    "# auc 계산\n",
    "\n",
    "# 먼저, roc_curve 구하기\n",
    "fpr, tpr, thresholds = roc_curve(y_test, y_score)\n",
    "\n",
    "# auc\n",
    "auc = auc(fpr, tpr)\n",
    "auc"
   ]
  },
  {
   "cell_type": "markdown",
   "id": "505dc5c6",
   "metadata": {},
   "source": [
    "## 1-4. SVM(Support Vector Machine)\n",
    "#### 1) 사이킷런 패키지 내 breast_cancer 데이터를 호출한 후 학습 데이터와 평가 데이터로 분할하고 클래스 SVC()를 통해 이진분류 모형객체를 생성하고 학습한 후 평가 데이터로 목푯값을 예측하는 성능을 측정하는 코드 작성(단, 학습과 평가 데이터의 비율은 8대 2로 하고, target의 비율을 반영하고 평가지표는 AUC를 사용해보자)\n",
    "- SVC: 이진분류 SVM\n",
    "- LinearSVC: 다지분류 SVM"
   ]
  },
  {
   "cell_type": "code",
   "execution_count": 11,
   "id": "0471cf3c",
   "metadata": {},
   "outputs": [],
   "source": [
    "from sklearn.svm import SVC\n",
    "from sklearn.datasets import load_breast_cancer\n",
    "from sklearn.model_selection import train_test_split\n",
    "\n",
    "from sklearn.metrics import roc_curve, auc"
   ]
  },
  {
   "cell_type": "code",
   "execution_count": 12,
   "id": "8c14d79c",
   "metadata": {},
   "outputs": [
    {
     "data": {
      "text/plain": [
       "0.9808201058201058"
      ]
     },
     "execution_count": 12,
     "metadata": {},
     "output_type": "execute_result"
    }
   ],
   "source": [
    "cancer = load_breast_cancer()\n",
    "data = cancer.data\n",
    "target = cancer.target\n",
    "\n",
    "# train/test split\n",
    "X_train, X_test, y_train, y_test = train_test_split(data, target, test_size=0.2, stratify=target)\n",
    "\n",
    "# SVC\n",
    "svc = SVC(probability=True)           ## predict_proba() 사용을 위해 꼭 probability=True로 해야 함\n",
    "\n",
    "svm_bin = svc.fit(X_train, y_train)\n",
    "\n",
    "\n",
    "# roc_curve\n",
    "y_score = svm_bin.predict_proba(X_test)[:, 1]\n",
    "\n",
    "fpr, tpr, thresholds = roc_curve(y_test, y_score)\n",
    "\n",
    "auc = auc(fpr, tpr)\n",
    "auc"
   ]
  },
  {
   "cell_type": "markdown",
   "id": "3bb63203",
   "metadata": {},
   "source": [
    "#### 2) 사이킷런 패키지 내 iris 데이터를 호출한 후 학습 데이터와 평가 데이터로 분할하고 클래스 LinearSVC()를 통해 다지분류 모형객체를 생성하고 학습한 후 평가 데이터로 목푯값을 예측하고 성능을 측정하는 코드 작성(단, 학습/평가 데이터 비율은 8대 2, target의 비율을 반영하고 평가지표는 macro f1-score)"
   ]
  },
  {
   "cell_type": "code",
   "execution_count": 13,
   "id": "87df4c2d",
   "metadata": {},
   "outputs": [],
   "source": [
    "from sklearn.datasets import load_iris\n",
    "from sklearn.model_selection import train_test_split\n",
    "from sklearn.svm import LinearSVC\n",
    "from sklearn.metrics import f1_score"
   ]
  },
  {
   "cell_type": "code",
   "execution_count": 16,
   "id": "3decf36d",
   "metadata": {},
   "outputs": [
    {
     "data": {
      "text/plain": [
       "1.0"
      ]
     },
     "execution_count": 16,
     "metadata": {},
     "output_type": "execute_result"
    }
   ],
   "source": [
    "iris = load_iris()\n",
    "data = iris.data\n",
    "target = iris.target\n",
    "\n",
    "# train/test split\n",
    "X_train, X_test, y_train, y_test = train_test_split(data, target, test_size=0.2, stratify=target)\n",
    "\n",
    "# SVM\n",
    "l_svc = LinearSVC(C=0.1)\n",
    "\n",
    "l_svc_multi = l_svc.fit(X_train, y_train)\n",
    "\n",
    "# predict\n",
    "y_pred = l_svc_multi.predict(X_test)\n",
    "\n",
    "f1 = f1_score = f1_score(y_test, y_pred, average=\"macro\")\n",
    "f1"
   ]
  },
  {
   "cell_type": "markdown",
   "id": "ad5d861c",
   "metadata": {},
   "source": [
    "## 1-6. KNN(K-Nearest Neighbor)\n",
    "#### 사이킷런 패키지 내 breast_cancer 데이터를 호출한 후 학습 데이터와 평가 데이터로 분할하고 클래스 KNeighborsClassifier()를 통해 이진분류 모형객체를 생성하고 학습한 후 평가 데이터로 목푯값을 예측하고 성능을 측정하는 코드를 작성(단, 학습과 평개 데이터 비율은 8대 2, target의 비율을 반영하고 평가지표는 auc 사용)"
   ]
  },
  {
   "cell_type": "code",
   "execution_count": 17,
   "id": "afd2e7f5",
   "metadata": {},
   "outputs": [],
   "source": [
    "from sklearn.datasets import load_breast_cancer\n",
    "from sklearn.model_selection import train_test_split\n",
    "from sklearn.neighbors import KNeighborsClassifier\n",
    "from sklearn.metrics import roc_curve, auc"
   ]
  },
  {
   "cell_type": "code",
   "execution_count": 19,
   "id": "0d2c1c73",
   "metadata": {},
   "outputs": [
    {
     "data": {
      "text/plain": [
       "0.9151785714285715"
      ]
     },
     "execution_count": 19,
     "metadata": {},
     "output_type": "execute_result"
    }
   ],
   "source": [
    "cancer = load_breast_cancer()\n",
    "data = cancer.data\n",
    "target = cancer.target\n",
    "\n",
    "# train/test split\n",
    "X_train, X_test, y_train, y_test = train_test_split(data, target, test_size=0.2, stratify=target)\n",
    "\n",
    "# KNN\n",
    "knn = KNeighborsClassifier(2)\n",
    "knn_train = knn.fit(X_train, y_train)\n",
    "\n",
    "y_pred = knn_train.predict_proba(X_test)[:, 1]\n",
    "\n",
    "# auc\n",
    "fpr, tpr, thresholds = roc_curve(y_test, y_pred)\n",
    "auc = auc(fpr, tpr)\n",
    "\n",
    "auc"
   ]
  },
  {
   "cell_type": "code",
   "execution_count": null,
   "id": "58015468",
   "metadata": {},
   "outputs": [],
   "source": []
  }
 ],
 "metadata": {
  "kernelspec": {
   "display_name": "Python 3 (ipykernel)",
   "language": "python",
   "name": "python3"
  },
  "language_info": {
   "codemirror_mode": {
    "name": "ipython",
    "version": 3
   },
   "file_extension": ".py",
   "mimetype": "text/x-python",
   "name": "python",
   "nbconvert_exporter": "python",
   "pygments_lexer": "ipython3",
   "version": "3.9.7"
  }
 },
 "nbformat": 4,
 "nbformat_minor": 5
}
