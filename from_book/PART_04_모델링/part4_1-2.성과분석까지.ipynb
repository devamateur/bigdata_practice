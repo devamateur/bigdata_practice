{
 "cells": [
  {
   "cell_type": "markdown",
   "id": "438c9481",
   "metadata": {},
   "source": [
    "# 데이터 분할\n",
    "## 1. train_test_split\n",
    "#### 사이킷런 패키지 내 breast_cancer 데이터를 호출한 후 학습 데이터와 평가 데이터로 분할하기\n",
    "(단, 분할 시 breast_cancer 내의 data에 대해 셔플을 진행하고 학습, 평가 데이터는 각각 X_train, y_train에 할당하고 target에 대해서는 X_test, y_test에 할당하고 학습 데이터와 평가 데이터의 비율은 7:3으로 가정"
   ]
  },
  {
   "cell_type": "code",
   "execution_count": 13,
   "id": "7869e768",
   "metadata": {},
   "outputs": [],
   "source": [
    "from sklearn.datasets import load_breast_cancer\n",
    "from sklearn.model_selection import train_test_split\n",
    "\n",
    "# 유방암 데이터 불러오기\n",
    "cancer = load_breast_cancer()\n",
    "data = cancer.data\n",
    "target = cancer.target"
   ]
  },
  {
   "cell_type": "code",
   "execution_count": 14,
   "id": "dddd487b",
   "metadata": {},
   "outputs": [
    {
     "data": {
      "text/plain": [
       "array([0, 0, 0, 0, 0, 0, 0, 0, 0, 0, 0, 0, 0, 0, 0, 0, 0, 0, 0, 1, 1, 1,\n",
       "       0, 0, 0, 0, 0, 0, 0, 0, 0, 0, 0, 0, 0, 0, 0, 1, 0, 0, 0, 0, 0, 0,\n",
       "       0, 0, 1, 0, 1, 1, 1, 1, 1, 0, 0, 1, 0, 0, 1, 1, 1, 1, 0, 1, 0, 0,\n",
       "       1, 1, 1, 1, 0, 1, 0, 0, 1, 0, 1, 0, 0, 1, 1, 1, 0, 0, 1, 0, 0, 0,\n",
       "       1, 1, 1, 0, 1, 1, 0, 0, 1, 1, 1, 0, 0, 1, 1, 1, 1, 0, 1, 1, 0, 1,\n",
       "       1, 1, 1, 1, 1, 1, 1, 0, 0, 0, 1, 0, 0, 1, 1, 1, 0, 0, 1, 0, 1, 0,\n",
       "       0, 1, 0, 0, 1, 1, 0, 1, 1, 0, 1, 1, 1, 1, 0, 1, 1, 1, 1, 1, 1, 1,\n",
       "       1, 1, 0, 1, 1, 1, 1, 0, 0, 1, 0, 1, 1, 0, 0, 1, 1, 0, 0, 1, 1, 1,\n",
       "       1, 0, 1, 1, 0, 0, 0, 1, 0, 1, 0, 1, 1, 1, 0, 1, 1, 0, 0, 1, 0, 0,\n",
       "       0, 0, 1, 0, 0, 0, 1, 0, 1, 0, 1, 1, 0, 1, 0, 0, 0, 0, 1, 1, 0, 0,\n",
       "       1, 1, 1, 0, 1, 1, 1, 1, 1, 0, 0, 1, 1, 0, 1, 1, 0, 0, 1, 0, 1, 1,\n",
       "       1, 1, 0, 1, 1, 1, 1, 1, 0, 1, 0, 0, 0, 0, 0, 0, 0, 0, 0, 0, 0, 0,\n",
       "       0, 0, 1, 1, 1, 1, 1, 1, 0, 1, 0, 1, 1, 0, 1, 1, 0, 1, 0, 0, 1, 1,\n",
       "       1, 1, 1, 1, 1, 1, 1, 1, 1, 1, 1, 0, 1, 1, 0, 1, 0, 1, 1, 1, 1, 1,\n",
       "       1, 1, 1, 1, 1, 1, 1, 1, 1, 0, 1, 1, 1, 0, 1, 0, 1, 1, 1, 1, 0, 0,\n",
       "       0, 1, 1, 1, 1, 0, 1, 0, 1, 0, 1, 1, 1, 0, 1, 1, 1, 1, 1, 1, 1, 0,\n",
       "       0, 0, 1, 1, 1, 1, 1, 1, 1, 1, 1, 1, 1, 0, 0, 1, 0, 0, 0, 1, 0, 0,\n",
       "       1, 1, 1, 1, 1, 0, 1, 1, 1, 1, 1, 0, 1, 1, 1, 0, 1, 1, 0, 0, 1, 1,\n",
       "       1, 1, 1, 1, 0, 1, 1, 1, 1, 1, 1, 1, 0, 1, 1, 1, 1, 1, 0, 1, 1, 0,\n",
       "       1, 1, 1, 1, 1, 1, 1, 1, 1, 1, 1, 1, 0, 1, 0, 0, 1, 0, 1, 1, 1, 1,\n",
       "       1, 0, 1, 1, 0, 1, 0, 1, 1, 0, 1, 0, 1, 1, 1, 1, 1, 1, 1, 1, 0, 0,\n",
       "       1, 1, 1, 1, 1, 1, 0, 1, 1, 1, 1, 1, 1, 1, 1, 1, 1, 0, 1, 1, 1, 1,\n",
       "       1, 1, 1, 0, 1, 0, 1, 1, 0, 1, 1, 1, 1, 1, 0, 0, 1, 0, 1, 0, 1, 1,\n",
       "       1, 1, 1, 0, 1, 1, 0, 1, 0, 1, 0, 0, 1, 1, 1, 0, 1, 1, 1, 1, 1, 1,\n",
       "       1, 1, 1, 1, 1, 0, 1, 0, 0, 1, 1, 1, 1, 1, 1, 1, 1, 1, 1, 1, 1, 1,\n",
       "       1, 1, 1, 1, 1, 1, 1, 1, 1, 1, 1, 1, 0, 0, 0, 0, 0, 0, 1])"
      ]
     },
     "execution_count": 14,
     "metadata": {},
     "output_type": "execute_result"
    }
   ],
   "source": [
    "target"
   ]
  },
  {
   "cell_type": "code",
   "execution_count": 18,
   "id": "297218b5",
   "metadata": {},
   "outputs": [],
   "source": [
    "X_train, X_test, y_train, y_test = train_test_split(data, target, test_size=0.3)"
   ]
  },
  {
   "cell_type": "code",
   "execution_count": 19,
   "id": "22f95405",
   "metadata": {},
   "outputs": [
    {
     "data": {
      "text/plain": [
       "(array([[1.051e+01, 2.019e+01, 6.864e+01, ..., 6.136e-02, 2.383e-01,\n",
       "         9.026e-02],\n",
       "        [1.968e+01, 2.168e+01, 1.299e+02, ..., 2.255e-01, 4.045e-01,\n",
       "         7.918e-02],\n",
       "        [1.316e+01, 2.054e+01, 8.406e+01, ..., 4.195e-02, 2.687e-01,\n",
       "         7.429e-02],\n",
       "        ...,\n",
       "        [1.296e+01, 1.829e+01, 8.418e+01, ..., 6.608e-02, 3.207e-01,\n",
       "         7.247e-02],\n",
       "        [1.071e+01, 2.039e+01, 6.950e+01, ..., 8.600e-02, 2.605e-01,\n",
       "         8.701e-02],\n",
       "        [1.157e+01, 1.904e+01, 7.420e+01, ..., 6.664e-02, 3.035e-01,\n",
       "         8.284e-02]]),\n",
       " array([[1.863e+01, 2.511e+01, 1.248e+02, ..., 1.848e-01, 3.444e-01,\n",
       "         9.782e-02],\n",
       "        [1.029e+01, 2.761e+01, 6.567e+01, ..., 9.127e-02, 2.226e-01,\n",
       "         8.283e-02],\n",
       "        [1.330e+01, 2.157e+01, 8.524e+01, ..., 5.614e-02, 2.637e-01,\n",
       "         6.658e-02],\n",
       "        ...,\n",
       "        [1.340e+01, 2.052e+01, 8.864e+01, ..., 2.051e-01, 3.585e-01,\n",
       "         1.109e-01],\n",
       "        [1.218e+01, 1.784e+01, 7.779e+01, ..., 5.882e-02, 2.227e-01,\n",
       "         7.376e-02],\n",
       "        [1.246e+01, 1.989e+01, 8.043e+01, ..., 7.625e-02, 2.685e-01,\n",
       "         7.764e-02]]),\n",
       " array([1, 0, 1, 0, 1, 1, 1, 0, 1, 1, 1, 1, 0, 1, 0, 0, 0, 1, 0, 0, 0, 0,\n",
       "        0, 0, 0, 0, 0, 1, 1, 1, 1, 1, 1, 1, 0, 1, 1, 1, 1, 1, 1, 1, 1, 1,\n",
       "        0, 1, 1, 1, 0, 0, 1, 0, 1, 1, 0, 1, 0, 0, 1, 1, 1, 0, 0, 0, 1, 1,\n",
       "        1, 1, 0, 0, 0, 1, 1, 0, 0, 0, 1, 1, 0, 0, 1, 1, 1, 1, 0, 1, 1, 0,\n",
       "        0, 1, 0, 1, 1, 0, 1, 0, 1, 1, 0, 1, 0, 0, 1, 1, 1, 1, 1, 1, 1, 1,\n",
       "        0, 1, 0, 1, 0, 0, 1, 1, 1, 1, 0, 0, 1, 1, 1, 1, 1, 0, 0, 0, 0, 1,\n",
       "        1, 0, 1, 1, 0, 1, 0, 0, 0, 0, 0, 0, 1, 1, 0, 0, 1, 1, 1, 1, 1, 1,\n",
       "        0, 1, 1, 0, 0, 0, 1, 0, 0, 1, 0, 0, 1, 0, 1, 1, 0, 1, 1, 1, 0, 0,\n",
       "        0, 1, 0, 0, 1, 1, 1, 0, 1, 0, 1, 1, 0, 1, 1, 1, 1, 0, 1, 1, 1, 1,\n",
       "        1, 0, 1, 1, 1, 1, 1, 0, 0, 1, 0, 0, 1, 0, 0, 0, 1, 0, 0, 1, 1, 1,\n",
       "        1, 0, 1, 1, 0, 0, 1, 1, 0, 0, 0, 0, 1, 0, 1, 1, 1, 1, 1, 0, 1, 1,\n",
       "        1, 0, 1, 1, 0, 0, 1, 1, 1, 0, 0, 1, 1, 0, 0, 1, 1, 0, 0, 1, 0, 1,\n",
       "        1, 1, 0, 0, 1, 0, 1, 1, 1, 1, 0, 1, 1, 0, 1, 0, 0, 0, 1, 1, 1, 0,\n",
       "        1, 1, 1, 0, 1, 1, 1, 1, 1, 1, 1, 1, 0, 1, 0, 1, 0, 1, 1, 1, 0, 1,\n",
       "        1, 1, 0, 1, 1, 0, 1, 1, 0, 1, 0, 1, 1, 1, 1, 1, 1, 1, 1, 0, 1, 0,\n",
       "        0, 0, 0, 0, 1, 1, 0, 1, 0, 1, 1, 1, 0, 0, 1, 0, 0, 1, 1, 1, 1, 1,\n",
       "        1, 1, 0, 0, 1, 0, 1, 1, 0, 0, 0, 1, 1, 1, 1, 1, 1, 1, 1, 1, 0, 0,\n",
       "        1, 1, 0, 0, 1, 1, 0, 0, 0, 1, 0, 1, 1, 0, 0, 0, 1, 1, 1, 1, 0, 1,\n",
       "        1, 1]),\n",
       " array([0, 1, 1, 1, 1, 1, 1, 0, 0, 1, 0, 1, 1, 1, 1, 1, 1, 0, 0, 1, 1, 1,\n",
       "        0, 0, 1, 1, 0, 1, 0, 1, 1, 1, 1, 1, 0, 1, 1, 1, 0, 1, 1, 0, 1, 1,\n",
       "        0, 0, 1, 1, 1, 0, 1, 0, 1, 0, 0, 1, 1, 0, 0, 0, 1, 1, 0, 1, 1, 1,\n",
       "        1, 1, 1, 1, 0, 1, 1, 1, 1, 1, 1, 1, 1, 1, 0, 1, 1, 1, 1, 1, 1, 0,\n",
       "        1, 1, 1, 0, 1, 0, 1, 0, 1, 1, 0, 1, 1, 1, 1, 1, 0, 1, 1, 1, 1, 0,\n",
       "        1, 0, 1, 1, 1, 0, 1, 0, 1, 0, 1, 0, 0, 0, 1, 1, 1, 1, 1, 1, 1, 1,\n",
       "        0, 1, 1, 1, 1, 1, 1, 0, 1, 1, 1, 1, 0, 0, 1, 1, 1, 0, 1, 1, 1, 0,\n",
       "        1, 1, 0, 0, 1, 1, 0, 1, 0, 1, 0, 0, 1, 1, 0, 1, 1]))"
      ]
     },
     "execution_count": 19,
     "metadata": {},
     "output_type": "execute_result"
    }
   ],
   "source": [
    "X_train, X_test, y_train, y_test"
   ]
  },
  {
   "cell_type": "markdown",
   "id": "3e581909",
   "metadata": {},
   "source": [
    "## 2. KFold\n",
    "#### 길이가 10인 임의의 넘파이 배열을 생성한 후, 클래스 KFold()를 통해 k=5인 k-fold 시행 시 데이터셋이 어떻게 분할되는지 알아보자"
   ]
  },
  {
   "cell_type": "code",
   "execution_count": 22,
   "id": "5150ac35",
   "metadata": {},
   "outputs": [
    {
     "data": {
      "text/plain": [
       "array([0, 1, 2, 3, 4, 5, 6, 7, 8, 9])"
      ]
     },
     "execution_count": 22,
     "metadata": {},
     "output_type": "execute_result"
    }
   ],
   "source": [
    "from sklearn.model_selection import KFold\n",
    "import numpy as np\n",
    "\n",
    "arr = np.arange(10)\n",
    "\n",
    "k_fold = KFold(5)\n",
    "arr"
   ]
  },
  {
   "cell_type": "code",
   "execution_count": 31,
   "id": "b575fd16",
   "metadata": {},
   "outputs": [
    {
     "name": "stdout",
     "output_type": "stream",
     "text": [
      "fold: 1\n",
      "훈련: [2 3 4 5 6 7 8 9], 테스트: [0 1]\n",
      "fold: 2\n",
      "훈련: [0 1 4 5 6 7 8 9], 테스트: [2 3]\n",
      "fold: 3\n",
      "훈련: [0 1 2 3 6 7 8 9], 테스트: [4 5]\n",
      "fold: 4\n",
      "훈련: [0 1 2 3 4 5 8 9], 테스트: [6 7]\n",
      "fold: 5\n",
      "훈련: [0 1 2 3 4 5 6 7], 테스트: [8 9]\n"
     ]
    }
   ],
   "source": [
    "# KFold.split(배열): 데이터의 인덱스를 생성해줌\n",
    "\n",
    "for i, (kfold_train, kfold_test) in enumerate(k_fold.split(arr)):\n",
    "    print('fold:', i+1)\n",
    "    print(f'훈련: {kfold_train}, 테스트: {kfold_test}')"
   ]
  },
  {
   "cell_type": "code",
   "execution_count": 29,
   "id": "e44ba322",
   "metadata": {},
   "outputs": [
    {
     "data": {
      "text/html": [
       "<div>\n",
       "<style scoped>\n",
       "    .dataframe tbody tr th:only-of-type {\n",
       "        vertical-align: middle;\n",
       "    }\n",
       "\n",
       "    .dataframe tbody tr th {\n",
       "        vertical-align: top;\n",
       "    }\n",
       "\n",
       "    .dataframe thead th {\n",
       "        text-align: right;\n",
       "    }\n",
       "</style>\n",
       "<table border=\"1\" class=\"dataframe\">\n",
       "  <thead>\n",
       "    <tr style=\"text-align: right;\">\n",
       "      <th></th>\n",
       "      <th>id</th>\n",
       "      <th>name</th>\n",
       "      <th>height</th>\n",
       "    </tr>\n",
       "  </thead>\n",
       "  <tbody>\n",
       "    <tr>\n",
       "      <th>0</th>\n",
       "      <td>0</td>\n",
       "      <td>김민수</td>\n",
       "      <td>170</td>\n",
       "    </tr>\n",
       "    <tr>\n",
       "      <th>1</th>\n",
       "      <td>1</td>\n",
       "      <td>박지민</td>\n",
       "      <td>175</td>\n",
       "    </tr>\n",
       "    <tr>\n",
       "      <th>2</th>\n",
       "      <td>2</td>\n",
       "      <td>최현수</td>\n",
       "      <td>180</td>\n",
       "    </tr>\n",
       "    <tr>\n",
       "      <th>3</th>\n",
       "      <td>3</td>\n",
       "      <td>이민정</td>\n",
       "      <td>165</td>\n",
       "    </tr>\n",
       "    <tr>\n",
       "      <th>4</th>\n",
       "      <td>4</td>\n",
       "      <td>이병헌</td>\n",
       "      <td>180</td>\n",
       "    </tr>\n",
       "  </tbody>\n",
       "</table>\n",
       "</div>"
      ],
      "text/plain": [
       "   id name  height\n",
       "0   0  김민수     170\n",
       "1   1  박지민     175\n",
       "2   2  최현수     180\n",
       "3   3  이민정     165\n",
       "4   4  이병헌     180"
      ]
     },
     "execution_count": 29,
     "metadata": {},
     "output_type": "execute_result"
    }
   ],
   "source": [
    "# 데이터프레임에도 적용\n",
    "import pandas as pd\n",
    "st_name = ['김민수', '박지민', '최현수', '이민정', '이병헌', '차태현', '하정우', '김고은', '박소담', '서예지']\n",
    "st_height = [170, 175, 180, 165, 180, 175, 175, 170, 168, 168]\n",
    "\n",
    "students = {'id':range(10), 'name':st_name, 'height':st_height}\n",
    "df = pd.DataFrame(students)\n",
    "df.head()"
   ]
  },
  {
   "cell_type": "code",
   "execution_count": 52,
   "id": "d7784be4",
   "metadata": {},
   "outputs": [
    {
     "name": "stdout",
     "output_type": "stream",
     "text": [
      "fold: 1\n",
      "훈련: [2 3 4 5 6 7 8 9], 테스트: [0 1]\n",
      "fold: 2\n",
      "훈련: [0 1 4 5 6 7 8 9], 테스트: [2 3]\n",
      "fold: 3\n",
      "훈련: [0 1 2 3 6 7 8 9], 테스트: [4 5]\n",
      "fold: 4\n",
      "훈련: [0 1 2 3 4 5 8 9], 테스트: [6 7]\n",
      "fold: 5\n",
      "훈련: [0 1 2 3 4 5 6 7], 테스트: [8 9]\n"
     ]
    }
   ],
   "source": [
    "k_fold = KFold(5)\n",
    "\n",
    "for i, (train_idx, test_idx) in enumerate(k_fold.split(df)):\n",
    "    print('fold:', i+1)\n",
    "    print(f'훈련: {train_idx}, 테스트: {test_idx}')"
   ]
  },
  {
   "cell_type": "markdown",
   "id": "e515342b",
   "metadata": {},
   "source": [
    "## 3. Stratified KFold\n",
    "#### 길이가 15인 넘파이 배열 X와 0, 1, 2의 비율이 각각 2:1:2인 리스트 y를 생성한 후, 클래스 StratifiedKFold()를 통해 y의 비율을 반영하여 k=3인 k-fold 시행"
   ]
  },
  {
   "cell_type": "code",
   "execution_count": 48,
   "id": "72b3f8ab",
   "metadata": {},
   "outputs": [
    {
     "data": {
      "text/plain": [
       "[0, 0, 0, 0, 0, 0, 1, 1, 1, 2, 2, 2, 2, 2, 2]"
      ]
     },
     "execution_count": 48,
     "metadata": {},
     "output_type": "execute_result"
    }
   ],
   "source": [
    "import numpy as np\n",
    "from sklearn.model_selection import StratifiedKFold\n",
    "\n",
    "arr = np.arange(15)\n",
    "list_y = [0]*6+[1]*3+[2]*6\n",
    "list_y\n"
   ]
  },
  {
   "cell_type": "code",
   "execution_count": 49,
   "id": "03dac8a2",
   "metadata": {},
   "outputs": [
    {
     "name": "stdout",
     "output_type": "stream",
     "text": [
      "fold: 1\n",
      "훈련: [ 2  3  4  5  7  8 11 12 13 14], 테스트: [ 0  1  6  9 10]\n",
      "fold: 2\n",
      "훈련: [ 0  1  4  5  6  8  9 10 13 14], 테스트: [ 2  3  7 11 12]\n",
      "fold: 3\n",
      "훈련: [ 0  1  2  3  6  7  9 10 11 12], 테스트: [ 4  5  8 13 14]\n"
     ]
    }
   ],
   "source": [
    "st_kfold = StratifiedKFold(3)\n",
    "\n",
    "for i, (train_idx, test_idx) in enumerate(st_kfold.split(arr, list_y)):\n",
    "    print('fold:', i+1)\n",
    "    print(f'훈련: {train_idx}, 테스트: {test_idx}')"
   ]
  },
  {
   "cell_type": "markdown",
   "id": "ff7ff414",
   "metadata": {},
   "source": [
    "<br><br><br><br>\n",
    "<hr>"
   ]
  },
  {
   "cell_type": "markdown",
   "id": "30976d15",
   "metadata": {},
   "source": [
    "# 성과분석\n",
    "## 1. 혼동행렬(Confusion Matrix) 1\n",
    "#### 임의의 리스트 y_true, y_pred를 생성한 후, 함수 confusion_matrix()를 통해 이진분류와 다지분류인 경우 혼동행렬을 구하는 코드를 작성해보자"
   ]
  },
  {
   "cell_type": "code",
   "execution_count": 56,
   "id": "c3d32867",
   "metadata": {},
   "outputs": [
    {
     "data": {
      "text/plain": [
       "array([[3, 1],\n",
       "       [1, 2]], dtype=int64)"
      ]
     },
     "execution_count": 56,
     "metadata": {},
     "output_type": "execute_result"
    }
   ],
   "source": [
    "from sklearn.metrics import confusion_matrix\n",
    "\n",
    "y_true = [0, 0, 1, 1, 0, 1, 0]\n",
    "y_pred = [1, 0, 1, 1, 0, 0 ,0]\n",
    "\n",
    "cm = confusion_matrix(y_true, y_pred)\n",
    "cm"
   ]
  },
  {
   "cell_type": "code",
   "execution_count": 60,
   "id": "7ff695dd",
   "metadata": {},
   "outputs": [],
   "source": [
    "tn, fp, fn, tp = cm.ravel()"
   ]
  },
  {
   "cell_type": "code",
   "execution_count": 61,
   "id": "ed86a2c9",
   "metadata": {},
   "outputs": [
    {
     "data": {
      "text/plain": [
       "(3, 1, 1, 2)"
      ]
     },
     "execution_count": 61,
     "metadata": {},
     "output_type": "execute_result"
    }
   ],
   "source": [
    "tn, fp, fn, tp"
   ]
  },
  {
   "cell_type": "code",
   "execution_count": 62,
   "id": "c4ac9656",
   "metadata": {},
   "outputs": [
    {
     "data": {
      "text/plain": [
       "array([[3, 1, 1],\n",
       "       [0, 2, 0],\n",
       "       [1, 0, 1]], dtype=int64)"
      ]
     },
     "execution_count": 62,
     "metadata": {},
     "output_type": "execute_result"
    }
   ],
   "source": [
    "# 다지분류\n",
    "y_true = [1, 0, 0, 2, 2, 1, 0, 0, 0]\n",
    "y_pred = [1, 0, 1, 0, 2, 1, 0, 0, 2]\n",
    "\n",
    "cm = confusion_matrix(y_true, y_pred)\n",
    "cm"
   ]
  },
  {
   "cell_type": "markdown",
   "id": "c628c4a1",
   "metadata": {},
   "source": [
    "## 2. 혼동행렬(Confusion Matrix) 2\n",
    "## Accuracy, Recall, Precision, F1-score\n",
    "#### 임의의 리스트 y_true, y_pred를 생성한 후, 이진분류에 대해 Accuracy, Recall ,Precision, F1-score 구하기"
   ]
  },
  {
   "cell_type": "code",
   "execution_count": 63,
   "id": "f73c8c3f",
   "metadata": {},
   "outputs": [
    {
     "data": {
      "text/plain": [
       "(0.8333333333333334, 1.0, 0.75, 0.8571428571428571)"
      ]
     },
     "execution_count": 63,
     "metadata": {},
     "output_type": "execute_result"
    }
   ],
   "source": [
    "from sklearn.metrics import accuracy_score, recall_score, precision_score, f1_score\n",
    "\n",
    "y_true = [0, 0, 0, 1, 1, 1]\n",
    "y_pred = [0, 1, 0, 1, 1, 1]\n",
    "\n",
    "# 정확도 = (TP+TN )/ (TP+TN+FN+FP)         \n",
    "acc = accuracy_score(y_true, y_pred)         # 5/6 = 0.8333...\n",
    "\n",
    "# 재현율, 민감도 = TP / (TP+FN)\n",
    "recall = recall_score(y_true, y_pred)        # 3/3 = 1\n",
    "\n",
    "# 정밀도 = TP / (TP+FP)\n",
    "prec = precision_score(y_true, y_pred)       # 3/4 = 0.75\n",
    "\n",
    "# f1-score = 2*(정밀도*재현율)/(정밀도+재현율)\n",
    "f1 = f1_score(y_true, y_pred)                # 2*(3/4)/(7/4) = 6/7 = 0.857...\n",
    "\n",
    "acc, recall, prec, f1"
   ]
  },
  {
   "cell_type": "markdown",
   "id": "f7ab3b08",
   "metadata": {},
   "source": [
    "## 3. AUC\n",
    "#### 임의의 리스트 y_true, y_score를 생성한 후, 이진분류에 대해 AUC 구하기"
   ]
  },
  {
   "cell_type": "code",
   "execution_count": 64,
   "id": "3dc79c01",
   "metadata": {},
   "outputs": [
    {
     "data": {
      "text/plain": [
       "(array([0.  , 0.  , 0.25, 0.25, 1.  ]),\n",
       " array([0.        , 0.33333333, 0.66666667, 1.        , 1.        ]),\n",
       " array([1.9 , 0.9 , 0.8 , 0.75, 0.1 ]))"
      ]
     },
     "execution_count": 64,
     "metadata": {},
     "output_type": "execute_result"
    }
   ],
   "source": [
    "from sklearn.metrics import roc_curve, auc\n",
    "\n",
    "y_true = [0, 1, 1, 0, 0, 1, 0]\n",
    "y_score = [0.8, 0.75, 0.9, 0.5, 0.24, 0.8, 0.1]\n",
    "\n",
    "# roc_curve\n",
    "fpr, tpr, threshold = roc_curve(y_true, y_score)\n",
    "fpr, tpr, threshold"
   ]
  },
  {
   "cell_type": "code",
   "execution_count": 65,
   "id": "1d6b34aa",
   "metadata": {},
   "outputs": [
    {
     "data": {
      "text/plain": [
       "0.875"
      ]
     },
     "execution_count": 65,
     "metadata": {},
     "output_type": "execute_result"
    }
   ],
   "source": [
    "result = auc(fpr, tpr)\n",
    "result"
   ]
  },
  {
   "cell_type": "markdown",
   "id": "68406590",
   "metadata": {},
   "source": [
    "## 4. 예측지표\n",
    "#### 연속형 목표변수(target)의 평가지표: MSE, MAE, MAPE\n",
    "#### 임의의 리스트 y_true, y_pred를 생성한 후, 목표값이 연속형인 모델의 평가 지표 MSE, MAE, MAPE 구하기"
   ]
  },
  {
   "cell_type": "code",
   "execution_count": 1,
   "id": "e63e8827",
   "metadata": {},
   "outputs": [
    {
     "name": "stdout",
     "output_type": "stream",
     "text": [
      "[0.69646919 0.28613933 0.22685145 0.55131477 0.71946897]\n",
      "[0.42310646 0.9807642  0.68482974 0.4809319  0.39211752]\n"
     ]
    }
   ],
   "source": [
    "from sklearn.metrics import mean_squared_error, mean_absolute_error, mean_absolute_percentage_error\n",
    "\n",
    "# 0~1 사이 난수\n",
    "import numpy as np\n",
    "np.random.seed(123)\n",
    "\n",
    "y_true = np.random.random_sample(5)       # (0,1)에서 5개 랜덤 추출\n",
    "y_pred = np.random.random_sample(5)\n",
    "print(y_true)\n",
    "print(y_pred)"
   ]
  },
  {
   "cell_type": "code",
   "execution_count": 2,
   "id": "0be03268",
   "metadata": {},
   "outputs": [
    {
     "data": {
      "text/plain": [
       "(0.17581754220802784, 0.36474003862364796, 1.0843148337483364)"
      ]
     },
     "execution_count": 2,
     "metadata": {},
     "output_type": "execute_result"
    }
   ],
   "source": [
    "mse = mean_squared_error(y_true, y_pred)\n",
    "mae = mean_absolute_error(y_true, y_pred)\n",
    "mape = mean_absolute_percentage_error(y_true, y_pred)\n",
    "\n",
    "mse, mae, mape"
   ]
  },
  {
   "cell_type": "code",
   "execution_count": null,
   "id": "2e0c5162",
   "metadata": {},
   "outputs": [],
   "source": []
  }
 ],
 "metadata": {
  "kernelspec": {
   "display_name": "Python 3 (ipykernel)",
   "language": "python",
   "name": "python3"
  },
  "language_info": {
   "codemirror_mode": {
    "name": "ipython",
    "version": 3
   },
   "file_extension": ".py",
   "mimetype": "text/x-python",
   "name": "python",
   "nbconvert_exporter": "python",
   "pygments_lexer": "ipython3",
   "version": "3.9.7"
  }
 },
 "nbformat": 4,
 "nbformat_minor": 5
}
