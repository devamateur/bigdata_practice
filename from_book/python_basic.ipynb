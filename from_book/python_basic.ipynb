{
 "cells": [
  {
   "cell_type": "markdown",
   "id": "2ab7f1ef",
   "metadata": {},
   "source": [
    "## 파이썬 기본연습\n",
    "- 본격적인 데이터 분석에 앞서 파이썬 기본 메소드 복습하기"
   ]
  },
  {
   "cell_type": "markdown",
   "id": "72a225e2",
   "metadata": {},
   "source": [
    "### Numpy\n",
    "- 생성\n",
    "    - array\n",
    "    - arange\n",
    "    - ones, zeros, full\n",
    "    - identity: 단위 행렬(항등 행렬) 형태, 대각선이 1이고 나머지가 0인 정사각형 행렬 생성\n",
    "    - reshape\n",
    "\n",
    "\n",
    "- 연산\n",
    "    - abs\n",
    "    - sqrt\n",
    "    - square\n",
    "    - exp\n",
    "    - log, log10\n",
    "    - sign: 원소의 부호값 반환. 양수는 1, 음수는 -1, 0은 0\n",
    "    - 소수점: round, ceil, floor, trunc\n",
    "\n",
    "\n",
    "- ndarray끼리 연산 (산술 연산자로 대체 가능)\n",
    "    - add(배열1, 배열2), subtract, multiply, divide, mod, power\n",
    "    \n",
    "    \n",
    "- 차원 변환\n",
    "    - reshape\n",
    "    - ravel, flatten: 다차원 배열을 1차원으로 평탄화\n",
    "    - T, transpose: 축 교환"
   ]
  },
  {
   "cell_type": "markdown",
   "id": "8e47a993",
   "metadata": {},
   "source": [
    "<b>생성</b>"
   ]
  },
  {
   "cell_type": "code",
   "execution_count": 1,
   "id": "e66c21d1",
   "metadata": {},
   "outputs": [],
   "source": [
    "import numpy as np"
   ]
  },
  {
   "cell_type": "code",
   "execution_count": 2,
   "id": "8c4f961c",
   "metadata": {},
   "outputs": [
    {
     "data": {
      "text/plain": [
       "array([1, 2, 3, 4, 5])"
      ]
     },
     "execution_count": 2,
     "metadata": {},
     "output_type": "execute_result"
    }
   ],
   "source": [
    "np.array([1, 2, 3, 4, 5])"
   ]
  },
  {
   "cell_type": "code",
   "execution_count": 3,
   "id": "0085dea4",
   "metadata": {},
   "outputs": [
    {
     "data": {
      "text/plain": [
       "array([3, 3, 3, 3, 3, 3, 3, 3, 3, 3])"
      ]
     },
     "execution_count": 3,
     "metadata": {},
     "output_type": "execute_result"
    }
   ],
   "source": [
    "np.array([3]*10)"
   ]
  },
  {
   "cell_type": "code",
   "execution_count": 9,
   "id": "fdb18484",
   "metadata": {},
   "outputs": [
    {
     "data": {
      "text/plain": [
       "array('안녕하세요', dtype='<U5')"
      ]
     },
     "execution_count": 9,
     "metadata": {},
     "output_type": "execute_result"
    }
   ],
   "source": [
    "np.array('안녕하세요')"
   ]
  },
  {
   "cell_type": "code",
   "execution_count": 10,
   "id": "2e9b12e2",
   "metadata": {},
   "outputs": [
    {
     "data": {
      "text/plain": [
       "array([[0, 1],\n",
       "       [2, 3],\n",
       "       [4, 5],\n",
       "       [6, 7],\n",
       "       [8, 9]])"
      ]
     },
     "execution_count": 10,
     "metadata": {},
     "output_type": "execute_result"
    }
   ],
   "source": [
    "np.arange(10).reshape(5, 2)"
   ]
  },
  {
   "cell_type": "code",
   "execution_count": 24,
   "id": "ecb6f688",
   "metadata": {},
   "outputs": [
    {
     "data": {
      "text/plain": [
       "array([0., 0., 0., 0., 0.])"
      ]
     },
     "execution_count": 24,
     "metadata": {},
     "output_type": "execute_result"
    }
   ],
   "source": [
    "np.zeros(5)"
   ]
  },
  {
   "cell_type": "code",
   "execution_count": 25,
   "id": "555ef4ab",
   "metadata": {},
   "outputs": [
    {
     "data": {
      "text/plain": [
       "array([[1., 1.],\n",
       "       [1., 1.],\n",
       "       [1., 1.],\n",
       "       [1., 1.],\n",
       "       [1., 1.]])"
      ]
     },
     "execution_count": 25,
     "metadata": {},
     "output_type": "execute_result"
    }
   ],
   "source": [
    "np.ones((5, 2))"
   ]
  },
  {
   "cell_type": "code",
   "execution_count": 32,
   "id": "6f76755f",
   "metadata": {},
   "outputs": [
    {
     "data": {
      "text/plain": [
       "array([10, 10, 10, 10, 10])"
      ]
     },
     "execution_count": 32,
     "metadata": {},
     "output_type": "execute_result"
    }
   ],
   "source": [
    "np.full(5, 10)"
   ]
  },
  {
   "cell_type": "code",
   "execution_count": 33,
   "id": "fdb7887a",
   "metadata": {},
   "outputs": [
    {
     "data": {
      "text/plain": [
       "array([[10, 10, 10, 10, 10],\n",
       "       [10, 10, 10, 10, 10],\n",
       "       [10, 10, 10, 10, 10],\n",
       "       [10, 10, 10, 10, 10],\n",
       "       [10, 10, 10, 10, 10]])"
      ]
     },
     "execution_count": 33,
     "metadata": {},
     "output_type": "execute_result"
    }
   ],
   "source": [
    "np.full((5, 5), 10)"
   ]
  },
  {
   "cell_type": "code",
   "execution_count": 36,
   "id": "a8e99d34",
   "metadata": {},
   "outputs": [
    {
     "data": {
      "text/plain": [
       "array([[1., 0., 0., 0., 0.],\n",
       "       [0., 1., 0., 0., 0.],\n",
       "       [0., 0., 1., 0., 0.],\n",
       "       [0., 0., 0., 1., 0.],\n",
       "       [0., 0., 0., 0., 1.]])"
      ]
     },
     "execution_count": 36,
     "metadata": {},
     "output_type": "execute_result"
    }
   ],
   "source": [
    "np.identity(5)"
   ]
  },
  {
   "cell_type": "code",
   "execution_count": 37,
   "id": "c1724ade",
   "metadata": {},
   "outputs": [
    {
     "data": {
      "text/plain": [
       "dtype('float64')"
      ]
     },
     "execution_count": 37,
     "metadata": {},
     "output_type": "execute_result"
    }
   ],
   "source": [
    "np.identity(5).dtype"
   ]
  },
  {
   "cell_type": "code",
   "execution_count": 38,
   "id": "7524a8c3",
   "metadata": {},
   "outputs": [
    {
     "data": {
      "text/plain": [
       "array([1., 1., 1.])"
      ]
     },
     "execution_count": 38,
     "metadata": {},
     "output_type": "execute_result"
    }
   ],
   "source": [
    "np.ones(3)"
   ]
  },
  {
   "cell_type": "code",
   "execution_count": 39,
   "id": "cd10b0b9",
   "metadata": {},
   "outputs": [
    {
     "data": {
      "text/plain": [
       "dtype('float64')"
      ]
     },
     "execution_count": 39,
     "metadata": {},
     "output_type": "execute_result"
    }
   ],
   "source": [
    "np.ones(3).dtype"
   ]
  },
  {
   "cell_type": "code",
   "execution_count": 40,
   "id": "27ca77b5",
   "metadata": {},
   "outputs": [
    {
     "data": {
      "text/plain": [
       "dtype('int32')"
      ]
     },
     "execution_count": 40,
     "metadata": {},
     "output_type": "execute_result"
    }
   ],
   "source": [
    "np.ones(3, dtype='int').dtype"
   ]
  },
  {
   "cell_type": "code",
   "execution_count": 43,
   "id": "174cf8e0",
   "metadata": {},
   "outputs": [],
   "source": [
    "threes = np.full(10, 3)"
   ]
  },
  {
   "cell_type": "code",
   "execution_count": 44,
   "id": "b3600645",
   "metadata": {},
   "outputs": [
    {
     "data": {
      "text/plain": [
       "array([3, 3, 3, 3, 3, 3, 3, 3, 3, 3])"
      ]
     },
     "execution_count": 44,
     "metadata": {},
     "output_type": "execute_result"
    }
   ],
   "source": [
    "threes"
   ]
  },
  {
   "cell_type": "code",
   "execution_count": 45,
   "id": "c3cb472e",
   "metadata": {},
   "outputs": [
    {
     "data": {
      "text/plain": [
       "(10,)"
      ]
     },
     "execution_count": 45,
     "metadata": {},
     "output_type": "execute_result"
    }
   ],
   "source": [
    "threes.shape"
   ]
  },
  {
   "cell_type": "code",
   "execution_count": 48,
   "id": "ea800d7b",
   "metadata": {},
   "outputs": [
    {
     "data": {
      "text/plain": [
       "10"
      ]
     },
     "execution_count": 48,
     "metadata": {},
     "output_type": "execute_result"
    }
   ],
   "source": [
    "threes.size"
   ]
  },
  {
   "cell_type": "code",
   "execution_count": 49,
   "id": "1153437c",
   "metadata": {},
   "outputs": [
    {
     "data": {
      "text/plain": [
       "1"
      ]
     },
     "execution_count": 49,
     "metadata": {},
     "output_type": "execute_result"
    }
   ],
   "source": [
    "threes.ndim"
   ]
  },
  {
   "cell_type": "code",
   "execution_count": 53,
   "id": "8c0193ea",
   "metadata": {},
   "outputs": [],
   "source": [
    "threes_2d = threes.reshape(2, 5)"
   ]
  },
  {
   "cell_type": "code",
   "execution_count": 54,
   "id": "c4479b85",
   "metadata": {},
   "outputs": [
    {
     "data": {
      "text/plain": [
       "2"
      ]
     },
     "execution_count": 54,
     "metadata": {},
     "output_type": "execute_result"
    }
   ],
   "source": [
    "threes_2d.ndim"
   ]
  },
  {
   "cell_type": "markdown",
   "id": "d74b1766",
   "metadata": {},
   "source": [
    "<b>연산</b>"
   ]
  },
  {
   "cell_type": "code",
   "execution_count": 61,
   "id": "d4956a76",
   "metadata": {},
   "outputs": [
    {
     "data": {
      "text/plain": [
       "array([ -1.,   0.,   5.,  -2., -99.,   1.])"
      ]
     },
     "execution_count": 61,
     "metadata": {},
     "output_type": "execute_result"
    }
   ],
   "source": [
    "arr = np.array([-1, 0, 5, -2., -99, 1])\n",
    "\n",
    "arr"
   ]
  },
  {
   "cell_type": "code",
   "execution_count": 64,
   "id": "320a15f3",
   "metadata": {},
   "outputs": [
    {
     "data": {
      "text/plain": [
       "array([ 1.,  0.,  5.,  2., 99.,  1.])"
      ]
     },
     "execution_count": 64,
     "metadata": {},
     "output_type": "execute_result"
    }
   ],
   "source": [
    "np.abs(arr)"
   ]
  },
  {
   "cell_type": "code",
   "execution_count": 65,
   "id": "a18ee85b",
   "metadata": {},
   "outputs": [
    {
     "name": "stderr",
     "output_type": "stream",
     "text": [
      "C:\\Users\\ing06\\AppData\\Local\\Temp\\ipykernel_304\\2296558006.py:1: RuntimeWarning: invalid value encountered in sqrt\n",
      "  np.sqrt(arr)\n"
     ]
    },
    {
     "data": {
      "text/plain": [
       "array([       nan, 0.        , 2.23606798,        nan,        nan,\n",
       "       1.        ])"
      ]
     },
     "execution_count": 65,
     "metadata": {},
     "output_type": "execute_result"
    }
   ],
   "source": [
    "np.sqrt(arr)"
   ]
  },
  {
   "cell_type": "code",
   "execution_count": 66,
   "id": "fc81886c",
   "metadata": {},
   "outputs": [
    {
     "data": {
      "text/plain": [
       "array([1.000e+00, 0.000e+00, 2.500e+01, 4.000e+00, 9.801e+03, 1.000e+00])"
      ]
     },
     "execution_count": 66,
     "metadata": {},
     "output_type": "execute_result"
    }
   ],
   "source": [
    "np.square(arr)"
   ]
  },
  {
   "cell_type": "code",
   "execution_count": 67,
   "id": "0faf12ef",
   "metadata": {},
   "outputs": [
    {
     "data": {
      "text/plain": [
       "array([3.67879441e-01, 1.00000000e+00, 1.48413159e+02, 1.35335283e-01,\n",
       "       1.01122149e-43, 2.71828183e+00])"
      ]
     },
     "execution_count": 67,
     "metadata": {},
     "output_type": "execute_result"
    }
   ],
   "source": [
    "np.exp(arr)"
   ]
  },
  {
   "cell_type": "code",
   "execution_count": 68,
   "id": "9073629b",
   "metadata": {},
   "outputs": [
    {
     "data": {
      "text/plain": [
       "array([-1.,  0.,  1., -1., -1.,  1.])"
      ]
     },
     "execution_count": 68,
     "metadata": {},
     "output_type": "execute_result"
    }
   ],
   "source": [
    "np.sign(arr)"
   ]
  },
  {
   "cell_type": "code",
   "execution_count": 69,
   "id": "88a3c72a",
   "metadata": {},
   "outputs": [
    {
     "name": "stderr",
     "output_type": "stream",
     "text": [
      "C:\\Users\\ing06\\AppData\\Local\\Temp\\ipykernel_304\\3120950136.py:1: RuntimeWarning: divide by zero encountered in log\n",
      "  np.log(arr)\n",
      "C:\\Users\\ing06\\AppData\\Local\\Temp\\ipykernel_304\\3120950136.py:1: RuntimeWarning: invalid value encountered in log\n",
      "  np.log(arr)\n"
     ]
    },
    {
     "data": {
      "text/plain": [
       "array([       nan,       -inf, 1.60943791,        nan,        nan,\n",
       "       0.        ])"
      ]
     },
     "execution_count": 69,
     "metadata": {},
     "output_type": "execute_result"
    }
   ],
   "source": [
    "np.log(arr)"
   ]
  },
  {
   "cell_type": "markdown",
   "id": "39ed57df",
   "metadata": {},
   "source": [
    "<b>차원 변환</b>"
   ]
  },
  {
   "cell_type": "code",
   "execution_count": 80,
   "id": "55b0b0d1",
   "metadata": {},
   "outputs": [],
   "source": [
    "even_num = np.arange(2, 25, 2)"
   ]
  },
  {
   "cell_type": "code",
   "execution_count": 81,
   "id": "d9d770b4",
   "metadata": {},
   "outputs": [
    {
     "data": {
      "text/plain": [
       "array([ 2,  4,  6,  8, 10, 12, 14, 16, 18, 20, 22, 24])"
      ]
     },
     "execution_count": 81,
     "metadata": {},
     "output_type": "execute_result"
    }
   ],
   "source": [
    "even_num"
   ]
  },
  {
   "cell_type": "code",
   "execution_count": 83,
   "id": "b38e7823",
   "metadata": {},
   "outputs": [
    {
     "data": {
      "text/plain": [
       "array([[ 2,  4],\n",
       "       [ 6,  8],\n",
       "       [10, 12],\n",
       "       [14, 16],\n",
       "       [18, 20],\n",
       "       [22, 24]])"
      ]
     },
     "execution_count": 83,
     "metadata": {},
     "output_type": "execute_result"
    }
   ],
   "source": [
    "even_num.reshape(6, -1)              # -1은 알아서 지정하라는 뜻"
   ]
  },
  {
   "cell_type": "code",
   "execution_count": 84,
   "id": "8261df2a",
   "metadata": {},
   "outputs": [
    {
     "data": {
      "text/plain": [
       "array([[ 2,  4,  6,  8, 10, 12],\n",
       "       [14, 16, 18, 20, 22, 24]])"
      ]
     },
     "execution_count": 84,
     "metadata": {},
     "output_type": "execute_result"
    }
   ],
   "source": [
    "even_num.reshape(-1, 6)"
   ]
  },
  {
   "cell_type": "code",
   "execution_count": 85,
   "id": "39080337",
   "metadata": {},
   "outputs": [
    {
     "data": {
      "text/plain": [
       "array([[[ 2,  4],\n",
       "        [ 6,  8]],\n",
       "\n",
       "       [[10, 12],\n",
       "        [14, 16]],\n",
       "\n",
       "       [[18, 20],\n",
       "        [22, 24]]])"
      ]
     },
     "execution_count": 85,
     "metadata": {},
     "output_type": "execute_result"
    }
   ],
   "source": [
    "even_num.reshape(3, 2, 2)         # 3개 층, 2행 2열"
   ]
  },
  {
   "cell_type": "code",
   "execution_count": 88,
   "id": "0d152e98",
   "metadata": {},
   "outputs": [
    {
     "data": {
      "text/plain": [
       "array([[[ 2],\n",
       "        [ 4],\n",
       "        [ 6],\n",
       "        [ 8],\n",
       "        [10],\n",
       "        [12]],\n",
       "\n",
       "       [[14],\n",
       "        [16],\n",
       "        [18],\n",
       "        [20],\n",
       "        [22],\n",
       "        [24]]])"
      ]
     },
     "execution_count": 88,
     "metadata": {},
     "output_type": "execute_result"
    }
   ],
   "source": [
    "even_num.reshape(2, 6, -1)           # 2개 층, 6행 1열"
   ]
  },
  {
   "cell_type": "code",
   "execution_count": 89,
   "id": "66785b0a",
   "metadata": {},
   "outputs": [
    {
     "data": {
      "text/plain": [
       "array([[ 2,  4,  6,  8, 10, 12],\n",
       "       [14, 16, 18, 20, 22, 24]])"
      ]
     },
     "execution_count": 89,
     "metadata": {},
     "output_type": "execute_result"
    }
   ],
   "source": [
    "even_num.reshape(-1, 6)"
   ]
  },
  {
   "cell_type": "code",
   "execution_count": 94,
   "id": "e64de13e",
   "metadata": {},
   "outputs": [
    {
     "data": {
      "text/plain": [
       "array([[ 2, 14],\n",
       "       [ 4, 16],\n",
       "       [ 6, 18],\n",
       "       [ 8, 20],\n",
       "       [10, 22],\n",
       "       [12, 24]])"
      ]
     },
     "execution_count": 94,
     "metadata": {},
     "output_type": "execute_result"
    }
   ],
   "source": [
    "even_num_t = even_num.reshape(-1, 6).T\n",
    "even_num_t"
   ]
  },
  {
   "cell_type": "code",
   "execution_count": 95,
   "id": "d024a449",
   "metadata": {},
   "outputs": [
    {
     "data": {
      "text/plain": [
       "array([ 2, 14,  4, 16,  6, 18,  8, 20, 10, 22, 12, 24])"
      ]
     },
     "execution_count": 95,
     "metadata": {},
     "output_type": "execute_result"
    }
   ],
   "source": [
    "even_num_t.flatten()"
   ]
  },
  {
   "cell_type": "code",
   "execution_count": 96,
   "id": "6dd4a6c9",
   "metadata": {},
   "outputs": [
    {
     "data": {
      "text/plain": [
       "array([ 2, 14,  4, 16,  6, 18,  8, 20, 10, 22, 12, 24])"
      ]
     },
     "execution_count": 96,
     "metadata": {},
     "output_type": "execute_result"
    }
   ],
   "source": [
    "even_num_t.ravel()"
   ]
  },
  {
   "cell_type": "code",
   "execution_count": null,
   "id": "6a9f682f",
   "metadata": {},
   "outputs": [],
   "source": []
  }
 ],
 "metadata": {
  "kernelspec": {
   "display_name": "Python 3 (ipykernel)",
   "language": "python",
   "name": "python3"
  },
  "language_info": {
   "codemirror_mode": {
    "name": "ipython",
    "version": 3
   },
   "file_extension": ".py",
   "mimetype": "text/x-python",
   "name": "python",
   "nbconvert_exporter": "python",
   "pygments_lexer": "ipython3",
   "version": "3.9.7"
  }
 },
 "nbformat": 4,
 "nbformat_minor": 5
}
